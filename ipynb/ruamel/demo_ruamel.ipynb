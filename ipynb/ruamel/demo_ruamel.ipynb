{
 "cells": [
  {
   "cell_type": "markdown",
   "metadata": {},
   "source": [
    "# [`ruamel.yaml`](https://yaml.readthedocs.io/en/latest/index.html)\n",
    "\n",
    "## [Overview](https://yaml.readthedocs.io/en/latest/overview.html)\n",
    "\n",
    "## [Install](https://yaml.readthedocs.io/en/latest/install.html)\n"
   ]
  },
  {
   "cell_type": "code",
   "execution_count": 1,
   "metadata": {},
   "outputs": [],
   "source": [
    "from __future__ import print_function\n",
    "\n",
    "import inspect\n",
    "import os\n",
    "from pathlib import Path\n",
    "import sys\n",
    "\n",
    "import ruamel.yaml\n",
    "from ruamel.yaml import YAML\n",
    "from ruamel.yaml import yaml_object\n",
    "from ruamel.yaml.compat import StringIO"
   ]
  },
  {
   "cell_type": "code",
   "execution_count": 2,
   "metadata": {},
   "outputs": [
    {
     "name": "stdout",
     "output_type": "stream",
     "text": [
      "/workspaces/ruamel_yaml/ipynb/ruamel\n"
     ]
    }
   ],
   "source": [
    "BASE_DIR = Path(os.getcwd())\n",
    "print(BASE_DIR)"
   ]
  },
  {
   "cell_type": "markdown",
   "metadata": {},
   "source": [
    "---\n",
    "\n",
    "## [Basic Usage](https://yaml.readthedocs.io/en/latest/basicuse.html)"
   ]
  },
  {
   "cell_type": "code",
   "execution_count": 3,
   "metadata": {},
   "outputs": [
    {
     "name": "stdout",
     "output_type": "stream",
     "text": [
      "demo_load() = Pass\n"
     ]
    }
   ],
   "source": [
    "def demo_load():\n",
    "    \"\"\"demo_load\"\"\"\n",
    "    doc = \"\"\"a:\\n  b: 2\\n  c: 3\\n\"\"\"\n",
    "\n",
    "    # C based SafeLoader\n",
    "    # Note: C yaml library doesn’t generate CommentTokens,\n",
    "    #  so it cannot be used to do round trip editing on comments.\n",
    "    yaml_c=YAML(typ='safe')   # default, if not specified, is 'rt' (round-trip)\n",
    "    yaml_c.load(doc)\n",
    "\n",
    "    # Python based SafeLoader\n",
    "    yaml_py=YAML(typ='safe', pure=True)\n",
    "    yaml_py.load(doc)\n",
    "\n",
    "\n",
    "if demo_load() is None:\n",
    "    print(\"demo_load() = Pass\")"
   ]
  },
  {
   "cell_type": "code",
   "execution_count": 4,
   "metadata": {},
   "outputs": [
    {
     "name": "stdout",
     "output_type": "stream",
     "text": [
      "demo_write() = Pass\n"
     ]
    }
   ],
   "source": [
    "def demo_write():\n",
    "    \"\"\"demo_write\"\"\"\n",
    "    f_yml = 'demo_write.yml'\n",
    "\n",
    "    with open(BASE_DIR / f_yml, 'w', encoding='utf-8') as file_stream:\n",
    "        yaml=YAML()\n",
    "        yaml.default_flow_style = False\n",
    "        yaml.dump({'a': [1, 2]}, file_stream)\n",
    "\n",
    "\n",
    "if demo_write() is None:\n",
    "    print(\"demo_write() = Pass\")"
   ]
  },
  {
   "cell_type": "markdown",
   "metadata": {},
   "source": [
    "---\n",
    "\n",
    "## [Dumping Python classes](https://yaml.readthedocs.io/en/latest/dumpcls.html)"
   ]
  },
  {
   "cell_type": "code",
   "execution_count": 5,
   "metadata": {},
   "outputs": [
    {
     "name": "stdout",
     "output_type": "stream",
     "text": [
      "- !User\n",
      "  name: Anthon\n",
      "  age: 18\n",
      "demo_register_class() = Pass\n"
     ]
    }
   ],
   "source": [
    "def demo_register_class():\n",
    "    \"\"\"demo_register_class\"\"\"\n",
    "    class User(object):\n",
    "        \"\"\"User\"\"\"\n",
    "        def __init__(self, name, age):\n",
    "            self.name = name\n",
    "            self.age = age\n",
    "\n",
    "    yaml = ruamel.yaml.YAML()\n",
    "    yaml.register_class(User)\n",
    "    yaml.dump([User('Anthon', 18)], sys.stdout)\n",
    "\n",
    "\n",
    "if demo_register_class() is None:\n",
    "            print(\"demo_register_class() = Pass\")    "
   ]
  },
  {
   "cell_type": "code",
   "execution_count": 6,
   "metadata": {},
   "outputs": [
    {
     "name": "stdout",
     "output_type": "stream",
     "text": [
      "demo_decorator_class() = Pass\n"
     ]
    }
   ],
   "source": [
    "def demo_decorator_class():\n",
    "    \"\"\"demo_decorator_class\n",
    "    The yaml_tag, from_yaml and to_yaml work in the same way as\n",
    "    when using .register_class()\n",
    "    \"\"\"\n",
    "    f_yml = 'demo_decorator_class.yml'\n",
    "    yaml = YAML()  # decorator, takes YAML() instance as parameter\n",
    "\n",
    "    @yaml_object(yaml)\n",
    "    class User:\n",
    "        \"\"\"User\"\"\"\n",
    "        yaml_tag = '!User'\n",
    "\n",
    "        def __init__(self, name, age):\n",
    "            self.name = name\n",
    "            self.age = age\n",
    "\n",
    "        @classmethod\n",
    "        def to_yaml(cls, representer, node):\n",
    "            \"\"\"to_yaml\"\"\"\n",
    "            return representer.represent_scalar(cls.yaml_tag,\n",
    "                                            f'{node.name}-{node.age}')\n",
    "\n",
    "        @classmethod\n",
    "        def from_yaml(cls, _constructor, node):\n",
    "            \"\"\"from_yaml\"\"\"\n",
    "            return cls(*node.value.split('-'))\n",
    "\n",
    "    with open(BASE_DIR / f_yml, 'w', encoding='utf-8') as file_stream:\n",
    "        yaml=YAML()\n",
    "        yaml.default_flow_style = False\n",
    "        yaml.dump([User('Anthon', 18)], file_stream)\n",
    "\n",
    "\n",
    "if demo_decorator_class() is None:\n",
    "            print(\"demo_decorator_class() = Pass\")"
   ]
  },
  {
   "cell_type": "markdown",
   "metadata": {},
   "source": [
    "---\n",
    "\n",
    "## [Details](https://yaml.readthedocs.io/en/latest/detail.html)"
   ]
  },
  {
   "cell_type": "code",
   "execution_count": 7,
   "metadata": {},
   "outputs": [
    {
     "name": "stdout",
     "output_type": "stream",
     "text": [
      "abc:\n",
      "- a       # comment 1\n",
      "- b       # comment 4\n",
      "xyz:\n",
      "  a: 1    # comment 2\n",
      "  b: 2\n",
      "  c: 3    # comment 5\n",
      "  d: 4              # comment 7\n",
      "  f: 6    # comment 3 test OrderDict\n",
      "  e: 5    # comment 6\n",
      "demo_roundtrip_write() = Pass\n"
     ]
    }
   ],
   "source": [
    "INP_A = \"\"\"\\\n",
    "abc:\n",
    "  - a     # comment 1\n",
    "xyz:\n",
    "  a: 1    # comment 2\n",
    "  b: 2\n",
    "  c: 3\n",
    "  d: 4\n",
    "  f: 6    # comment 3 test OrderDict\n",
    "  e: 5\n",
    "\"\"\"\n",
    "\n",
    "def demo_roundtrip_write():\n",
    "    \"\"\"\n",
    "    demo_one\n",
    "    round trip including comments\n",
    "    ref: https://yaml.readthedocs.io/en/latest/detail.html\n",
    "    \"\"\"\n",
    "    yaml = ruamel.yaml.YAML()  # defaults to round-trip\n",
    "    data = yaml.load(INP_A)\n",
    "\n",
    "    data['abc'].append('b')\n",
    "    data['abc'].yaml_add_eol_comment('comment 4', 1)    # takes column of comment 1\n",
    "\n",
    "    data['xyz'].yaml_add_eol_comment('comment 5', 'c')  # takes column of comment 2\n",
    "    data['xyz'].yaml_add_eol_comment('comment 6', 'e')  # takes column of comment 3\n",
    "    data['xyz'].yaml_add_eol_comment('comment 7', 'd', column=20)  # 20=space, 21=#, 22=msg\n",
    "\n",
    "    yaml.dump(data, sys.stdout)\n",
    "\n",
    "\n",
    "if demo_roundtrip_write() is None:\n",
    "            print(\"demo_roundtrip_write() = Pass\")\n",
    "\n",
    "OUT_A = \"\"\"\\\n",
    "abc:\n",
    "- a       # comment 1\n",
    "- b       # comment 4\n",
    "xyz:\n",
    "  a: 1    # comment 2\n",
    "  b: 2\n",
    "  c: 3    # comment 5\n",
    "  d: 4              # comment 7\n",
    "  f: 6    # comment 3 test OrderDict\n",
    "  e: 5    # comment 6\n",
    "\"\"\""
   ]
  },
  {
   "cell_type": "markdown",
   "metadata": {},
   "source": [
    "---\n",
    "\n",
    "## [Examples](https://yaml.readthedocs.io/en/latest/example.html)\n",
    "\n",
    "    demo_output_as_string()"
   ]
  },
  {
   "cell_type": "code",
   "execution_count": 8,
   "metadata": {},
   "outputs": [
    {
     "name": "stdout",
     "output_type": "stream",
     "text": [
      "# example\n",
      "name:\n",
      "  # details\n",
      "  family: Smith   # very common\n",
      "  given: Bob      # one of the siblings\n",
      "demo_basic() = Pass\n"
     ]
    }
   ],
   "source": [
    "INP_B = \"\"\"\\\n",
    "# example\n",
    "name:\n",
    "  # details\n",
    "  family: Smith   # very common\n",
    "  given: Alice    # one of the siblings\n",
    "\"\"\"\n",
    "\n",
    "def demo_basic():\n",
    "    \"\"\"demo_basic\"\"\"\n",
    "    yaml = YAML()\n",
    "    code = yaml.load(INP_B)\n",
    "    code['name']['given'] = 'Bob'\n",
    "\n",
    "    yaml.dump(code, sys.stdout)\n",
    "\n",
    "\n",
    "if demo_basic() is None:\n",
    "            print(\"demo_basic() = Pass\")"
   ]
  },
  {
   "cell_type": "markdown",
   "metadata": {},
   "source": [
    "YAML handcrafted anchors and references as well as key merging are preserved. The merged keys can transparently be accessed using [] and .get():"
   ]
  },
  {
   "cell_type": "code",
   "execution_count": 9,
   "metadata": {},
   "outputs": [
    {
     "name": "stdout",
     "output_type": "stream",
     "text": [
      "- &CENTER {x: 1, y: 2}\n",
      "- &LEFT {x: 0, y: 2}\n",
      "- &BIG {r: 10}\n",
      "- &SMALL {r: 1}\n",
      "# All the following maps are equal:\n",
      "# Explicit keys\n",
      "- x: 1\n",
      "  y: 2\n",
      "  r: 10\n",
      "  label: center/big\n",
      "# Merge one map\n",
      "- <<: *CENTER\n",
      "  r: 10\n",
      "  label: center/big\n",
      "# Merge multiple maps\n",
      "- <<: [*CENTER, *BIG]\n",
      "  label: center/big\n",
      "# Override\n",
      "- <<: [*BIG, *LEFT, *SMALL]\n",
      "  x: 1\n",
      "  label: center/big\n",
      "demo_anchors() = Pass\n"
     ]
    }
   ],
   "source": [
    "INP_C = \"\"\"\\\n",
    "- &CENTER {x: 1, y: 2}\n",
    "- &LEFT {x: 0, y: 2}\n",
    "- &BIG {r: 10}\n",
    "- &SMALL {r: 1}\n",
    "# All the following maps are equal:\n",
    "# Explicit keys\n",
    "- x: 1\n",
    "  y: 2\n",
    "  r: 10\n",
    "  label: center/big\n",
    "# Merge one map\n",
    "- <<: *CENTER\n",
    "  r: 10\n",
    "  label: center/big\n",
    "# Merge multiple maps\n",
    "- <<: [*CENTER, *BIG]\n",
    "  label: center/big\n",
    "# Override\n",
    "- <<: [*BIG, *LEFT, *SMALL]\n",
    "  x: 1\n",
    "  label: center/big\n",
    "\"\"\"\n",
    "\n",
    "def demo_anchors():\n",
    "    \"\"\"demo_anchors\"\"\"\n",
    "    yaml = YAML()\n",
    "    data = yaml.load(INP_C)\n",
    "    assert data[7]['y'] == 2\n",
    "    yaml.dump(data, sys.stdout)\n",
    "\n",
    "\n",
    "if demo_anchors() is None:\n",
    "            print(\"demo_anchors() = Pass\")"
   ]
  },
  {
   "cell_type": "code",
   "execution_count": 10,
   "metadata": {},
   "outputs": [
    {
     "name": "stdout",
     "output_type": "stream",
     "text": [
      "first_name: Art\n",
      "last name: Vandelay    # new key\n",
      "occupation: Architect  # This is an occupation comment\n",
      "about: Art Vandelay is a fictional character that George invents...\n",
      "demo_comments() = Pass\n"
     ]
    }
   ],
   "source": [
    "INP_D = \"\"\"\\\n",
    "first_name: Art\n",
    "occupation: Architect  # This is an occupation comment\n",
    "about: Art Vandelay is a fictional character that George invents...\n",
    "\"\"\"\n",
    "\n",
    "def demo_comments():\n",
    "    \"\"\"demo_comments\"\"\"\n",
    "    yaml = YAML()\n",
    "    data = yaml.load(INP_D)\n",
    "    data.insert(1, 'last name', 'Vandelay', comment=\"new key\")\n",
    "    yaml.dump(data, sys.stdout)\n",
    "\n",
    "\n",
    "if demo_comments() is None:\n",
    "            print(\"demo_comments() = Pass\")"
   ]
  },
  {
   "cell_type": "code",
   "execution_count": 11,
   "metadata": {},
   "outputs": [
    {
     "name": "stdout",
     "output_type": "stream",
     "text": [
      "- b: 2\n",
      "- - 3\n",
      "  - 4\n",
      "===============\n",
      "-\n",
      "  b: 2\n",
      "-\n",
      "  - 3\n",
      "  - 4\n",
      "demo_compact() = Pass\n"
     ]
    }
   ],
   "source": [
    "def demo_compact():\n",
    "    \"\"\"demo_compact\"\"\"\n",
    "    dict_content = [dict(b=2), [3, 4]]\n",
    "    yaml = YAML()\n",
    "    yaml.dump(dict_content, sys.stdout)\n",
    "    print('='*15)\n",
    "    yaml = YAML()\n",
    "    yaml.compact(seq_seq=False, seq_map=False)\n",
    "    yaml.dump(dict_content, sys.stdout)\n",
    "\n",
    "\n",
    "if demo_compact() is None:\n",
    "            print(\"demo_compact() = Pass\")"
   ]
  },
  {
   "cell_type": "code",
   "execution_count": 12,
   "metadata": {},
   "outputs": [
    {
     "name": "stdout",
     "output_type": "stream",
     "text": [
      "\n",
      "### 1st output ###\n",
      "---\n",
      "1:\n",
      "  1:\n",
      "  - 1: 1\n",
      "    2: 2\n",
      "  - 1: 1\n",
      "    2: 2\n",
      "  2: 2\n",
      "2: 42\n",
      "...\n",
      "### 2nd output ###\n",
      "---\n",
      "1:\n",
      "  1:\n",
      "    - 1: 1\n",
      "      2: 2\n",
      "    - 1: 1\n",
      "      2: 2\n",
      "  2: 2\n",
      "2: 42\n",
      "...\n",
      "### 3rd output ###\n",
      "---\n",
      "1:\n",
      "  1:\n",
      "    - 1: 1\n",
      "      2: 2\n",
      "    - 1: 1\n",
      "      2: 2\n",
      "  2: 2\n",
      "2: 42\n",
      "...\n",
      "demo_three_streams() = Pass\n"
     ]
    }
   ],
   "source": [
    "def demo_three_streams():\n",
    "    \"\"\"demo_three_streams\"\"\"\n",
    "    data = {1: {1: [{1: 1, 2: 2}, {1: 1, 2: 2}], 2: 2}, 2: 42}\n",
    "\n",
    "    yaml = YAML()\n",
    "    yaml.explicit_start = True\n",
    "    print(\"\\n### 1st output ###\")\n",
    "    yaml.dump(data, sys.stdout)\n",
    "\n",
    "    yaml.indent(sequence=4, offset=2)\n",
    "    print(\"...\\n### 2nd output ###\")\n",
    "    yaml.dump(data, sys.stdout)\n",
    "\n",
    "    def sequence_indent_four(file_stream):\n",
    "        # this will fail on directly nested lists: {1; [[2, 3], 4]}\n",
    "        levels = []\n",
    "        ret_val = ''\n",
    "        for line in file_stream.splitlines(True):\n",
    "            line_strip = line.lstrip()\n",
    "            indent = len(line) - len(line_strip)\n",
    "            if line_strip.startswith('- '):\n",
    "                if not levels or indent > levels[-1]:\n",
    "                    levels.append(indent)\n",
    "                elif levels:\n",
    "                    if indent < levels[-1]:\n",
    "                        levels = levels[:-1]\n",
    "                # same -> do nothing\n",
    "            else:\n",
    "                if levels:\n",
    "                    if indent <= levels[-1]:\n",
    "                        while levels and indent <= levels[-1]:\n",
    "                            levels = levels[:-1]\n",
    "            ret_val += '  ' * len(levels) + line\n",
    "        return ret_val\n",
    "\n",
    "    yaml = YAML()\n",
    "    yaml.explicit_start = True\n",
    "    print(\"...\\n### 3rd output ###\")\n",
    "    yaml.dump(data, sys.stdout, transform=sequence_indent_four)\n",
    "    print(\"...\")\n",
    "\n",
    "\n",
    "if demo_three_streams() is None:\n",
    "            print(\"demo_three_streams() = Pass\")"
   ]
  },
  {
   "cell_type": "code",
   "execution_count": 13,
   "metadata": {},
   "outputs": [
    {
     "name": "stdout",
     "output_type": "stream",
     "text": [
      "a: 1\n",
      "b: 2\n",
      "\n",
      "demo_output_as_string() = Pass\n"
     ]
    }
   ],
   "source": [
    "def demo_output_as_string():\n",
    "    \"\"\"demo_output_as_string\"\"\"\n",
    "    class MyYAML(YAML):\n",
    "        \"\"\"MyYAML\n",
    "        This class has a dump method to handle\n",
    "        \"\"\"\n",
    "        def dump(self, data, stream=None, **kw):\n",
    "            inefficient = False\n",
    "            if stream is None:\n",
    "                inefficient = True\n",
    "                stream = StringIO()\n",
    "            YAML.dump(self, data, stream, **kw)\n",
    "            if inefficient:\n",
    "                return stream.getvalue()\n",
    "\n",
    "    yaml = MyYAML()   # or typ='safe'/'unsafe' etc\n",
    "\n",
    "    print(yaml.dump(dict(a=1, b=2)))\n",
    "\n",
    "    # instead of\n",
    "    # yaml.dump((dict(a=1, b=2)), sys.stdout)\n",
    "    # print()  # or sys.stdout.write('\\n')\n",
    "\n",
    "\n",
    "if demo_output_as_string() is None:\n",
    "            print(\"demo_output_as_string() = Pass\")"
   ]
  },
  {
   "cell_type": "markdown",
   "metadata": {},
   "source": [
    "---\n",
    "\n",
    "## [Departure from previous API](https://yaml.readthedocs.io/en/latest/api.html)\n",
    "\n",
    "__WIP__\n"
   ]
  },
  {
   "cell_type": "code",
   "execution_count": 14,
   "metadata": {},
   "outputs": [],
   "source": [
    "from pathlib import Path\n",
    "from ruamel.yaml import YAML\n",
    "\n",
    "yaml = YAML(typ='safe')\n",
    "yaml.default_flow_style = False\n",
    "data = yaml.load(\"abc: 1\")\n",
    "out = Path('/tmp/out.yaml')\n",
    "yaml.dump(data, out)"
   ]
  },
  {
   "cell_type": "markdown",
   "metadata": {},
   "source": [
    "### Loading"
   ]
  },
  {
   "cell_type": "markdown",
   "metadata": {},
   "source": [
    "```python\n",
    "yaml = ruamel.yaml.YAML()\n",
    "yaml.allow_duplicate_keys = True\n",
    "yaml.load(stream)\n",
    "```"
   ]
  },
  {
   "cell_type": "markdown",
   "metadata": {},
   "source": [
    "### Dumping a multi-documents YAML stream"
   ]
  },
  {
   "cell_type": "code",
   "execution_count": 15,
   "metadata": {},
   "outputs": [],
   "source": [
    "MULTI_DOC = \"\"\"\\\n",
    "abc:\n",
    "  - a     # comment 1\n",
    "\n",
    "---\n",
    "\n",
    "xyz:\n",
    "  a: 1    # comment 2\n",
    "  b: 2\n",
    "  c: 3\n",
    "  d: 4\n",
    "  f: 6    # comment 3 test OrderDict\n",
    "  e: 5\n",
    "\"\"\""
   ]
  },
  {
   "cell_type": "code",
   "execution_count": 16,
   "metadata": {},
   "outputs": [
    {
     "name": "stdout",
     "output_type": "stream",
     "text": [
      "abc:\n",
      "- a       # comment 1\n",
      "\n",
      "---\n",
      "\n",
      "xyz:\n",
      "  a: 1    # comment 2\n",
      "  b: 2\n",
      "  c: 3\n",
      "  d: 4\n",
      "  f: 6    # comment 3 test OrderDict\n",
      "  e: 5\n"
     ]
    }
   ],
   "source": [
    "yaml = YAML()\n",
    "data = list(yaml.load_all(MULTI_DOC))\n",
    "# do something on data[0], data[1], etc.\n",
    "yaml.dump_all(data, sys.stdout)"
   ]
  },
  {
   "cell_type": "markdown",
   "metadata": {},
   "source": [
    "with YAML(output=sys.stdout) as yaml:\n",
    "        yaml.explicit_start = True\n",
    "        for data in yaml.load_all(Path(multi_document_filename)):\n",
    "            # do something on data\n",
    "            yaml.dump(data)"
   ]
  },
  {
   "cell_type": "markdown",
   "metadata": {},
   "source": [
    "list_of_filenames = ['x.yaml', 'y.yaml', ]\n",
    "with YAML(output=sys.stdout) as yaml:\n",
    "        yaml.explicit_start = True\n",
    "        for path in list_of_filenames:\n",
    "            with open(path) as fp:\n",
    "                yaml.dump(yaml.load(fp))"
   ]
  },
  {
   "cell_type": "markdown",
   "metadata": {},
   "source": [
    "### Dumping"
   ]
  },
  {
   "cell_type": "code",
   "execution_count": null,
   "metadata": {},
   "outputs": [],
   "source": []
  },
  {
   "cell_type": "code",
   "execution_count": null,
   "metadata": {},
   "outputs": [],
   "source": []
  },
  {
   "cell_type": "markdown",
   "metadata": {},
   "source": [
    "# in myyaml.py\n",
    "if ruamel.yaml.version_info < (0, 15):\n",
    "    class MyYAML(yaml.YAML):\n",
    "        def __init__(self):\n",
    "            yaml.YAML.__init__(self)\n",
    "            self.preserve_quotes = True\n",
    "            self.indent(mapping=4, sequence=4, offset=2)\n",
    "# in your code\n",
    "try:\n",
    "    from myyaml import MyYAML\n",
    "except (ModuleNotFoundError, ImportError):\n",
    "    if ruamel.yaml.version_info >= (0, 15):\n",
    "        raise\n",
    "\n",
    "# some pathlib.Path\n",
    "from pathlib import Path\n",
    "inf = Path('/tmp/in.yaml')\n",
    "outf = Path('/tmp/out.yaml')\n",
    "\n",
    "if ruamel.yaml.version_info < (0, 15):\n",
    "    with inf.open() as ifp:\n",
    "         data = yaml.round_trip_load(ifp, preserve_quotes=True)\n",
    "    with outf.open('w') as ofp:\n",
    "         yaml.round_trip_dump(data, ofp, indent=4, block_seq_indent=2)\n",
    "else:\n",
    "    yml = MyYAML()\n",
    "    # no need for with statement when using pathlib.Path instances\n",
    "    data = yml.load(inf)\n",
    "    yml.dump(data, outf)"
   ]
  }
 ],
 "metadata": {
  "interpreter": {
   "hash": "949777d72b0d2535278d3dc13498b2535136f6dfe0678499012e853ee9abcab1"
  },
  "kernelspec": {
   "display_name": "Python 3.10.2 64-bit",
   "language": "python",
   "name": "python3"
  },
  "language_info": {
   "codemirror_mode": {
    "name": "ipython",
    "version": 3
   },
   "file_extension": ".py",
   "mimetype": "text/x-python",
   "name": "python",
   "nbconvert_exporter": "python",
   "pygments_lexer": "ipython3",
   "version": "3.10.4"
  },
  "orig_nbformat": 4
 },
 "nbformat": 4,
 "nbformat_minor": 2
}
