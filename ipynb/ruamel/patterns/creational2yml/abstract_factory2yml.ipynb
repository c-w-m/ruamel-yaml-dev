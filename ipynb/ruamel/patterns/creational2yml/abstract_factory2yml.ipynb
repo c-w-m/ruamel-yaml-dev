{
 "cells": [
  {
   "cell_type": "markdown",
   "metadata": {},
   "source": [
    "![](img/abstract_factory.py.png)\n",
    "\n",
    "---"
   ]
  },
  {
   "cell_type": "markdown",
   "metadata": {},
   "source": [
    "\"\"\"\n",
    "*What is this pattern about?\n",
    "\n",
    "In Java and other languages, the Abstract Factory Pattern serves to provide an interface for\n",
    "creating related/dependent objects without need to specify their\n",
    "actual class.\n",
    "\n",
    "The idea is to abstract the creation of objects depending on business\n",
    "logic, platform choice, etc.\n",
    "\n",
    "In Python, the interface we use is simply a callable, which is \"builtin\" interface\n",
    "in Python, and in normal circumstances we can simply use the class itself as\n",
    "that callable, because classes are first class objects in Python.\n",
    "\n",
    "*What does this example do?\n",
    "This particular implementation abstracts the creation of a pet and\n",
    "does so depending on the factory we chose (Dog or Cat, or random_animal)\n",
    "This works because both Dog/Cat and random_animal respect a common\n",
    "interface (callable for creation and .speak()).\n",
    "Now my application can create pets abstractly and decide later,\n",
    "based on my own criteria, dogs over cats.\n",
    "\n",
    "*Where is the pattern used practically?\n",
    "\n",
    "*References:\n",
    "https://sourcemaking.com/design_patterns/abstract_factory\n",
    "http://ginstrom.com/scribbles/2007/10/08/design-patterns-python-style/\n",
    "\n",
    "*TL;DR\n",
    "Provides a way to encapsulate a group of individual factories.\n",
    "\"\"\""
   ]
  },
  {
   "cell_type": "code",
   "execution_count": 9,
   "metadata": {},
   "outputs": [],
   "source": [
    "import random\n",
    "import ruamel.yaml\n",
    "from typing import Type\n",
    "\n",
    "yaml = ruamel.yaml.YAML()"
   ]
  },
  {
   "cell_type": "code",
   "execution_count": 10,
   "metadata": {},
   "outputs": [],
   "source": [
    "class Pet:\n",
    "    def __init__(self, name: str) -> None:\n",
    "        self.name = name\n",
    "\n",
    "    def speak(self) -> None:\n",
    "        raise NotImplementedError\n",
    "\n",
    "    def __str__(self) -> str:\n",
    "        raise NotImplementedError\n",
    "\n",
    "\n",
    "class Dog(Pet):\n",
    "    def speak(self) -> None:\n",
    "        print(\"woof\")\n",
    "\n",
    "    def __str__(self) -> str:\n",
    "        return f\"Dog<{self.name}>\"\n",
    "\n",
    "\n",
    "class Cat(Pet):\n",
    "    def speak(self) -> None:\n",
    "        print(\"meow\")\n",
    "\n",
    "    def __str__(self) -> str:\n",
    "        return f\"Cat<{self.name}>\"\n",
    "\n",
    "\n",
    "class PetShop:\n",
    "\n",
    "    \"\"\"A pet shop\"\"\"\n",
    "\n",
    "    def __init__(self, animal_factory: Type[Pet]) -> None:\n",
    "        \"\"\"pet_factory is our abstract factory.  We can set it at will.\"\"\"\n",
    "\n",
    "        self.pet_factory = animal_factory\n",
    "\n",
    "    def buy_pet(self, name: str) -> Pet:\n",
    "        \"\"\"Creates and shows a pet using the abstract factory\"\"\"\n",
    "\n",
    "        pet = self.pet_factory(name)\n",
    "        print(f\"Here is your lovely {pet}\")\n",
    "        return pet\n",
    "\n",
    "\n",
    "# Additional factories:\n",
    "\n",
    "# Create a random animal\n",
    "def random_animal(name: str) -> Pet:\n",
    "    \"\"\"Let's be dynamic!\"\"\"\n",
    "    return random.choice([Dog, Cat])(name)"
   ]
  },
  {
   "cell_type": "code",
   "execution_count": 19,
   "metadata": {},
   "outputs": [],
   "source": [
    "# Show pets with various factories\n",
    "def main() -> None:\n",
    "    yaml.register_class(Dog)\n",
    "    yaml.register_class(Cat)\n",
    "\n",
    "    # A Shop that sells only cats\n",
    "    cat_shop = PetShop(Cat)\n",
    "    pet = cat_shop.buy_pet(\"Lucy\")\n",
    "    # Here is your lovely Cat<Lucy>\n",
    "    pet.speak()\n",
    "    # meow\n",
    "\n",
    "    # A shop that sells random animals\n",
    "    shop = PetShop(random_animal)\n",
    "    for name in [\"Max\", \"Jack\", \"Buddy\"]:\n",
    "       pet = shop.buy_pet(name)\n",
    "       pet.speak()\n",
    "       yaml.dump([pet], sys.stdout)\n",
    "       print(\"=\" * 20)\n",
    "   \n",
    "    # Here is your lovely Cat<Max>\n",
    "    # meow\n",
    "    # ====================\n",
    "    # Here is your lovely Dog<Jack>\n",
    "    # woof\n",
    "    # ====================\n",
    "    # Here is your lovely Dog<Buddy>\n",
    "    # woof\n",
    "    # ===================="
   ]
  },
  {
   "cell_type": "code",
   "execution_count": 20,
   "metadata": {},
   "outputs": [
    {
     "name": "stdout",
     "output_type": "stream",
     "text": [
      "Here is your lovely Cat<Lucy>\n",
      "meow\n",
      "Here is your lovely Dog<Max>\n",
      "woof\n",
      "---\n",
      "- !Dog\n",
      "  name: Max\n",
      "====================\n",
      "Here is your lovely Dog<Jack>\n",
      "woof\n",
      "---\n",
      "- !Dog\n",
      "  name: Jack\n",
      "====================\n",
      "Here is your lovely Cat<Buddy>\n",
      "meow\n",
      "---\n",
      "- !Cat\n",
      "  name: Buddy\n",
      "====================\n"
     ]
    }
   ],
   "source": [
    "main()"
   ]
  }
 ],
 "metadata": {
  "interpreter": {
   "hash": "949777d72b0d2535278d3dc13498b2535136f6dfe0678499012e853ee9abcab1"
  },
  "kernelspec": {
   "display_name": "Python 3.10.2 64-bit",
   "language": "python",
   "name": "python3"
  },
  "language_info": {
   "codemirror_mode": {
    "name": "ipython",
    "version": 3
   },
   "file_extension": ".py",
   "mimetype": "text/x-python",
   "name": "python",
   "nbconvert_exporter": "python",
   "pygments_lexer": "ipython3",
   "version": "3.10.4"
  },
  "orig_nbformat": 4
 },
 "nbformat": 4,
 "nbformat_minor": 2
}
