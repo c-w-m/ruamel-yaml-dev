{
 "cells": [
  {
   "cell_type": "markdown",
   "metadata": {},
   "source": [
    "![](img/builder.py.png)\n",
    "\n",
    "---"
   ]
  },
  {
   "cell_type": "markdown",
   "metadata": {},
   "source": [
    "\"\"\"\n",
    "*What is this pattern about?\n",
    "It decouples the creation of a complex object and its representation,\n",
    "so that the same process can be reused to build objects from the same\n",
    "family.\n",
    "This is useful when you must separate the specification of an object\n",
    "from its actual representation (generally for abstraction).\n",
    "\n",
    "*What does this example do?\n",
    "\n",
    "The first example achieves this by using an abstract base\n",
    "class for a building, where the initializer (__init__ method) specifies the\n",
    "steps needed, and the concrete subclasses implement these steps.\n",
    "\n",
    "In other programming languages, a more complex arrangement is sometimes\n",
    "necessary. In particular, you cannot have polymorphic behaviour in a constructor in C++ -\n",
    "see https://stackoverflow.com/questions/1453131/how-can-i-get-polymorphic-behavior-in-a-c-constructor\n",
    "- which means this Python technique will not work. The polymorphism\n",
    "required has to be provided by an external, already constructed\n",
    "instance of a different class.\n",
    "\n",
    "In general, in Python this won't be necessary, but a second example showing\n",
    "this kind of arrangement is also included.\n",
    "\n",
    "*Where is the pattern used practically?\n",
    "\n",
    "*References:\n",
    "https://sourcemaking.com/design_patterns/builder\n",
    "\n",
    "*TL;DR\n",
    "Decouples the creation of a complex object and its representation.\n",
    "\"\"\""
   ]
  },
  {
   "cell_type": "code",
   "execution_count": 3,
   "metadata": {},
   "outputs": [],
   "source": [
    "import ruamel.yaml\n",
    "\n",
    "yaml = ruamel.yaml.YAML()"
   ]
  },
  {
   "cell_type": "code",
   "execution_count": 4,
   "metadata": {},
   "outputs": [],
   "source": [
    "# Abstract Building\n",
    "class Building:\n",
    "    def __init__(self):\n",
    "        self.build_floor()\n",
    "        self.build_size()\n",
    "\n",
    "    def build_floor(self):\n",
    "        raise NotImplementedError\n",
    "\n",
    "    def build_size(self):\n",
    "        raise NotImplementedError\n",
    "\n",
    "    def __repr__(self):\n",
    "        return \"Floor: {0.floor} | Size: {0.size}\".format(self)\n",
    "\n",
    "\n",
    "# Concrete Buildings\n",
    "class House(Building):\n",
    "    def build_floor(self):\n",
    "        self.floor = \"One\"\n",
    "\n",
    "    def build_size(self):\n",
    "        self.size = \"Big\"\n",
    "\n",
    "\n",
    "class Flat(Building):\n",
    "    def build_floor(self):\n",
    "        self.floor = \"More than One\"\n",
    "\n",
    "    def build_size(self):\n",
    "        self.size = \"Small\""
   ]
  },
  {
   "cell_type": "code",
   "execution_count": 5,
   "metadata": {},
   "outputs": [],
   "source": [
    "# In some very complex cases, it might be desirable to pull out the building\n",
    "# logic into another function (or a method on another class), rather than being\n",
    "# in the base class '__init__'. (This leaves you in the strange situation where\n",
    "# a concrete class does not have a useful constructor)\n",
    "\n",
    "\n",
    "class ComplexBuilding:\n",
    "    def __repr__(self):\n",
    "        return \"Floor: {0.floor} | Size: {0.size}\".format(self)\n",
    "\n",
    "\n",
    "class ComplexHouse(ComplexBuilding):\n",
    "    def build_floor(self):\n",
    "        self.floor = \"One\"\n",
    "\n",
    "    def build_size(self):\n",
    "        self.size = \"Big and fancy\"\n",
    "\n",
    "\n",
    "def construct_building(cls):\n",
    "    building = cls()\n",
    "    building.build_floor()\n",
    "    building.build_size()\n",
    "    return building"
   ]
  },
  {
   "cell_type": "code",
   "execution_count": 18,
   "metadata": {},
   "outputs": [],
   "source": [
    "def main():\n",
    "    yaml.register_class(House)\n",
    "    yaml.register_class(Flat)\n",
    "    yaml.register_class(ComplexHouse)\n",
    "    \n",
    "    house = House()\n",
    "    print(f'house = \\n{house}')\n",
    "    # Floor: One | Size: Big\n",
    "    yaml.dump([house], sys.stdout)    \n",
    "\n",
    "    flat = Flat()\n",
    "    print(f'flat = \\n{flat}')\n",
    "    # Floor: More than One | Size: Small\n",
    "    yaml.dump([flat], sys.stdout)\n",
    "\n",
    "    # Using an external constructor function:\n",
    "    complex_house = construct_building(ComplexHouse)\n",
    "    print(f'complex_house = \\n{complex_house}')\n",
    "    # Floor: One | Size: Big and fancy\n",
    "    yaml.dump([complex_house], sys.stdout)\n",
    "    "
   ]
  },
  {
   "cell_type": "code",
   "execution_count": 19,
   "metadata": {},
   "outputs": [
    {
     "name": "stdout",
     "output_type": "stream",
     "text": [
      "house = \n",
      "Floor: One | Size: Big\n",
      "- !House\n",
      "  floor: One\n",
      "  size: Big\n",
      "flat = \n",
      "Floor: More than One | Size: Small\n",
      "- !Flat\n",
      "  floor: More than One\n",
      "  size: Small\n",
      "complex_house = \n",
      "Floor: One | Size: Big and fancy\n",
      "- !ComplexHouse\n",
      "  floor: One\n",
      "  size: Big and fancy\n"
     ]
    }
   ],
   "source": [
    "main()"
   ]
  }
 ],
 "metadata": {
  "interpreter": {
   "hash": "949777d72b0d2535278d3dc13498b2535136f6dfe0678499012e853ee9abcab1"
  },
  "kernelspec": {
   "display_name": "Python 3.10.2 64-bit",
   "language": "python",
   "name": "python3"
  },
  "language_info": {
   "codemirror_mode": {
    "name": "ipython",
    "version": 3
   },
   "file_extension": ".py",
   "mimetype": "text/x-python",
   "name": "python",
   "nbconvert_exporter": "python",
   "pygments_lexer": "ipython3",
   "version": "3.10.4"
  },
  "orig_nbformat": 4
 },
 "nbformat": 4,
 "nbformat_minor": 2
}
