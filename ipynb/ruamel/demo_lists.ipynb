{
 "cells": [
  {
   "cell_type": "markdown",
   "metadata": {},
   "source": [
    "File: demo_list.py\n",
    "Desc: building a yaml file from scratch\n",
    "Ref:\n",
    "- Writing YAML files with python\n",
    "  https://towardsdatascience.com/writing-yaml-files-with-python-a6a7fc6ed6c3)\n",
    "\n",
    "We are going to modify the work in this blog to accommodate `jupyter notebook` behavior.\n",
    "\n",
    "IMPORTS\n",
    "```python\n",
    "# Regular imports\n",
    "from copy import deepcopy\n",
    "\n",
    "# Yaml loaders and dumpers\n",
    "from ruamel.yaml.main import \\\n",
    "    round_trip_load as yaml_load, \\\n",
    "    round_trip_dump as yaml_dump\n",
    "\n",
    "# Yaml commentary\n",
    "from ruamel.yaml.comments import \\\n",
    "    CommentedMap as OrderedDict, \\\n",
    "    CommentedSeq as OrderedList\n",
    "\n",
    "# For manual creation of tokens\n",
    "from ruamel.yaml.tokens import CommentToken\n",
    "from ruamel.yaml.error import CommentMark\n",
    "\n",
    "# Globals\n",
    "# Number of spaces for an indent\n",
    "INDENTATION = 2\n",
    "\n",
    "# Used to reset comment objects\n",
    "tsRESET_COMMENT_LIST = [None, [], None, None]\n",
    "```"
   ]
  },
  {
   "cell_type": "code",
   "execution_count": 1,
   "metadata": {},
   "outputs": [],
   "source": [
    "# ===================================================================\n",
    "# Regular imports\n",
    "import inspect\n",
    "import os\n",
    "import pprint as pp\n",
    "import sys\n",
    "\n",
    "import ruamel.yaml\n",
    "import ruamel.yaml.comments as r_cmts\n",
    "\n",
    "# Yaml loaders and dumpers\n",
    "from ruamel.yaml.main import round_trip_load as yaml_load\n",
    "from ruamel.yaml.main import round_trip_dump as yaml_dump\n",
    "\n",
    "# Yaml commentary\n",
    "from ruamel.yaml.comments import \\\n",
    "    CommentedMap as OrderedDict, \\\n",
    "    CommentedSeq as OrderedList\n",
    "\n",
    "assert ruamel.yaml.version_info >= (0, 12, 14)\n",
    "\n",
    "# Globals\n",
    "# Number of spaces for an indent\n",
    "INDENTATION = 2\n",
    "# Used to reset comment objects\n",
    "tsRESET_COMMENT_LIST = [None, [], None, None]\n",
    "# ==================================================================="
   ]
  },
  {
   "cell_type": "markdown",
   "metadata": {},
   "source": [
    "---"
   ]
  },
  {
   "cell_type": "code",
   "execution_count": 2,
   "metadata": {},
   "outputs": [
    {
     "name": "stdout",
     "output_type": "stream",
     "text": [
      "%YAML 1.2\n",
      "---\n",
      "[2, 3, 4]:\n",
      "  a:\n",
      "  - 1\n",
      "  - 2\n",
      "  b: Hello World!\n",
      "  c: 'Voilà!'\n",
      "demo_hello_world() = Pass\n"
     ]
    }
   ],
   "source": [
    "def demo_hello_world():\n",
    "    \"\"\"demo_hello_world\"\"\"\n",
    "    data = r_cmts.CommentedMap()\n",
    "    data[r_cmts.CommentedKeySeq((2, 3, 4))] = lst = r_cmts.CommentedMap()\n",
    "    lst['a'] = [1, 2]\n",
    "    lst['b'] = 'Hello World!'\n",
    "    lst['c'] = ruamel.yaml.scalarstring.SingleQuotedScalarString('Voilà!')\n",
    "\n",
    "    ruamel.yaml.round_trip_dump(data, sys.stdout, explicit_start=True, version=(1, 2))\n",
    "\n",
    "\n",
    "if demo_hello_world() is None:\n",
    "    print(\"demo_hello_world() = Pass\")"
   ]
  },
  {
   "cell_type": "markdown",
   "metadata": {},
   "source": [
    "---"
   ]
  },
  {
   "cell_type": "code",
   "execution_count": 3,
   "metadata": {},
   "outputs": [
    {
     "name": "stdout",
     "output_type": "stream",
     "text": [
      "ordereddict([('employees', [ordereddict([('name', 'Jeffrey Bezos'), ('job title', 'CEO'), ('annual salary (USD)', 1000000000000)]), ordereddict([('name', 'John Smith'), ('job title', 'factory worker'), ('annual salary (USD)', 20000)])])])\n",
      "Type: <class 'ruamel.yaml.comments.CommentedMap'>\n",
      "demo_employee_dict() = Pass\n"
     ]
    }
   ],
   "source": [
    "EMPLOYEES_DICT = \"\"\"\\\n",
    "employees:\n",
    "  # Start with CEO\n",
    "  - name: Jeffrey Bezos  # Goes by Jeff\n",
    "    job title: CEO # / Entrepreneur, born in 1964...\n",
    "    annual salary (USD): 1000000000000  # This is too much\n",
    "  # List of factory workers below\n",
    "  - name: John Smith\n",
    "    job title: factory worker\n",
    "    annual salary (USD): 20000  # Probably deserves a raise\n",
    "\"\"\"\n",
    "\n",
    "def demo_employee_dict():\n",
    "    \"\"\"demo_employee_dict\"\"\"\n",
    "    employees_dict = yaml_load(EMPLOYEES_DICT)\n",
    "    print(employees_dict)\n",
    "    print(f\"Type: {type(employees_dict)}\")\n",
    "\n",
    "\n",
    "if demo_employee_dict() is None:\n",
    "    print(\"demo_employee_dict() = Pass\")"
   ]
  },
  {
   "cell_type": "markdown",
   "metadata": {},
   "source": [
    "---"
   ]
  },
  {
   "cell_type": "code",
   "execution_count": 4,
   "metadata": {},
   "outputs": [
    {
     "name": "stdout",
     "output_type": "stream",
     "text": [
      "shopping_list = \n",
      "(\"ordereddict([('Shopping List', ordereddict([('eggs', ordereddict([('type', \"\n",
      " \"'free range'), ('brand', 'Mr Tweedy'), ('amount', 12)])), ('milk', \"\n",
      " \"ordereddict([('type', 'pasteurized'), ('litres', 1.5), ('brands', \"\n",
      " \"['FarmFresh', 'FarmHouse gold', 'Daisy The Cow'])]))]))])\")\n",
      "\n",
      "shopping_list[Shopping List] = \n",
      "(\"ordereddict([('eggs', ordereddict([('type', 'free range'), ('brand', 'Mr \"\n",
      " \"Tweedy'), ('amount', 12)])), ('milk', ordereddict([('type', 'pasteurized'), \"\n",
      " \"('litres', 1.5), ('brands', ['FarmFresh', 'FarmHouse gold', 'Daisy The \"\n",
      " \"Cow'])]))])\")\n",
      "\n",
      "Shopping List:\n",
      "  eggs:\n",
      "    type: free range\n",
      "    brand: Mr Tweedy\n",
      "    amount: 12\n",
      "  milk:\n",
      "    type: pasteurized\n",
      "    litres: 1.5\n",
      "    brands:\n",
      "    - FarmFresh\n",
      "    - FarmHouse gold\n",
      "    - Daisy The Cow\n",
      "\n",
      "demo_shopping_list() = Pass\n"
     ]
    }
   ],
   "source": [
    "def demo_shopping_list():\n",
    "    \"\"\"demo_shopping_list\"\"\"\n",
    "    # using ruamel alias 'CommentedMap as OrderedDict'\n",
    "    #                and 'CommentedSeq as OrderedList'\n",
    "    shopping_list = OrderedDict({\n",
    "        \"Shopping List\": OrderedDict({\n",
    "            \"eggs\": OrderedDict({\n",
    "                \"type\": \"free range\",\n",
    "                \"brand\": \"Mr Tweedy\",\n",
    "                \"amount\": 12\n",
    "            }),\n",
    "            \"milk\": OrderedDict({\n",
    "                \"type\": \"pasteurized\",\n",
    "                \"litres\": 1.5,\n",
    "                \"brands\": OrderedList([\n",
    "                    \"FarmFresh\",\n",
    "                    \"FarmHouse gold\",\n",
    "                    \"Daisy The Cow\"\n",
    "                ])\n",
    "            })\n",
    "        })\n",
    "    })\n",
    "\n",
    "    print('shopping_list = ')\n",
    "    pp.pprint(f'{shopping_list}')\n",
    "    \n",
    "    print(\"\")\n",
    "    print('shopping_list[Shopping List] = ')\n",
    "    pp.pprint(f'{shopping_list[\"Shopping List\"]}')\n",
    "    \n",
    "    print(\"\")\n",
    "    # Dump the yaml file, without the ordereddict and dictionary brackets\n",
    "    print(yaml_dump(shopping_list))\n",
    "\n",
    "\n",
    "if demo_shopping_list() is None:\n",
    "    print(\"demo_shopping_list() = Pass\")"
   ]
  }
 ],
 "metadata": {
  "interpreter": {
   "hash": "949777d72b0d2535278d3dc13498b2535136f6dfe0678499012e853ee9abcab1"
  },
  "kernelspec": {
   "display_name": "Python 3.10.2 64-bit",
   "language": "python",
   "name": "python3"
  },
  "language_info": {
   "codemirror_mode": {
    "name": "ipython",
    "version": 3
   },
   "file_extension": ".py",
   "mimetype": "text/x-python",
   "name": "python",
   "nbconvert_exporter": "python",
   "pygments_lexer": "ipython3",
   "version": "3.10.4"
  },
  "orig_nbformat": 4
 },
 "nbformat": 4,
 "nbformat_minor": 2
}
