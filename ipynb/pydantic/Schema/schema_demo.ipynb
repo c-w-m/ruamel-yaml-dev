{
 "cells": [
  {
   "cell_type": "markdown",
   "metadata": {},
   "source": [
    "# [Schema](https://pydantic-docs.helpmanual.io/usage/schema/#field-customisation) Demo\n",
    "\n",
    "Pydantic allows auto creation of JSON Schemas from models:"
   ]
  },
  {
   "cell_type": "code",
   "execution_count": 1,
   "metadata": {},
   "outputs": [
    {
     "name": "stdout",
     "output_type": "stream",
     "text": [
      "{\n",
      "  \"title\": \"Main\",\n",
      "  \"description\": \"This is the description of the main model\",\n",
      "  \"type\": \"object\",\n",
      "  \"properties\": {\n",
      "    \"foo_bar\": {\n",
      "      \"$ref\": \"#/definitions/FooBar\"\n",
      "    },\n",
      "    \"Gender\": {\n",
      "      \"$ref\": \"#/definitions/Gender\"\n",
      "    },\n",
      "    \"snap\": {\n",
      "      \"title\": \"The Snap\",\n",
      "      \"description\": \"this is the value of snap\",\n",
      "      \"default\": 42,\n",
      "      \"exclusiveMinimum\": 30,\n",
      "      \"exclusiveMaximum\": 50,\n",
      "      \"type\": \"integer\"\n",
      "    }\n",
      "  },\n",
      "  \"required\": [\n",
      "    \"foo_bar\"\n",
      "  ],\n",
      "  \"definitions\": {\n",
      "    \"FooBar\": {\n",
      "      \"title\": \"FooBar\",\n",
      "      \"type\": \"object\",\n",
      "      \"properties\": {\n",
      "        \"count\": {\n",
      "          \"title\": \"Count\",\n",
      "          \"type\": \"integer\"\n",
      "        },\n",
      "        \"size\": {\n",
      "          \"title\": \"Size\",\n",
      "          \"type\": \"number\"\n",
      "        }\n",
      "      },\n",
      "      \"required\": [\n",
      "        \"count\"\n",
      "      ]\n",
      "    },\n",
      "    \"Gender\": {\n",
      "      \"title\": \"Gender\",\n",
      "      \"description\": \"An enumeration.\",\n",
      "      \"enum\": [\n",
      "        \"male\",\n",
      "        \"female\",\n",
      "        \"other\",\n",
      "        \"not_given\"\n",
      "      ],\n",
      "      \"type\": \"string\"\n",
      "    }\n",
      "  }\n",
      "}\n"
     ]
    }
   ],
   "source": [
    "from enum import Enum\n",
    "from pydantic import BaseModel, Field\n",
    "\n",
    "\n",
    "class FooBar(BaseModel):\n",
    "    count: int\n",
    "    size: float = None\n",
    "\n",
    "\n",
    "class Gender(str, Enum):\n",
    "    male = 'male'\n",
    "    female = 'female'\n",
    "    other = 'other'\n",
    "    not_given = 'not_given'\n",
    "\n",
    "\n",
    "class MainModel(BaseModel):\n",
    "    \"\"\"\n",
    "    This is the description of the main model\n",
    "    \"\"\"\n",
    "\n",
    "    foo_bar: FooBar = Field(...)\n",
    "    gender: Gender = Field(None, alias='Gender')\n",
    "    snap: int = Field(\n",
    "        42,\n",
    "        title='The Snap',\n",
    "        description='this is the value of snap',\n",
    "        gt=30,\n",
    "        lt=50,\n",
    "    )\n",
    "\n",
    "    class Config:\n",
    "        title = 'Main'\n",
    "\n",
    "\n",
    "# this is equivalent to json.dumps(MainModel.schema(), indent=2):\n",
    "print(MainModel.schema_json(indent=2))\n"
   ]
  },
  {
   "cell_type": "code",
   "execution_count": null,
   "metadata": {},
   "outputs": [],
   "source": []
  },
  {
   "cell_type": "code",
   "execution_count": null,
   "metadata": {},
   "outputs": [],
   "source": []
  },
  {
   "cell_type": "code",
   "execution_count": null,
   "metadata": {},
   "outputs": [],
   "source": []
  }
 ],
 "metadata": {
  "interpreter": {
   "hash": "949777d72b0d2535278d3dc13498b2535136f6dfe0678499012e853ee9abcab1"
  },
  "kernelspec": {
   "display_name": "Python 3.10.2 64-bit",
   "language": "python",
   "name": "python3"
  },
  "language_info": {
   "codemirror_mode": {
    "name": "ipython",
    "version": 3
   },
   "file_extension": ".py",
   "mimetype": "text/x-python",
   "name": "python",
   "nbconvert_exporter": "python",
   "pygments_lexer": "ipython3",
   "version": "3.10.2"
  },
  "orig_nbformat": 4
 },
 "nbformat": 4,
 "nbformat_minor": 2
}
