{
 "cells": [
  {
   "cell_type": "markdown",
   "metadata": {},
   "source": [
    "# [Exporting models](https://pydantic-docs.helpmanual.io/usage/exporting_models/)\n",
    "\n",
    "> Note:\n",
    ">\n",
    "> These are not in the same order as seen on the docs wiki rather they are\n",
    "> in alphabetical order as found at `../../docs/examples/exporting_*.py`\n",
    "\n",
    "---\n",
    "\n",
    "## model.dict(...)\n",
    "This is the primary way of converting a model to a dictionary. Sub-models will be recursively converted to dictionaries.\n",
    "\n",
    "Arguments:\n",
    "\n",
    "- `include`: fields to include in the returned dictionary; see [below](https://pydantic-docs.helpmanual.io/usage/exporting_models/#advanced-include-and-exclude)\n",
    "- `exclude`: fields to exclude from the returned dictionary; see [below](https://pydantic-docs.helpmanual.io/usage/exporting_models/#advanced-include-and-exclude)\n",
    "- `by_alias`: whether field aliases should be used as keys in the returned dictionary; default `False`\n",
    "- `exclude_unset`: whether fields which were not explicitly set when creating the model should be excluded from the returned dictionary; default `False`. Prior to v1.0, `exclude_unset` was known as `skip_defaults`; use of `skip_defaults` is now deprecated\n",
    "- `exclude_defaults`: whether fields which are equal to their default values (whether set or otherwise) should be excluded from the returned dictionary; default `False`\n",
    "- `exclude_none`: whether fields which are equal to `None` should be excluded from the returned dictionary; default `False`\n",
    "\n",
    "Example:"
   ]
  },
  {
   "cell_type": "code",
   "execution_count": 1,
   "metadata": {},
   "outputs": [
    {
     "name": "stdout",
     "output_type": "stream",
     "text": [
      "{'banana': 3.14, 'foo': 'hello', 'bar': {'whatever': 123}}\n",
      "{'foo': 'hello', 'bar': {'whatever': 123}}\n",
      "{'banana': 3.14}\n"
     ]
    }
   ],
   "source": [
    "# %load ../docs/examples/exporting_models_dict.py\n",
    "from pydantic import BaseModel\n",
    "\n",
    "\n",
    "class BarModel(BaseModel):\n",
    "    whatever: int\n",
    "\n",
    "\n",
    "class FooBarModel(BaseModel):\n",
    "    banana: float\n",
    "    foo: str\n",
    "    bar: BarModel\n",
    "\n",
    "\n",
    "m = FooBarModel(banana=3.14, foo='hello', bar={'whatever': 123})\n",
    "\n",
    "# returns a dictionary:\n",
    "print(m.dict())\n",
    "print(m.dict(include={'foo', 'bar'}))\n",
    "print(m.dict(exclude={'foo', 'bar'}))\n"
   ]
  },
  {
   "cell_type": "markdown",
   "metadata": {},
   "source": [
    "---\n",
    "\n",
    "## dict(model) and iteration\n",
    "\n",
    "*pydantic* models can also be converted to dictionaries using `dict(model)`, and you can also iterate over a model's field using `for field_name, value in model:`. With this approach the raw field values are returned, so sub-models will not be converted to dictionaries.\n",
    "\n",
    "Example:"
   ]
  },
  {
   "cell_type": "code",
   "execution_count": 2,
   "metadata": {},
   "outputs": [
    {
     "name": "stdout",
     "output_type": "stream",
     "text": [
      "{'banana': 3.14, 'foo': 'hello', 'bar': BarModel(whatever=123)}\n",
      "banana: 3.14\n",
      "foo: hello\n",
      "bar: whatever=123\n"
     ]
    }
   ],
   "source": [
    "# %load ../docs/examples/exporting_models_iterate.py\n",
    "from pydantic import BaseModel\n",
    "\n",
    "\n",
    "class BarModel(BaseModel):\n",
    "    whatever: int\n",
    "\n",
    "\n",
    "class FooBarModel(BaseModel):\n",
    "    banana: float\n",
    "    foo: str\n",
    "    bar: BarModel\n",
    "\n",
    "\n",
    "m = FooBarModel(banana=3.14, foo='hello', bar={'whatever': 123})\n",
    "\n",
    "print(dict(m))\n",
    "\n",
    "for name, value in m:\n",
    "    print(f'{name}: {value}')\n"
   ]
  },
  {
   "cell_type": "markdown",
   "metadata": {},
   "source": [
    "---\n",
    "\n",
    "## model.copy(...)\n",
    "\n",
    "`copy()` allows models to be duplicated, which is particularly useful for immutable models.\n",
    "\n",
    "Arguments:\n",
    "\n",
    "- `include`: fields to include in the returned dictionary; see [below](https://pydantic-docs.helpmanual.io/usage/exporting_models/#advanced-include-and-exclude)\n",
    "- `exclude`: fields to exclude from the returned dictionary; see [below](https://pydantic-docs.helpmanual.io/usage/exporting_models/#advanced-include-and-exclude)\n",
    "- `update`: a dictionary of values to change when creating the copied model\n",
    "- `deep`: whether to make a deep copy of the new model; default False\n",
    "\n",
    "Example:"
   ]
  },
  {
   "cell_type": "code",
   "execution_count": 3,
   "metadata": {},
   "outputs": [
    {
     "name": "stdout",
     "output_type": "stream",
     "text": [
      "foo='hello' bar=BarModel(whatever=123)\n",
      "banana=3.14\n",
      "banana=0 foo='hello' bar=BarModel(whatever=123)\n",
      "140559450497776 140559450497776\n",
      "140559450497776 140559450490096\n"
     ]
    }
   ],
   "source": [
    "# %load ../docs/examples/exporting_models_copy.py\n",
    "from pydantic import BaseModel\n",
    "\n",
    "\n",
    "class BarModel(BaseModel):\n",
    "    whatever: int\n",
    "\n",
    "\n",
    "class FooBarModel(BaseModel):\n",
    "    banana: float\n",
    "    foo: str\n",
    "    bar: BarModel\n",
    "\n",
    "\n",
    "m = FooBarModel(banana=3.14, foo='hello', bar={'whatever': 123})\n",
    "\n",
    "print(m.copy(include={'foo', 'bar'}))\n",
    "print(m.copy(exclude={'foo', 'bar'}))\n",
    "print(m.copy(update={'banana': 0}))\n",
    "print(id(m.bar), id(m.copy().bar))\n",
    "# normal copy gives the same object reference for `bar`\n",
    "print(id(m.bar), id(m.copy(deep=True).bar))\n",
    "# deep copy gives a new object reference for `bar`\n"
   ]
  },
  {
   "cell_type": "markdown",
   "metadata": {},
   "source": [
    "---\n",
    "\n",
    "## model.json(...)\n",
    "\n",
    "The `.json()` method will serialise a model to JSON. Typically, `.json()` in turn calls `.dict()` and serialises its result. (For models with a [custom root type](https://pydantic-docs.helpmanual.io/usage/models/#custom-root-types), after calling .`dict()`, only the value for the `__root__` key is serialised).\n",
    "\n",
    "Arguments:\n",
    "\n",
    "- `include`: fields to include in the returned dictionary; see [below](https://pydantic-docs.helpmanual.io/usage/exporting_models/#advanced-include-and-exclude)\n",
    "- `exclude`: fields to exclude from the returned dictionary; see [below](https://pydantic-docs.helpmanual.io/usage/exporting_models/#advanced-include-and-exclude)\n",
    "- `by_alias`: whether field aliases should be used as keys in the returned dictionary; default False\n",
    "- `exclude_unset`: whether fields which were not set when creating the model and have their default values should be excluded from the returned dictionary; default `False`. Prior to v1.0, `exclude_unset` was known as `skip_defaults`; use of `skip_defaults` is now deprecated\n",
    "- `exclude_defaults`: whether fields which are equal to their default values (whether set or otherwise) should be excluded from the returned dictionary; default `False`\n",
    "- `exclude_none`: whether fields which are equal to `None` should be excluded from the returned dictionary; default `False`\n",
    "- `encoder`: a custom encoder function passed to the `default` argument of `json.dumps()`; defaults to a custom encoder designed to take care of all common types\n",
    "- `**dumps_kwargs`: any other keyword arguments are passed to `json.dumps()`, e.g. `indent`.\n",
    "\n",
    "pydantic can serialise many commonly used types to JSON (e.g. `datetime`, `date` or `UUID`) which would normally fail with a simple `json.dumps(foobar)`."
   ]
  },
  {
   "cell_type": "code",
   "execution_count": 4,
   "metadata": {},
   "outputs": [
    {
     "name": "stdout",
     "output_type": "stream",
     "text": [
      "{\"foo\": \"2032-06-01T12:13:14\", \"bar\": {\"whatever\": 123}}\n"
     ]
    }
   ],
   "source": [
    "# %load ../docs/examples/exporting_models_json.py\n",
    "from datetime import datetime\n",
    "from pydantic import BaseModel\n",
    "\n",
    "\n",
    "class BarModel(BaseModel):\n",
    "    whatever: int\n",
    "\n",
    "\n",
    "class FooBarModel(BaseModel):\n",
    "    foo: datetime\n",
    "    bar: BarModel\n",
    "\n",
    "\n",
    "m = FooBarModel(foo=datetime(2032, 6, 1, 12, 13, 14), bar={'whatever': 123})\n",
    "print(m.json())\n"
   ]
  },
  {
   "cell_type": "markdown",
   "metadata": {},
   "source": [
    "### json_encoders\n",
    "\n",
    "Serialisation can be customised on a model using the `json_encoders` config property; the keys should be types (or names of types for forward references), and the values should be functions which serialise that type (see the example below):"
   ]
  },
  {
   "cell_type": "code",
   "execution_count": 5,
   "metadata": {},
   "outputs": [
    {
     "name": "stdout",
     "output_type": "stream",
     "text": [
      "{\"dt\": 1969660800.0, \"diff\": \"P4DT4H0M0.000000S\"}\n"
     ]
    }
   ],
   "source": [
    "# %load ../docs/examples/exporting_models_json_encoders.py\n",
    "from datetime import datetime, timedelta\n",
    "from pydantic import BaseModel\n",
    "from pydantic.json import timedelta_isoformat\n",
    "\n",
    "\n",
    "class WithCustomEncoders(BaseModel):\n",
    "    dt: datetime\n",
    "    diff: timedelta\n",
    "\n",
    "    class Config:\n",
    "        json_encoders = {\n",
    "            datetime: lambda v: v.timestamp(),\n",
    "            timedelta: timedelta_isoformat,\n",
    "        }\n",
    "\n",
    "\n",
    "m = WithCustomEncoders(dt=datetime(2032, 6, 1), diff=timedelta(hours=100))\n",
    "print(m.json())\n"
   ]
  },
  {
   "cell_type": "markdown",
   "metadata": {},
   "source": [
    "By default, `timedelta` is encoded as a simple float of total seconds. The `timedelta_isoformat` is provided as an optional alternative which implements ISO 8601 time diff encoding.\n",
    "\n",
    "The `json_encoders` are also merged during the models inheritance with the child encoders taking precedence over the parent one."
   ]
  },
  {
   "cell_type": "code",
   "execution_count": 6,
   "metadata": {},
   "outputs": [
    {
     "name": "stdout",
     "output_type": "stream",
     "text": [
      "{\"dt\": 1969660800.0, \"diff\": \"P4DT4H0M0.000000S\"}\n"
     ]
    }
   ],
   "source": [
    "# %load ../docs/examples/exporting_models_json_encoders_merge.py\n",
    "from datetime import datetime, timedelta\n",
    "from pydantic import BaseModel\n",
    "from pydantic.json import timedelta_isoformat\n",
    "\n",
    "\n",
    "class BaseClassWithEncoders(BaseModel):\n",
    "    dt: datetime\n",
    "    diff: timedelta\n",
    "\n",
    "    class Config:\n",
    "        json_encoders = {\n",
    "            datetime: lambda v: v.timestamp()\n",
    "        }\n",
    "\n",
    "\n",
    "class ChildClassWithEncoders(BaseClassWithEncoders):\n",
    "    class Config:\n",
    "        json_encoders = {\n",
    "            timedelta: timedelta_isoformat\n",
    "        }\n",
    "\n",
    "\n",
    "m = ChildClassWithEncoders(dt=datetime(2032, 6, 1), diff=timedelta(hours=100))\n",
    "print(m.json())\n"
   ]
  },
  {
   "cell_type": "markdown",
   "metadata": {},
   "source": [
    "### Serialising self-reference or other models\n",
    "\n",
    "By default, models are serialised as dictionaries. If you want to serialise them differently, you can add `models_as_dict=False` when calling `json()` method and add the classes of the model in `json_encoders`. In case of forward references, you can use a string with the class name instead of the class itself"
   ]
  },
  {
   "cell_type": "code",
   "execution_count": 7,
   "metadata": {},
   "outputs": [
    {
     "name": "stdout",
     "output_type": "stream",
     "text": [
      "{\"name\": \"Wolfgang\", \"address\": \"Berlin (Deutschland)\", \"friends\": [\"Pierre in Paris (FR)\", \"John in London (UK)\"]}\n"
     ]
    }
   ],
   "source": [
    "# %load ../docs/examples/exporting_models_json_forward_ref.py\n",
    "from typing import List, Optional\n",
    "\n",
    "from pydantic import BaseModel\n",
    "\n",
    "\n",
    "class Address(BaseModel):\n",
    "    city: str\n",
    "    country: str\n",
    "\n",
    "\n",
    "class User(BaseModel):\n",
    "    name: str\n",
    "    address: Address\n",
    "    friends: Optional[List['User']] = None\n",
    "\n",
    "    class Config:\n",
    "        json_encoders = {\n",
    "            Address: lambda a: f'{a.city} ({a.country})',\n",
    "            'User': lambda u: f'{u.name} in {u.address.city} '\n",
    "                              f'({u.address.country[:2].upper()})',\n",
    "        }\n",
    "\n",
    "\n",
    "User.update_forward_refs()\n",
    "\n",
    "wolfgang = User(\n",
    "    name='Wolfgang',\n",
    "    address=Address(city='Berlin', country='Deutschland'),\n",
    "    friends=[\n",
    "        User(name='Pierre', address=Address(city='Paris', country='France')),\n",
    "        User(name='John', address=Address(city='London', country='UK')),\n",
    "    ],\n",
    ")\n",
    "print(wolfgang.json(models_as_dict=False))\n"
   ]
  },
  {
   "cell_type": "markdown",
   "metadata": {},
   "source": [
    "### Serialising subclasses\n",
    "\n",
    "> Note\n",
    "> \n",
    "> New in version v1.5.\n",
    "> \n",
    "> Subclasses of common types were not automatically serialised to JSON before v1.5\n",
    "\n",
    "Subclasses of common types are automatically encoded like their super-classes:"
   ]
  },
  {
   "cell_type": "code",
   "execution_count": 8,
   "metadata": {},
   "outputs": [
    {
     "name": "stdout",
     "output_type": "stream",
     "text": [
      "{\"date\": \"2022-10-28\"}\n"
     ]
    }
   ],
   "source": [
    "# %load ../docs/examples/exporting_models_json_subclass.py\n",
    "from datetime import date, timedelta\n",
    "from pydantic import BaseModel\n",
    "from pydantic.validators import int_validator\n",
    "\n",
    "\n",
    "class DayThisYear(date):\n",
    "    \"\"\"\n",
    "    Contrived example of a special type of date that\n",
    "    takes an int and interprets it as a day in the current year\n",
    "    \"\"\"\n",
    "\n",
    "    @classmethod\n",
    "    def __get_validators__(cls):\n",
    "        yield int_validator\n",
    "        yield cls.validate\n",
    "\n",
    "    @classmethod\n",
    "    def validate(cls, v: int):\n",
    "        return date.today().replace(month=1, day=1) + timedelta(days=v)\n",
    "\n",
    "\n",
    "class FooModel(BaseModel):\n",
    "    date: DayThisYear\n",
    "\n",
    "\n",
    "m = FooModel(date=300)\n",
    "print(m.json())\n"
   ]
  },
  {
   "cell_type": "markdown",
   "metadata": {},
   "source": [
    "### Custom JSON (de)serialisation\n",
    "\n",
    "To improve the performance of encoding and decoding JSON, alternative JSON implementations (e.g. [ujson](https://pypi.python.org/pypi/ujson)) can be used via the `json_loads` and `json_dumps` properties of `Config`."
   ]
  },
  {
   "cell_type": "code",
   "execution_count": 9,
   "metadata": {},
   "outputs": [
    {
     "name": "stdout",
     "output_type": "stream",
     "text": [
      "id=123 signup_ts=datetime.datetime(2009, 2, 13, 23, 31, 30, tzinfo=datetime.timezone.utc) name='John Doe'\n"
     ]
    }
   ],
   "source": [
    "# %load ../docs/examples/exporting_models_ujson.py\n",
    "from datetime import datetime\n",
    "import ujson\n",
    "from pydantic import BaseModel\n",
    "\n",
    "\n",
    "class User(BaseModel):\n",
    "    id: int\n",
    "    name = 'John Doe'\n",
    "    signup_ts: datetime = None\n",
    "\n",
    "    class Config:\n",
    "        json_loads = ujson.loads\n",
    "\n",
    "\n",
    "user = User.parse_raw('{\"id\": 123,\"signup_ts\":1234567890,\"name\":\"John Doe\"}')\n",
    "print(user)\n"
   ]
  },
  {
   "cell_type": "markdown",
   "metadata": {},
   "source": [
    "`ujson` generally cannot be used to dump JSON since it doesn't support encoding of objects like datetimes and does not accept a `default` fallback function argument. To do this, you may use another library like [orjson](https://github.com/ijl/orjson)."
   ]
  },
  {
   "cell_type": "code",
   "execution_count": 10,
   "metadata": {},
   "outputs": [
    {
     "name": "stdout",
     "output_type": "stream",
     "text": [
      "{\"id\":123,\"signup_ts\":\"2009-02-13T23:31:30+00:00\",\"name\":\"John Doe\"}\n"
     ]
    }
   ],
   "source": [
    "# %load ../docs/examples/exporting_models_orjson.py\n",
    "from datetime import datetime\n",
    "import orjson\n",
    "from pydantic import BaseModel\n",
    "\n",
    "\n",
    "def orjson_dumps(v, *, default):\n",
    "    # orjson.dumps returns bytes, to match standard json.dumps we need to decode\n",
    "    return orjson.dumps(v, default=default).decode()\n",
    "\n",
    "\n",
    "class User(BaseModel):\n",
    "    id: int\n",
    "    name = 'John Doe'\n",
    "    signup_ts: datetime = None\n",
    "\n",
    "    class Config:\n",
    "        json_loads = orjson.loads\n",
    "        json_dumps = orjson_dumps\n",
    "\n",
    "\n",
    "user = User.parse_raw('{\"id\":123,\"signup_ts\":1234567890,\"name\":\"John Doe\"}')\n",
    "print(user.json())\n"
   ]
  },
  {
   "cell_type": "markdown",
   "metadata": {},
   "source": [
    "Note that `orjson` takes care of `datetime` encoding natively, making it faster than `json.dumps` but meaning you cannot always customise the encoding using `Config.json_encoders`."
   ]
  },
  {
   "cell_type": "markdown",
   "metadata": {},
   "source": [
    "---\n",
    "\n",
    "## pickle.dumps(model)\n",
    "\n",
    "Using the same plumbing as copy(), pydantic models support efficient pickling and unpickling."
   ]
  },
  {
   "cell_type": "code",
   "execution_count": 11,
   "metadata": {},
   "outputs": [
    {
     "name": "stdout",
     "output_type": "stream",
     "text": [
      "a='hello' b=123\n",
      "b'\\x80\\x04\\x95\\x7f\\x00\\x00\\x00\\x00\\x00\\x00\\x00\\x8c\\x08__main__\\x94\\x8c\\x0bFooBarModel\\x94\\x93\\x94)\\x81\\x94}\\x94(\\x8c\\x08__dict__\\x94}\\x94(\\x8c\\x01a\\x94\\x8c\\x05hello\\x94\\x8c\\x01b\\x94K{u\\x8c\\x0e__fields_set__\\x94\\x8f\\x94(h\\th\\x07\\x90\\x8c\\x1c__private_attribute_values__\\x94}\\x94ub.'\n",
      "a='hello' b=123\n"
     ]
    }
   ],
   "source": [
    "# %load ../docs/examples/exporting_models_pickle.py\n",
    "import pickle\n",
    "from pydantic import BaseModel\n",
    "\n",
    "\n",
    "class FooBarModel(BaseModel):\n",
    "    a: str\n",
    "    b: int\n",
    "\n",
    "\n",
    "m = FooBarModel(a='hello', b=123)\n",
    "print(m)\n",
    "data = pickle.dumps(m)\n",
    "print(data)\n",
    "m2 = pickle.loads(data)\n",
    "print(m2)\n"
   ]
  },
  {
   "cell_type": "markdown",
   "metadata": {},
   "source": [
    "---\n",
    "\n",
    "## Advanced include and exclude\n",
    "\n",
    "The `dict`, `json`, and `copy` methods support `include` and `exclude` arguments which can either be sets or dictionaries. This allows nested selection of which fields to export:"
   ]
  },
  {
   "cell_type": "code",
   "execution_count": 12,
   "metadata": {},
   "outputs": [
    {
     "name": "stdout",
     "output_type": "stream",
     "text": [
      "{'id': '1234567890'}\n",
      "{'id': '1234567890', 'user': {'id': 42}}\n",
      "{'id': '1234567890', 'user': {'id': 42}}\n"
     ]
    }
   ],
   "source": [
    "# %load ../docs/examples/exporting_models_exclude1.py\n",
    "from pydantic import BaseModel, SecretStr\n",
    "\n",
    "\n",
    "class User(BaseModel):\n",
    "    id: int\n",
    "    username: str\n",
    "    password: SecretStr\n",
    "\n",
    "\n",
    "class Transaction(BaseModel):\n",
    "    id: str\n",
    "    user: User\n",
    "    value: int\n",
    "\n",
    "\n",
    "t = Transaction(\n",
    "    id='1234567890',\n",
    "    user=User(\n",
    "        id=42,\n",
    "        username='JohnDoe',\n",
    "        password='hashedpassword'\n",
    "    ),\n",
    "    value=9876543210,\n",
    ")\n",
    "\n",
    "# using a set:\n",
    "print(t.dict(exclude={'user', 'value'}))\n",
    "\n",
    "# using a dict:\n",
    "print(t.dict(exclude={'user': {'username', 'password'}, 'value': True}))\n",
    "\n",
    "print(t.dict(include={'id': True, 'user': {'id'}}))\n"
   ]
  },
  {
   "cell_type": "markdown",
   "metadata": {},
   "source": [
    "The `True` indicates that we want to exclude or include an entire key, just as if we included it in a set. Of course, the same can be done at any depth level.\n",
    "\n",
    "Special care must be taken when including or excluding fields from a list or tuple of submodels or dictionaries. In this scenario, `dict` and related methods expect integer keys for element-wise inclusion or exclusion. To exclude a field from every member of a list or tuple, the dictionary key `__all__` can be used as follows:"
   ]
  },
  {
   "cell_type": "code",
   "execution_count": 13,
   "metadata": {},
   "outputs": [
    {
     "name": "stdout",
     "output_type": "stream",
     "text": [
      "{'first_name': 'John', 'address': {'country': {'name': 'USA'}}, 'hobbies': [{'name': 'Programming', 'info': 'Writing code and stuff'}, {'name': 'Gaming'}]}\n",
      "{'first_name': 'John', 'second_name': 'Doe', 'address': {'post_code': 123456, 'country': {'name': 'USA', 'phone_code': 1}}, 'card_details': {'number': SecretStr('**********'), 'expires': datetime.date(2020, 5, 1)}, 'hobbies': [{'name': 'Programming'}, {'name': 'Gaming'}]}\n"
     ]
    }
   ],
   "source": [
    "# %load ../docs/examples/exporting_models_exclude2.py\n",
    "import datetime\n",
    "from typing import List\n",
    "\n",
    "from pydantic import BaseModel, SecretStr\n",
    "\n",
    "\n",
    "class Country(BaseModel):\n",
    "    name: str\n",
    "    phone_code: int\n",
    "\n",
    "\n",
    "class Address(BaseModel):\n",
    "    post_code: int\n",
    "    country: Country\n",
    "\n",
    "\n",
    "class CardDetails(BaseModel):\n",
    "    number: SecretStr\n",
    "    expires: datetime.date\n",
    "\n",
    "\n",
    "class Hobby(BaseModel):\n",
    "    name: str\n",
    "    info: str\n",
    "\n",
    "\n",
    "class User(BaseModel):\n",
    "    first_name: str\n",
    "    second_name: str\n",
    "    address: Address\n",
    "    card_details: CardDetails\n",
    "    hobbies: List[Hobby]\n",
    "\n",
    "\n",
    "user = User(\n",
    "    first_name='John',\n",
    "    second_name='Doe',\n",
    "    address=Address(\n",
    "        post_code=123456,\n",
    "        country=Country(\n",
    "            name='USA',\n",
    "            phone_code=1\n",
    "        )\n",
    "    ),\n",
    "    card_details=CardDetails(\n",
    "        number=4212934504460000,\n",
    "        expires=datetime.date(2020, 5, 1)\n",
    "    ),\n",
    "    hobbies=[\n",
    "        Hobby(name='Programming', info='Writing code and stuff'),\n",
    "        Hobby(name='Gaming', info='Hell Yeah!!!'),\n",
    "    ],\n",
    ")\n",
    "\n",
    "exclude_keys = {\n",
    "    'second_name': True,\n",
    "    'address': {'post_code': True, 'country': {'phone_code'}},\n",
    "    'card_details': True,\n",
    "    # You can exclude fields from specific members of a tuple/list by index:\n",
    "    'hobbies': {-1: {'info'}},\n",
    "}\n",
    "\n",
    "include_keys = {\n",
    "    'first_name': True,\n",
    "    'address': {'country': {'name'}},\n",
    "    'hobbies': {0: True, -1: {'name'}},\n",
    "}\n",
    "\n",
    "# would be the same as user.dict(exclude=exclude_keys) in this case:\n",
    "print(user.dict(include=include_keys))\n",
    "\n",
    "# To exclude a field from all members of a nested list or tuple, use \"__all__\":\n",
    "print(user.dict(exclude={'hobbies': {'__all__': {'info'}}}))\n"
   ]
  },
  {
   "cell_type": "markdown",
   "metadata": {},
   "source": [
    "The same holds for the `json` and `copy` methods."
   ]
  },
  {
   "cell_type": "markdown",
   "metadata": {},
   "source": [
    "### Model and field level include and exclude\n",
    "\n",
    "In addition to the explicit arguments `exclude` and `include` passed to `dict`, `json` and `copy` methods, we can also pass the `include/exclude` arguments directly to the `Field` constructor or the equivalent `field` entry in the models `Config` class:"
   ]
  },
  {
   "cell_type": "code",
   "execution_count": 14,
   "metadata": {},
   "outputs": [
    {
     "name": "stdout",
     "output_type": "stream",
     "text": [
      "{'id': '1234567890', 'user': {'id': 42}}\n"
     ]
    }
   ],
   "source": [
    "# %load ../docs/examples/exporting_models_exclude3.py\n",
    "from pydantic import BaseModel, Field, SecretStr\n",
    "\n",
    "\n",
    "class User(BaseModel):\n",
    "    id: int\n",
    "    username: str\n",
    "    password: SecretStr = Field(..., exclude=True)\n",
    "\n",
    "\n",
    "class Transaction(BaseModel):\n",
    "    id: str\n",
    "    user: User = Field(..., exclude={'username'})\n",
    "    value: int\n",
    "\n",
    "    class Config:\n",
    "        fields = {'value': {'exclude': True}}\n",
    "\n",
    "\n",
    "t = Transaction(\n",
    "    id='1234567890',\n",
    "    user=User(\n",
    "        id=42,\n",
    "        username='JohnDoe',\n",
    "        password='hashedpassword'\n",
    "    ),\n",
    "    value=9876543210,\n",
    ")\n",
    "\n",
    "print(t.dict())\n"
   ]
  },
  {
   "cell_type": "markdown",
   "metadata": {},
   "source": [
    "In the case where multiple strategies are used, `exclude/include` fields are merged according to the following rules:\n",
    "\n",
    "First, model config level settings (via `\"fields\"` entry) are merged per field with the field constructor settings (i.e. `Field(..., exclude=True))`, with the field constructor taking priority.\n",
    "The resulting settings are merged per class with the explicit settings on `dict`, `json`, `copy` calls with the explicit settings taking priority.\n",
    "Note that while merging settings, `exclude` entries are merged by computing the \"union\" of keys, while `include` entries are merged by computing the \"intersection\" of keys.\n",
    "\n",
    "The resulting merged exclude settings:"
   ]
  },
  {
   "cell_type": "code",
   "execution_count": 15,
   "metadata": {},
   "outputs": [
    {
     "name": "stdout",
     "output_type": "stream",
     "text": [
      "{'id': '1234567890', 'user': {'id': 42}}\n"
     ]
    }
   ],
   "source": [
    "# %load ../docs/examples/exporting_models_exclude4.py\n",
    "from pydantic import BaseModel, Field, SecretStr\n",
    "\n",
    "\n",
    "class User(BaseModel):\n",
    "    id: int\n",
    "    username: str  # overridden by explicit exclude\n",
    "    password: SecretStr = Field(exclude=True)\n",
    "\n",
    "\n",
    "class Transaction(BaseModel):\n",
    "    id: str\n",
    "    user: User\n",
    "    value: int\n",
    "\n",
    "\n",
    "t = Transaction(\n",
    "    id='1234567890',\n",
    "    user=User(\n",
    "        id=42,\n",
    "        username='JohnDoe',\n",
    "        password='hashedpassword'\n",
    "    ),\n",
    "    value=9876543210,\n",
    ")\n",
    "\n",
    "print(t.dict(exclude={'value': True, 'user': {'username'}}))\n"
   ]
  },
  {
   "cell_type": "markdown",
   "metadata": {},
   "source": [
    "are the same as using merged include settings as follows:"
   ]
  },
  {
   "cell_type": "code",
   "execution_count": 16,
   "metadata": {},
   "outputs": [
    {
     "name": "stdout",
     "output_type": "stream",
     "text": [
      "{'id': '1234567890', 'user': {'id': 42}}\n"
     ]
    }
   ],
   "source": [
    "# %load ../docs/examples/exporting_models_exclude5.py\n",
    "from pydantic import BaseModel, Field, SecretStr\n",
    "\n",
    "\n",
    "class User(BaseModel):\n",
    "    id: int = Field(..., include=True)\n",
    "    username: str = Field(..., include=True)  # overridden by explicit include\n",
    "    password: SecretStr\n",
    "\n",
    "\n",
    "class Transaction(BaseModel):\n",
    "    id: str\n",
    "    user: User\n",
    "    value: int\n",
    "\n",
    "\n",
    "t = Transaction(\n",
    "    id='1234567890',\n",
    "    user=User(\n",
    "        id=42,\n",
    "        username='JohnDoe',\n",
    "        password='hashedpassword'\n",
    "    ),\n",
    "    value=9876543210,\n",
    ")\n",
    "\n",
    "print(t.dict(include={'id': True, 'user': {'id'}}))\n"
   ]
  },
  {
   "cell_type": "markdown",
   "metadata": {},
   "source": [
    "---"
   ]
  }
 ],
 "metadata": {
  "interpreter": {
   "hash": "949777d72b0d2535278d3dc13498b2535136f6dfe0678499012e853ee9abcab1"
  },
  "kernelspec": {
   "display_name": "Python 3.10.2 64-bit",
   "language": "python",
   "name": "python3"
  },
  "language_info": {
   "codemirror_mode": {
    "name": "ipython",
    "version": 3
   },
   "file_extension": ".py",
   "mimetype": "text/x-python",
   "name": "python",
   "nbconvert_exporter": "python",
   "pygments_lexer": "ipython3",
   "version": "3.10.2"
  },
  "orig_nbformat": 4
 },
 "nbformat": 4,
 "nbformat_minor": 2
}
