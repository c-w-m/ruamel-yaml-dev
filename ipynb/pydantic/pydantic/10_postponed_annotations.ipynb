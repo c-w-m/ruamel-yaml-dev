{
 "cells": [
  {
   "cell_type": "markdown",
   "metadata": {},
   "source": [
    "# [Postponed Annotations](https://pydantic-docs.helpmanual.io/usage/postponed_annotations/)\n",
    "\n",
    "> Note:\n",
    ">\n",
    "> These are not in the same order as seen on the docs wiki rather they are\n",
    "> in alphabetical order as found at `../../docs/examples/postponed_annotations_*.py`\n",
    "\n",
    "---\n"
   ]
  },
  {
   "cell_type": "code",
   "execution_count": 7,
   "metadata": {},
   "outputs": [
    {
     "name": "stdout",
     "output_type": "stream",
     "text": [
      "a=[1, 2]\n"
     ]
    }
   ],
   "source": [
    "# %load ../docs/examples/postponed_annotations_broken.py\n",
    "from __future__ import annotations\n",
    "from pydantic import BaseModel\n",
    "\n",
    "\n",
    "def this_is_broken():\n",
    "    # List is defined inside the function so it is not\n",
    "    # in the module's global scope!\n",
    "    from typing import List\n",
    "\n",
    "    class Model(BaseModel):\n",
    "        a: List[int]\n",
    "\n",
    "    print(Model(a=(1, 2)))\n",
    "\n",
    "this_is_broken()"
   ]
  },
  {
   "cell_type": "code",
   "execution_count": 2,
   "metadata": {},
   "outputs": [
    {
     "name": "stdout",
     "output_type": "stream",
     "text": [
      "a=123 b=None\n",
      "a=123 b=Foo(a=321, b=None)\n"
     ]
    }
   ],
   "source": [
    "# %load ../docs/examples/postponed_annotations_forward_ref.py\n",
    "from typing import ForwardRef\n",
    "from pydantic import BaseModel\n",
    "\n",
    "Foo = ForwardRef('Foo')\n",
    "\n",
    "\n",
    "class Foo(BaseModel):\n",
    "    a: int = 123\n",
    "    b: Foo = None\n",
    "\n",
    "\n",
    "Foo.update_forward_refs()\n",
    "\n",
    "print(Foo())\n",
    "print(Foo(b={'a': '321'}))\n"
   ]
  },
  {
   "cell_type": "code",
   "execution_count": 3,
   "metadata": {},
   "outputs": [
    {
     "name": "stdout",
     "output_type": "stream",
     "text": [
      "a=[1, 2, 3]\n"
     ]
    }
   ],
   "source": [
    "# %load ../docs/examples/postponed_annotations_main.py\n",
    "from __future__ import annotations\n",
    "from typing import List\n",
    "from pydantic import BaseModel\n",
    "\n",
    "\n",
    "class Model(BaseModel):\n",
    "    a: List[int]\n",
    "\n",
    "\n",
    "print(Model(a=('1', 2, 3)))\n"
   ]
  },
  {
   "cell_type": "code",
   "execution_count": 4,
   "metadata": {},
   "outputs": [
    {
     "name": "stdout",
     "output_type": "stream",
     "text": [
      "a=123 sibling=None\n",
      "a=123 sibling=Foo(a=321, b=None)\n"
     ]
    }
   ],
   "source": [
    "# %load ../docs/examples/postponed_annotations_self_referencing_annotations.py\n",
    "from __future__ import annotations\n",
    "from pydantic import BaseModel\n",
    "\n",
    "\n",
    "class Foo(BaseModel):\n",
    "    a: int = 123\n",
    "    #: The sibling of `Foo` is referenced directly by type\n",
    "    sibling: Foo = None\n",
    "\n",
    "\n",
    "print(Foo())\n",
    "print(Foo(sibling={'a': '321'}))\n"
   ]
  },
  {
   "cell_type": "code",
   "execution_count": 5,
   "metadata": {},
   "outputs": [
    {
     "name": "stdout",
     "output_type": "stream",
     "text": [
      "a=123 sibling=None\n",
      "a=123 sibling=Foo(a=321, sibling=None)\n"
     ]
    }
   ],
   "source": [
    "# %load ../docs/examples/postponed_annotations_self_referencing_string.py\n",
    "from pydantic import BaseModel\n",
    "\n",
    "\n",
    "class Foo(BaseModel):\n",
    "    a: int = 123\n",
    "    #: The sibling of `Foo` is referenced by string\n",
    "    sibling: 'Foo' = None\n",
    "\n",
    "\n",
    "print(Foo())\n",
    "print(Foo(sibling={'a': '321'}))\n"
   ]
  },
  {
   "cell_type": "code",
   "execution_count": 6,
   "metadata": {},
   "outputs": [
    {
     "name": "stdout",
     "output_type": "stream",
     "text": [
      "a=[1, 2]\n"
     ]
    }
   ],
   "source": [
    "# %load ../docs/examples/postponed_annotations_works.py\n",
    "from __future__ import annotations\n",
    "from typing import List  # <-- List is defined in the module's global scope\n",
    "from pydantic import BaseModel\n",
    "\n",
    "\n",
    "def this_works():\n",
    "    class Model(BaseModel):\n",
    "        a: List[int]\n",
    "\n",
    "    print(Model(a=(1, 2)))\n",
    "\n",
    "this_works()"
   ]
  },
  {
   "cell_type": "markdown",
   "metadata": {},
   "source": [
    "---"
   ]
  }
 ],
 "metadata": {
  "interpreter": {
   "hash": "949777d72b0d2535278d3dc13498b2535136f6dfe0678499012e853ee9abcab1"
  },
  "kernelspec": {
   "display_name": "Python 3.10.2 64-bit",
   "language": "python",
   "name": "python3"
  },
  "language_info": {
   "codemirror_mode": {
    "name": "ipython",
    "version": 3
   },
   "file_extension": ".py",
   "mimetype": "text/x-python",
   "name": "python",
   "nbconvert_exporter": "python",
   "pygments_lexer": "ipython3",
   "version": "3.10.2"
  },
  "orig_nbformat": 4
 },
 "nbformat": 4,
 "nbformat_minor": 2
}
