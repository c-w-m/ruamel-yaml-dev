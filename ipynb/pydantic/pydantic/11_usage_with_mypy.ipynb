{
 "cells": [
  {
   "cell_type": "markdown",
   "metadata": {},
   "source": [
    "# [Usage with mypy](https://pydantic-docs.helpmanual.io/usage/mypy/)\n",
    "\n",
    "> Note:\n",
    ">\n",
    "> These are not in the same order as seen on the docs wiki rather they are\n",
    "> in alphabetical order as found at `../../docs/examples/model_config_*.py`\n",
    "\n",
    "---\n",
    "\n",
    "pydantic models work with mypy provided you use the annotation-only version of required fields:"
   ]
  },
  {
   "cell_type": "code",
   "execution_count": null,
   "metadata": {},
   "outputs": [],
   "source": []
  }
 ],
 "metadata": {
  "language_info": {
   "name": "python"
  },
  "orig_nbformat": 4
 },
 "nbformat": 4,
 "nbformat_minor": 2
}
