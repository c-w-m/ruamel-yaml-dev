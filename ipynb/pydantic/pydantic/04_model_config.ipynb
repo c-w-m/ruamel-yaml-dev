{
 "cells": [
  {
   "cell_type": "markdown",
   "metadata": {},
   "source": [
    "# [Model Config](https://pydantic-docs.helpmanual.io/usage/model_config/)\n",
    "\n",
    "> Note:\n",
    ">\n",
    "> These are not in the same order as seen on the docs wiki rather they are\n",
    "> in alphabetical order as found at `../../docs/examples/model_config_*.py`\n",
    "\n",
    "---\n",
    "\n",
    "Behaviour of *pydantic* can be controlled via the `Config` class on a model or a pydantic dataclass."
   ]
  },
  {
   "cell_type": "code",
   "execution_count": 1,
   "metadata": {},
   "outputs": [
    {
     "name": "stdout",
     "output_type": "stream",
     "text": [
      "1 validation error for Model\n",
      "v\n",
      "  max_length:10 (type=value_error.any_str.max_length; limit_value=10)\n"
     ]
    }
   ],
   "source": [
    "# %load ../docs/examples/model_config_main.py\n",
    "from pydantic import BaseModel, ValidationError\n",
    "\n",
    "\n",
    "class Model(BaseModel):\n",
    "    v: str\n",
    "\n",
    "    class Config:\n",
    "        max_anystr_length = 10\n",
    "        error_msg_templates = {\n",
    "            'value_error.any_str.max_length': 'max_length:{limit_value}',\n",
    "        }\n",
    "\n",
    "\n",
    "try:\n",
    "    Model(v='x' * 20)\n",
    "except ValidationError as e:\n",
    "    print(e)"
   ]
  },
  {
   "cell_type": "markdown",
   "metadata": {},
   "source": [
    "Also, you can specify config options as model class kwargs:"
   ]
  },
  {
   "cell_type": "code",
   "execution_count": 2,
   "metadata": {},
   "outputs": [
    {
     "name": "stdout",
     "output_type": "stream",
     "text": [
      "1 validation error for Model\n",
      "b\n",
      "  extra fields not permitted (type=value_error.extra)\n"
     ]
    }
   ],
   "source": [
    "# %load ../docs/examples/model_config_class_kwargs.py\n",
    "from pydantic import BaseModel, ValidationError, Extra\n",
    "\n",
    "\n",
    "class Model(BaseModel, extra=Extra.forbid):\n",
    "    a: str\n",
    "\n",
    "\n",
    "try:\n",
    "    Model(a='spam', b='oh no')\n",
    "except ValidationError as e:\n",
    "    print(e)"
   ]
  },
  {
   "cell_type": "markdown",
   "metadata": {},
   "source": [
    "Similarly, if using the `@dataclass` decorator:"
   ]
  },
  {
   "cell_type": "code",
   "execution_count": 3,
   "metadata": {},
   "outputs": [
    {
     "name": "stdout",
     "output_type": "stream",
     "text": [
      "1 validation error for User\n",
      "name\n",
      "  max_length:10 (type=value_error.any_str.max_length; limit_value=10)\n"
     ]
    }
   ],
   "source": [
    "# %load ../docs/examples/model_config_dataclass.py\n",
    "from datetime import datetime\n",
    "\n",
    "from pydantic import ValidationError\n",
    "from pydantic.dataclasses import dataclass\n",
    "\n",
    "\n",
    "class MyConfig:\n",
    "    max_anystr_length = 10\n",
    "    validate_assignment = True\n",
    "    error_msg_templates = {\n",
    "        'value_error.any_str.max_length': 'max_length:{limit_value}',\n",
    "    }\n",
    "\n",
    "\n",
    "@dataclass(config=MyConfig)\n",
    "class User:\n",
    "    id: int\n",
    "    name: str = 'John Doe'\n",
    "    signup_ts: datetime = None\n",
    "\n",
    "\n",
    "user = User(id='42', signup_ts='2032-06-21T12:00')\n",
    "try:\n",
    "    user.name = 'x' * 20\n",
    "except ValidationError as e:\n",
    "    print(e)"
   ]
  },
  {
   "cell_type": "markdown",
   "metadata": {},
   "source": [
    "---\n",
    "\n",
    "## Options\n",
    "\n",
    "`title`\n",
    "  - the title for the generated JSON Schema\n",
    "\n",
    "- `anystr_strip_whitespace`\n",
    "  - whether to strip leading and trailing whitespace for str & byte types (default: `False`)\n",
    "\n",
    "- `anystr_lower`\n",
    "  - whether to make all characters lowercase for str & byte types (default: `False`)\n",
    "\n",
    "- `min_anystr_length`\n",
    "  - the min length for str & byte types (default: `0`)\n",
    "\n",
    "- `max_anystr_length`\n",
    "  - the max length for str & byte types (default: `None`)\n",
    "\n",
    "- `validate_all`\n",
    "  - whether to validate field defaults (default: `False`)\n",
    "\n",
    "- `extra`\n",
    "  - whether to ignore, allow, or forbid extra attributes during model initialization. Accepts the string values of `'ignore'`, `'allow'`, or `'forbid'`, or values of the `Extra` enum (default: `Extra.ignore`). `'forbid'` will cause validation to fail if extra attributes are included, `'ignore'` will silently ignore any extra attributes, and `'allow'` will assign the attributes to the model.\n",
    "\n",
    "- `allow_mutation`\n",
    "  - whether or not models are faux-immutable, i.e. whether `__setattr__` is allowed (default: True)\n",
    "\n",
    "- `frozen`\n",
    "    >Warning\n",
    "    >\n",
    "    >This parameter is in beta\n",
    "  - setting `frozen=True` does everything that `allow_mutation=False` does, and also generates a `__hash__()` method for the model. This makes instances of the model potentially hashable if all the attributes are hashable. (default: False)\n",
    "\n",
    "- `use_enum_values`\n",
    "  - whether to populate models with the `value` property of enums, rather than the raw enum. This may be useful if you want to serialise `model.dict()` later (default: `False`)\n",
    "\n",
    "- `fields`\n",
    "  - a `dict` containing schema information for each field; this is equivalent to using [`the Field class`](https://pydantic-docs.helpmanual.io/usage/schema/) (default: `None`)\n",
    "\n",
    "- `validate_assignment`\n",
    "  - whether to perform validation on assignment to attributes (default: `False`)\n",
    "\n",
    "- `allow_population_by_field_name\n",
    "  - whether an aliased field may be populated by its name as given by the model attribute, as well as the alias (default: `False`) \n",
    "    >Note\n",
    "    >\n",
    "    >The name of this configuration setting was changed in v1.0 from allow_population_by_alias to allow_population_by_field_name.\n",
    "\n",
    "- `error_msg_templates`\n",
    "  - a `dict` used to override the default error message templates. Pass in a dictionary with keys matching the error messages you want to override (default: `{}`)\n",
    "\n",
    "- `arbitrary_types_allowed`\n",
    "  - whether to allow arbitrary user types for fields (they are validated simply by checking if the value is an instance of the type). If `False`, `RuntimeError` will be raised on model declaration (default: `False`). See an example in [`Field Types`](https://pydantic-docs.helpmanual.io/usage/models/#orm-mode-aka-arbitrary-class-instances).\n",
    "\n",
    "- `orm_mode`\n",
    "  - whether to allow usage of [`ORM mode`](https://pydantic-docs.helpmanual.io/usage/models/#orm-mode-aka-arbitrary-class-instances)\n",
    "\n",
    "- `getter_dict`\n",
    "  - a custom class (which should inherit from `GetterDict`) to use when decomposing arbitrary classes for validation, for use with `orm_mode`; see [`Data binding`](https://pydantic-docs.helpmanual.io/usage/models/#data-binding).\n",
    "\n",
    "- `alias_generator`\n",
    "  - a callable that takes a field name and returns an alias for it (see [`the dedicated section`](https://pydantic-docs.helpmanual.io/usage/model_config/#alias-generator))\n",
    "\n",
    "- `keep_untouched`\n",
    "  - a tuple of types (e.g. descriptors) for a model's default values that should not be changed during model creation and will not be included in the model schemas. Note: this means that attributes on the model with defaults of this type, not annotations of this type, will be left alone.\n",
    "\n",
    "- `schema_extra`\n",
    "  - a `dict` used to extend/update the generated JSON Schema, or a callable to post-process it; see [`schema customization`](https://pydantic-docs.helpmanual.io/usage/schema/#schema-customization)\n",
    "\n",
    "- `json_loads`\n",
    "  - a custom function for decoding JSON; see [`custom JSON (de)serialisation`](https://pydantic-docs.helpmanual.io/usage/exporting_models/#custom-json-deserialisation)\n",
    "\n",
    "- `json_dumps`\n",
    "a custom function for encoding JSON; see custom [`JSON (de)serialisation`](https://pydantic-docs.helpmanual.io/usage/exporting_models/#custom-json-deserialisation)\n",
    "\n",
    "- `json_encoders`\n",
    "a dict used to customise the way types are encoded to JSON; see [`JSON Serialisation`](https://pydantic-docs.helpmanual.io/usage/exporting_models/#modeljson)\n",
    "\n",
    "- `underscore_attrs_are_private`\n",
    "  - whether to treat any underscore non-class var attrs as private, or leave them as is; See [`Private model attributes`](https://pydantic-docs.helpmanual.io/usage/models/#private-model-attributes)\n",
    "\n",
    "- `copy_on_model_validation`\n",
    "  - whether inherited models used as fields should be reconstructed (copied) on validation instead of being kept untouched (default: `True`)\n",
    "\n",
    "- `smart_union`\n",
    "  - whether pydantic should try to check all types inside `Union` to prevent undesired coercion (see [`the dedicated section`](https://pydantic-docs.helpmanual.io/usage/model_config/#smart-union)\n",
    "\n",
    "---\n",
    "\n",
    "## Change behaviour globally\n",
    "\n",
    "If you wish to change the behaviour of *pydantic* globally, you can create your own custom `BaseModel` with custom `Config` since the config is inherited"
   ]
  },
  {
   "cell_type": "code",
   "execution_count": 4,
   "metadata": {},
   "outputs": [],
   "source": [
    "# %load ../docs/examples/model_config_change_globally_custom.py\n",
    "from pydantic import BaseModel as PydanticBaseModel\n",
    "\n",
    "\n",
    "class BaseModel(PydanticBaseModel):\n",
    "    class Config:\n",
    "        arbitrary_types_allowed = True\n",
    "\n",
    "\n",
    "class MyClass:\n",
    "    \"\"\"A random class\"\"\"\n",
    "\n",
    "\n",
    "class Model(BaseModel):\n",
    "    x: MyClass"
   ]
  },
  {
   "cell_type": "markdown",
   "metadata": {},
   "source": [
    "---\n",
    "\n",
    "## Alias Generator\n",
    "\n",
    "If data source field names do not match your code style (e. g. CamelCase fields), you can automatically generate aliases using `alias_generator`:"
   ]
  },
  {
   "cell_type": "code",
   "execution_count": 5,
   "metadata": {},
   "outputs": [
    {
     "name": "stdout",
     "output_type": "stream",
     "text": [
      "tr-TR\n",
      "{'Name': 'Filiz', 'LanguageCode': 'tr-TR'}\n"
     ]
    }
   ],
   "source": [
    "# %load ../docs/examples/model_config_alias_generator.py\n",
    "from pydantic import BaseModel\n",
    "\n",
    "\n",
    "def to_camel(string: str) -> str:\n",
    "    return ''.join(word.capitalize() for word in string.split('_'))\n",
    "\n",
    "\n",
    "class Voice(BaseModel):\n",
    "    name: str\n",
    "    language_code: str\n",
    "\n",
    "    class Config:\n",
    "        alias_generator = to_camel\n",
    "\n",
    "\n",
    "voice = Voice(Name='Filiz', LanguageCode='tr-TR')\n",
    "print(voice.language_code)\n",
    "print(voice.dict(by_alias=True))"
   ]
  },
  {
   "cell_type": "markdown",
   "metadata": {},
   "source": [
    "Here camel case refers to \"upper camel case\" aka pascal case e.g. CamelCase. If you'd like instead to use lower camel case e.g. camelCase, it should be trivial to modify the to_camel function above.\n",
    "\n",
    "---\n",
    "\n",
    "## Alias Precedence\n",
    "\n",
    "> Warning:\n",
    ">\n",
    ">Alias priority logic changed in v1.4 to resolve buggy and unexpected behaviour in previous versions. In some circumstances this may represent a breaking change, see [`#1178`](https://github.com/samuelcolvin/pydantic/issues/1178) and the precedence order below for details.\n",
    "\n",
    "In the case where a field's alias may be defined in multiple places, the selected value is determined as follows (in descending order of priority):\n",
    "\n",
    "1. Set via `Field(..., alias=<alias>)`, directly on the model\n",
    "2. Defined in `Config.fields`, directly on the model\n",
    "3. Set via `Field(..., alias=<alias>)`, on a parent model\n",
    "4. Defined in `Config.fields`, on a parent model\n",
    "5. Generated by `alias_generator`, regardless of whether it's on the model or a parent\n",
    "\n",
    "> Note:\n",
    ">\n",
    ">This means an alias_generator defined on a child model does not take priority over an alias defined on a field in a parent model.\n",
    "\n",
    "For example:"
   ]
  },
  {
   "cell_type": "code",
   "execution_count": 6,
   "metadata": {},
   "outputs": [
    {
     "name": "stdout",
     "output_type": "stream",
     "text": [
      "{'title': 'Character', 'type': 'object', 'properties': {'ActorName': {'title': 'Actorname', 'type': 'string'}, 'lang': {'title': 'Lang', 'type': 'string'}, 'Mood': {'title': 'Mood', 'type': 'string'}, 'Act': {'title': 'Act', 'default': 1, 'type': 'integer'}}}\n"
     ]
    }
   ],
   "source": [
    "# %load ../docs/examples/model_config_alias_precedence.py\n",
    "from pydantic import BaseModel, Field\n",
    "\n",
    "\n",
    "class Voice(BaseModel):\n",
    "    name: str = Field(None, alias='ActorName')\n",
    "    language_code: str = None\n",
    "    mood: str = None\n",
    "\n",
    "\n",
    "class Character(Voice):\n",
    "    act: int = 1\n",
    "\n",
    "    class Config:\n",
    "        fields = {'language_code': 'lang'}\n",
    "\n",
    "        @classmethod\n",
    "        def alias_generator(cls, string: str) -> str:\n",
    "            # this is the same as `alias_generator = to_camel` above\n",
    "            return ''.join(word.capitalize() for word in string.split('_'))\n",
    "\n",
    "\n",
    "print(Character.schema(by_alias=True))"
   ]
  },
  {
   "cell_type": "markdown",
   "metadata": {},
   "source": [
    "---\n",
    "\n",
    "## Smart Union\n",
    "\n",
    "By default, as explained [`here`](https://pydantic-docs.helpmanual.io/usage/types/#unions), pydantic tries to validate (and coerce if it can) in the order of the `Union`. So sometimes you may have unexpected coerced data."
   ]
  },
  {
   "cell_type": "code",
   "execution_count": 7,
   "metadata": {},
   "outputs": [
    {
     "name": "stdout",
     "output_type": "stream",
     "text": [
      "x='1' y=Foo()\n"
     ]
    }
   ],
   "source": [
    "# %load ../docs/examples/model_config_smart_union_off.py\n",
    "from typing import Union\n",
    "\n",
    "from pydantic import BaseModel\n",
    "\n",
    "\n",
    "class Foo(BaseModel):\n",
    "    pass\n",
    "\n",
    "\n",
    "class Bar(BaseModel):\n",
    "    pass\n",
    "\n",
    "\n",
    "class Model(BaseModel):\n",
    "    x: Union[str, int]\n",
    "    y: Union[Foo, Bar]\n",
    "\n",
    "\n",
    "print(Model(x=1, y=Bar()))\n"
   ]
  },
  {
   "cell_type": "markdown",
   "metadata": {},
   "source": [
    "To prevent this, you can enable `Config.smart_union`. Pydantic will then check all allowed types before even trying to coerce. Know that this is of course slower, especially if your `Union` is quite big."
   ]
  },
  {
   "cell_type": "code",
   "execution_count": 8,
   "metadata": {},
   "outputs": [
    {
     "name": "stdout",
     "output_type": "stream",
     "text": [
      "x=1 y=Bar()\n"
     ]
    }
   ],
   "source": [
    "# %load ../docs/examples/model_config_smart_union_on.py\n",
    "from typing import Union\n",
    "\n",
    "from pydantic import BaseModel\n",
    "\n",
    "\n",
    "class Foo(BaseModel):\n",
    "    pass\n",
    "\n",
    "\n",
    "class Bar(BaseModel):\n",
    "    pass\n",
    "\n",
    "\n",
    "class Model(BaseModel):\n",
    "    x: Union[str, int]\n",
    "    y: Union[Foo, Bar]\n",
    "\n",
    "    class Config:\n",
    "        smart_union = True\n",
    "\n",
    "\n",
    "print(Model(x=1, y=Bar()))\n"
   ]
  },
  {
   "cell_type": "markdown",
   "metadata": {},
   "source": [
    "> Warning:\n",
    ">\n",
    "> Note that this option does not support compound types yet (e.g. differentiate `List[int]` and `List[str]`). This option will be improved further once a strict mode is added in pydantic and will probably be the default behaviour in v2!"
   ]
  },
  {
   "cell_type": "code",
   "execution_count": 9,
   "metadata": {},
   "outputs": [
    {
     "name": "stdout",
     "output_type": "stream",
     "text": [
      "x=['1', '2']\n",
      "x=['1', '2']\n"
     ]
    }
   ],
   "source": [
    "# %load ../docs/examples/model_config_smart_union_on_edge_case.py\n",
    "from typing import List, Union\n",
    "\n",
    "from pydantic import BaseModel\n",
    "\n",
    "\n",
    "class Model(BaseModel, smart_union=True):\n",
    "    x: Union[List[str], List[int]]\n",
    "\n",
    "\n",
    "# Expected coercion\n",
    "print(Model(x=[1, '2']))\n",
    "\n",
    "# Unexpected coercion\n",
    "print(Model(x=[1, 2]))\n"
   ]
  },
  {
   "cell_type": "markdown",
   "metadata": {},
   "source": [
    "---"
   ]
  }
 ],
 "metadata": {
  "interpreter": {
   "hash": "949777d72b0d2535278d3dc13498b2535136f6dfe0678499012e853ee9abcab1"
  },
  "kernelspec": {
   "display_name": "Python 3.10.2 64-bit",
   "language": "python",
   "name": "python3"
  },
  "language_info": {
   "codemirror_mode": {
    "name": "ipython",
    "version": 3
   },
   "file_extension": ".py",
   "mimetype": "text/x-python",
   "name": "python",
   "nbconvert_exporter": "python",
   "pygments_lexer": "ipython3",
   "version": "3.10.2"
  },
  "orig_nbformat": 4
 },
 "nbformat": 4,
 "nbformat_minor": 2
}
