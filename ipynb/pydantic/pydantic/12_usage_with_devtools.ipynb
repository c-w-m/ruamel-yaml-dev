{
 "cells": [
  {
   "cell_type": "markdown",
   "metadata": {},
   "source": [
    "# Usage with devtools\n",
    "\n",
    "> Note:\n",
    ">\n",
    "> These are not in the same order as seen on the docs wiki rather they are\n",
    "> in alphabetical order as found at `../../docs/examples/devtools_*.py`\n",
    "\n",
    "---\n"
   ]
  },
  {
   "cell_type": "code",
   "execution_count": 1,
   "metadata": {},
   "outputs": [
    {
     "name": "stdout",
     "output_type": "stream",
     "text": [
      "/tmp/ipykernel_27576/386628296.py:32 <cell line: 32>\n",
      "    user: User(\n",
      "        id=123,\n",
      "        name='John Doe',\n",
      "        signup_ts=datetime.datetime(2019, 6, 1, 12, 22),\n",
      "        friends=[\n",
      "            1234,\n",
      "            4567,\n",
      "            7890,\n",
      "        ],\n",
      "        address=Address(\n",
      "            street='Testing',\n",
      "            country='uk',\n",
      "            lat=51.5,\n",
      "            lng=0.0,\n",
      "        ),\n",
      "    ) (User)\n",
      "\n",
      "should be much easier read than:\n",
      "\n",
      "user:id=123 name='John Doe' signup_ts=datetime.datetime(2019, 6, 1, 12, 22) friends=[1234, 4567, 7890] address=Address(street='Testing', country='uk', lat=51.5, lng=0.0)\n"
     ]
    }
   ],
   "source": [
    "# %load ../docs/examples/devtools_main.py\n",
    "# no-print-intercept\n",
    "from datetime import datetime\n",
    "from typing import List\n",
    "from pydantic import BaseModel\n",
    "\n",
    "from devtools import debug\n",
    "\n",
    "\n",
    "class Address(BaseModel):\n",
    "    street: str\n",
    "    country: str\n",
    "    lat: float\n",
    "    lng: float\n",
    "\n",
    "\n",
    "class User(BaseModel):\n",
    "    id: int\n",
    "    name: str\n",
    "    signup_ts: datetime\n",
    "    friends: List[int]\n",
    "    address: Address\n",
    "\n",
    "\n",
    "user = User(\n",
    "    id='123',\n",
    "    name='John Doe',\n",
    "    signup_ts='2019-06-01 12:22',\n",
    "    friends=[1234, 4567, 7890],\n",
    "    address=dict(street='Testing', country='uk', lat=51.5, lng=0),\n",
    ")\n",
    "debug(user)\n",
    "print('\\nshould be much easier read than:\\n')\n",
    "print(f'user:{user}')\n"
   ]
  },
  {
   "cell_type": "markdown",
   "metadata": {},
   "source": [
    "Will output in your terminal:\n",
    "\n",
    "```shell\n",
    "docs/examples/devtools_main.py:31 <module>\n",
    "    user: User(\n",
    "        id=123,\n",
    "        name='John Doe',\n",
    "        signup_ts=datetime.datetime(2019, 6, 1, 12, 22),\n",
    "        friends=[\n",
    "            1234,\n",
    "            4567,\n",
    "            7890,\n",
    "        ],\n",
    "        address=Address(\n",
    "            street='Testing',\n",
    "            country='uk',\n",
    "            lat=51.5,\n",
    "            lng=0.0,\n",
    "        ),\n",
    "    ) (User)\n",
    "\n",
    "should be much easier read than:\n",
    "\n",
    "user: id=123 name='John Doe' signup_ts=datetime.datetime(2019, 6, 1, 12, 22) friends=[1234, 4567, 7890] address=Address(street='Testing', country='uk', lat=51.5, lng=0.0)\n",
    "```"
   ]
  },
  {
   "cell_type": "markdown",
   "metadata": {},
   "source": [
    "---"
   ]
  }
 ],
 "metadata": {
  "interpreter": {
   "hash": "949777d72b0d2535278d3dc13498b2535136f6dfe0678499012e853ee9abcab1"
  },
  "kernelspec": {
   "display_name": "Python 3.10.2 64-bit",
   "language": "python",
   "name": "python3"
  },
  "language_info": {
   "codemirror_mode": {
    "name": "ipython",
    "version": 3
   },
   "file_extension": ".py",
   "mimetype": "text/x-python",
   "name": "python",
   "nbconvert_exporter": "python",
   "pygments_lexer": "ipython3",
   "version": "3.10.2"
  },
  "orig_nbformat": 4
 },
 "nbformat": 4,
 "nbformat_minor": 2
}
