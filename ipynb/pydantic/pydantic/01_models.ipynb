{
 "cells": [
  {
   "cell_type": "markdown",
   "metadata": {},
   "source": [
    "# [Models](https://pydantic-docs.helpmanual.io/usage/models/)\n",
    "\n",
    "> Note:\n",
    ">\n",
    "> These are not in the same order as seen on the docs wiki rather they are\n",
    "> in alphabetical order as found at `../../docs/examples/models_*.py`\n",
    "\n",
    "---\n",
    "\n",
    "The primary means of defining objects in pydantic is via models (models are simply classes which inherit from `BaseModel`).\n",
    "\n",
    "You can think of models as similar to types in strictly typed languages, or as the requirements of a single endpoint in an API.\n",
    "\n",
    "Untrusted data can be passed to a model, and after parsing and validation pydantic guarantees that the fields of the resultant model instance will conform to the field types defined on the model.\n",
    "\n",
    "> Note:\n",
    ">\n",
    "> pydantic is primarily a parsing library, not a validation library. Validation is a means to an end: building a model which conforms to the types and constraints provided.\n",
    ">\n",
    "> In other words, pydantic guarantees the types and constraints of the output model, not the input data.\n",
    ">\n",
    "> This might sound like an esoteric distinction, but it is not. If you're unsure what this means or how it might affect your usage you should read the section about Data Conversion below.\n",
    ">\n",
    "> Although validation is not the main purpose of pydantic, you can use this library for custom validation.\n",
    "\n",
    "---\n",
    "\n",
    "## Basic model usage"
   ]
  },
  {
   "cell_type": "code",
   "execution_count": 1,
   "metadata": {},
   "outputs": [],
   "source": [
    "from pydantic import BaseModel\n",
    "\n",
    "class User(BaseModel):\n",
    "    id: int\n",
    "    name = 'Jane Doe'"
   ]
  },
  {
   "cell_type": "markdown",
   "metadata": {},
   "source": [
    "`User` here is a model with two fields `id` which is an integer and is required, and `name` which is a string and is not required (it has a default value). The type of `name` is inferred from the default value, and so a type annotation is not required (however note [`this`](https://pydantic-docs.helpmanual.io/usage/models/#field-ordering) warning about field order when some fields do not have type annotations).\n",
    "\n",
    "```python\n",
    "user = User(id='123')\n",
    "```\n",
    "\n",
    "user here is an instance of User. Initialisation of the object will perform all parsing and validation, if no ValidationError is raised, you know the resulting model instance is valid.\n",
    "\n",
    "```python\n",
    "assert user.id == 123\n",
    "```\n",
    "\n",
    "Fields of a model can be accessed as normal attributes of the user object. The string '123' has been cast to an int as per the field type\n",
    "\n",
    "```python\n",
    "assert user.name == 'Jane Doe'\n",
    "```\n",
    "\n",
    "name wasn't set when user was initialised, so it has the default value\n",
    "\n",
    "```python\n",
    "assert user.__fields_set__ == {'id'}\n",
    "```\n",
    "\n",
    "The fields which were supplied when user was initialised.\n",
    "\n",
    "```python\n",
    "assert user.dict() == dict(user) == {'id': 123, 'name': 'Jane Doe'}\n",
    "```\n",
    "\n",
    "Either .dict() or dict(user) will provide a dict of fields, but .dict() can take numerous other arguments.\n",
    "\n",
    "```python\n",
    "user.id = 321\n",
    "assert user.id == 321\n",
    "```\n",
    "\n",
    "This model is mutable so field values can be changed.\n",
    "\n",
    "### Model properties\n",
    "\n",
    "The example above only shows the tip of the iceberg of what models can do. Models possess the following methods and attributes:\n",
    "\n",
    "`dict()`\n",
    " - returns a dictionary of the model's fields and values; cf. exporting models\n",
    "\n",
    "`json()`\n",
    "- returns a JSON string representation dict(); cf. exporting models\n",
    "\n",
    "`copy()`\n",
    "- returns a copy (by default, shallow copy) of the model; cf. exporting models\n",
    "\n",
    "`parse_obj()`\n",
    "- a utility for loading any object into a model with error handling if the object is not a dictionary; cf. helper functions\n",
    "\n",
    "`parse_raw()`\n",
    "- a utility for loading strings of numerous formats; cf. helper functions\n",
    "\n",
    "`parse_file()`\n",
    "- like parse_raw() but for file paths; cf. helper function\n",
    "\n",
    "`from_orm()`\n",
    "- loads data into a model from an arbitrary class; cf. ORM mode\n",
    "\n",
    "`schema()`\n",
    "- returns a dictionary representing the model as JSON Schema; cf. schema\n",
    "\n",
    "`schema_json()`\n",
    "- returns a JSON string representation of schema(); cf. schema\n",
    "\n",
    "`construct()`\n",
    "- a class method for creating models without running validation; cf. Creating models without validation\n",
    "\n",
    "`__fields_set__`\n",
    "\n",
    "- Set of names of fields which were set when the model instance was initialised\n",
    "\n",
    "`__fields__`\n",
    "\n",
    "- a dictionary of the model's fields\n",
    "\n",
    "`__config__`\n",
    "\n",
    "- the configuration class for the model, cf. model config\n",
    "\n",
    "---\n",
    "\n",
    "## Recursive Models\n",
    "\n",
    "More complex hierarchical data structures can be defined using models themselves as types in annotations."
   ]
  },
  {
   "cell_type": "code",
   "execution_count": 2,
   "metadata": {},
   "outputs": [
    {
     "name": "stdout",
     "output_type": "stream",
     "text": [
      "foo=Foo(count=4, size=None) bars=[Bar(apple='x1', banana='y'), Bar(apple='x2', banana='y')]\n",
      "{'foo': {'count': 4, 'size': None}, 'bars': [{'apple': 'x1', 'banana': 'y'}, {'apple': 'x2', 'banana': 'y'}]}\n"
     ]
    }
   ],
   "source": [
    "# %load ../docs/examples/models_recursive.py\n",
    "from typing import List\n",
    "from pydantic import BaseModel\n",
    "\n",
    "\n",
    "class Foo(BaseModel):\n",
    "    count: int\n",
    "    size: float = None\n",
    "\n",
    "\n",
    "class Bar(BaseModel):\n",
    "    apple = 'x'\n",
    "    banana = 'y'\n",
    "\n",
    "\n",
    "class Spam(BaseModel):\n",
    "    foo: Foo\n",
    "    bars: List[Bar]\n",
    "\n",
    "\n",
    "m = Spam(foo={'count': 4}, bars=[{'apple': 'x1'}, {'apple': 'x2'}])\n",
    "print(m)\n",
    "print(m.dict())"
   ]
  },
  {
   "cell_type": "code",
   "execution_count": 3,
   "metadata": {},
   "outputs": [
    {
     "name": "stdout",
     "output_type": "stream",
     "text": [
      "foo:\n",
      "  count: 4\n",
      "  size:\n",
      "bars:\n",
      "- apple: x1\n",
      "  banana: y\n",
      "- apple: x2\n",
      "  banana: y\n"
     ]
    }
   ],
   "source": [
    "# imports ~~~~~~~~~~~~~~~~~~~~~~~~~~~~~~~~~~~~~~~~~~~~~~~~~~~~~~~~~~~~~~~~~~~\n",
    "import sys\n",
    "import ruamel.yaml\n",
    "yml = ruamel.yaml.YAML()\n",
    "yml.dump(m.dict(), sys.stdout)"
   ]
  },
  {
   "cell_type": "markdown",
   "metadata": {},
   "source": [
    "For self-referencing models, see postponed annotations.\n",
    "\n",
    "---\n",
    "\n",
    "## ORM Mode (aka Arbitrary Class Instances)\n",
    "\n",
    "Pydantic models can be created from arbitrary class instances to support models that map to ORM objects.\n",
    "\n",
    "To do this:\n",
    "\n",
    "1. The Config property orm_mode must be set to True.\n",
    "2. The special constructor from_orm must be used to create the model instance.\n",
    "\n",
    "The example here uses SQLAlchemy, but the same approach should work for any ORM."
   ]
  },
  {
   "cell_type": "code",
   "execution_count": 4,
   "metadata": {},
   "outputs": [
    {
     "name": "stdout",
     "output_type": "stream",
     "text": [
      "<__main__.CompanyOrm object at 0x7fc07f7007c0>\n",
      "id=123 public_key='foobar' name='Testing' domains=['example.com', 'foobar.com']\n"
     ]
    }
   ],
   "source": [
    "# %load ../docs/examples/models_orm_mode.py\n",
    "from typing import List\n",
    "from sqlalchemy import Column, Integer, String\n",
    "from sqlalchemy.dialects.postgresql import ARRAY\n",
    "from sqlalchemy.ext.declarative import declarative_base\n",
    "from pydantic import BaseModel, constr\n",
    "\n",
    "Base = declarative_base()\n",
    "\n",
    "\n",
    "class CompanyOrm(Base):\n",
    "    __tablename__ = 'companies'\n",
    "    id = Column(Integer, primary_key=True, nullable=False)\n",
    "    public_key = Column(String(20), index=True, nullable=False, unique=True)\n",
    "    name = Column(String(63), unique=True)\n",
    "    domains = Column(ARRAY(String(255)))\n",
    "\n",
    "\n",
    "class CompanyModel(BaseModel):\n",
    "    id: int\n",
    "    public_key: constr(max_length=20)\n",
    "    name: constr(max_length=63)\n",
    "    domains: List[constr(max_length=255)]\n",
    "\n",
    "    class Config:\n",
    "        orm_mode = True\n",
    "\n",
    "\n",
    "co_orm = CompanyOrm(\n",
    "    id=123,\n",
    "    public_key='foobar',\n",
    "    name='Testing',\n",
    "    domains=['example.com', 'foobar.com'],\n",
    ")\n",
    "print(co_orm)\n",
    "co_model = CompanyModel.from_orm(co_orm)\n",
    "print(co_model)"
   ]
  },
  {
   "cell_type": "markdown",
   "metadata": {},
   "source": [
    "### Reserved names\n",
    "\n",
    "You may want to name a Column after a reserved SQLAlchemy field. In that case, Field aliases will be convenient:"
   ]
  },
  {
   "cell_type": "code",
   "execution_count": 5,
   "metadata": {},
   "outputs": [
    {
     "name": "stdout",
     "output_type": "stream",
     "text": [
      "{'metadata': {'key': 'val'}}\n",
      "{'metadata_': {'key': 'val'}}\n"
     ]
    }
   ],
   "source": [
    "# %load ../docs/examples/models_orm_mode_reserved_name.py\n",
    "import typing\n",
    "\n",
    "from pydantic import BaseModel, Field\n",
    "import sqlalchemy as sa\n",
    "from sqlalchemy.ext.declarative import declarative_base\n",
    "\n",
    "\n",
    "class MyModel(BaseModel):\n",
    "    metadata: typing.Dict[str, str] = Field(alias='metadata_')\n",
    "\n",
    "    class Config:\n",
    "        orm_mode = True\n",
    "\n",
    "\n",
    "BaseModel = declarative_base()\n",
    "\n",
    "\n",
    "class SQLModel(BaseModel):\n",
    "    __tablename__ = 'my_table'\n",
    "    id = sa.Column('id', sa.Integer, primary_key=True)\n",
    "    # 'metadata' is reserved by SQLAlchemy, hence the '_'\n",
    "    metadata_ = sa.Column('metadata', sa.JSON)\n",
    "\n",
    "\n",
    "sql_model = SQLModel(metadata_={'key': 'val'}, id=1)\n",
    "\n",
    "pydantic_model = MyModel.from_orm(sql_model)\n",
    "\n",
    "print(pydantic_model.dict())\n",
    "print(pydantic_model.dict(by_alias=True))"
   ]
  },
  {
   "cell_type": "markdown",
   "metadata": {},
   "source": [
    "> Note\n",
    ">\n",
    ">The example above works because aliases have priority over field names for field population. Accessing SQLModel's metadata attribute would lead to a ValidationError.\n",
    "\n",
    "### Recursive ORM models\n",
    "\n",
    "ORM instances will be parsed with from_orm recursively as well as at the top level.\n",
    "\n",
    "Here a vanilla class is used to demonstrate the principle, but any ORM class could be used instead."
   ]
  },
  {
   "cell_type": "code",
   "execution_count": 6,
   "metadata": {},
   "outputs": [
    {
     "name": "stdout",
     "output_type": "stream",
     "text": [
      "name='Anna' age=20.0 pets=[Pet(name='Bones', species='dog'), Pet(name='Orion', species='cat')]\n"
     ]
    }
   ],
   "source": [
    "# %load ../docs/examples/models_orm_mode_recursive.py\n",
    "from typing import List\n",
    "from pydantic import BaseModel\n",
    "\n",
    "\n",
    "class PetCls:\n",
    "    def __init__(self, *, name: str, species: str):\n",
    "        self.name = name\n",
    "        self.species = species\n",
    "\n",
    "\n",
    "class PersonCls:\n",
    "    def __init__(self, *, name: str, age: float = None, pets: List[PetCls]):\n",
    "        self.name = name\n",
    "        self.age = age\n",
    "        self.pets = pets\n",
    "\n",
    "\n",
    "class Pet(BaseModel):\n",
    "    name: str\n",
    "    species: str\n",
    "\n",
    "    class Config:\n",
    "        orm_mode = True\n",
    "\n",
    "\n",
    "class Person(BaseModel):\n",
    "    name: str\n",
    "    age: float = None\n",
    "    pets: List[Pet]\n",
    "\n",
    "    class Config:\n",
    "        orm_mode = True\n",
    "\n",
    "\n",
    "bones = PetCls(name='Bones', species='dog')\n",
    "orion = PetCls(name='Orion', species='cat')\n",
    "anna = PersonCls(name='Anna', age=20, pets=[bones, orion])\n",
    "anna_model = Person.from_orm(anna)\n",
    "print(anna_model)"
   ]
  },
  {
   "cell_type": "markdown",
   "metadata": {},
   "source": [
    "### Data binding\n",
    "\n",
    "Arbitrary classes are processed by pydantic using the GetterDict class (see utils.py), which attempts to provide a dictionary-like interface to any class. You can customise how this works by setting your own sub-class of GetterDict as the value of Config.getter_dict (see config).\n",
    "\n",
    "You can also customise class validation using root_validators with pre=True. In this case your validator function will be passed a GetterDict instance which you may copy and modify.\n",
    "\n",
    "The GetterDict instance will be called for each field with a sentinel as a fallback (if no other default value is set). Returning this sentinel means that the field is missing. Any other value will be interpreted as the value of the field."
   ]
  },
  {
   "cell_type": "code",
   "execution_count": 7,
   "metadata": {},
   "outputs": [],
   "source": [
    "# %load ../docs/examples/models_orm_mode_data_binding.py\n",
    "from pydantic import BaseModel\n",
    "from typing import Any, Optional\n",
    "from pydantic.utils import GetterDict\n",
    "from xml.etree.ElementTree import fromstring\n",
    "\n",
    "\n",
    "xmlstring = \"\"\"\n",
    "<User Id=\"2138\">\n",
    "    <FirstName />\n",
    "    <LoggedIn Value=\"true\" />\n",
    "</User>\n",
    "\"\"\"\n",
    "\n",
    "\n",
    "class UserGetter(GetterDict):\n",
    "\n",
    "    def get(self, key: str, default: Any) -> Any:\n",
    "\n",
    "        # element attributes\n",
    "        if key in {'Id', 'Status'}:\n",
    "            return self._obj.attrib.get(key, default)\n",
    "\n",
    "        # element children\n",
    "        else:\n",
    "            try:\n",
    "                return self._obj.find(key).attrib['Value']\n",
    "            except (AttributeError, KeyError):\n",
    "                return default\n",
    "\n",
    "\n",
    "class User(BaseModel):\n",
    "    Id: int\n",
    "    Status: Optional[str]\n",
    "    FirstName: Optional[str]\n",
    "    LastName: Optional[str]\n",
    "    LoggedIn: bool\n",
    "\n",
    "    class Config:\n",
    "        orm_mode = True\n",
    "        getter_dict = UserGetter\n",
    "\n",
    "\n",
    "user = User.from_orm(fromstring(xmlstring))"
   ]
  },
  {
   "cell_type": "markdown",
   "metadata": {},
   "source": [
    "---\n",
    "\n",
    "## Error Handling\n",
    "\n",
    "pydantic will raise ValidationError whenever it finds an error in the data it's validating.\n",
    "\n",
    "> Note\n",
    ">\n",
    "> Validation code should not raise ValidationError itself, but rather raise ValueError, TypeError or AssertionError (or subclasses of ValueError or TypeError) which will be caught and used to populate ValidationError.\n",
    "\n",
    "One exception will be raised regardless of the number of errors found, that ValidationError will contain information about all the errors and how they happened.\n",
    "\n",
    "You can access these errors in a several ways:\n",
    "\n",
    "`e.errors()`\n",
    "- method will return list of errors found in the input data.\n",
    "\n",
    "`e.json()`\n",
    "- method will return a JSON representation of errors.\n",
    "\n",
    "`str(e)`\n",
    "- method will return a human readable representation of the errors.\n",
    "\n",
    "Each error object contains:\n",
    "\n",
    "`loc`\n",
    "- the error's location as a list. The first item in the list will be the field where the error occurred, and if the field is a sub-model, subsequent items will be present to indicate the nested location of the error.\n",
    "\n",
    "`type`\n",
    "- a computer-readable identifier of the error type.\n",
    "\n",
    "`msg`\n",
    "- a human readable explanation of the error.\n",
    "\n",
    "`ctx`\n",
    "- an optional object which contains values required to render the error message.\n",
    "\n",
    "As a demonstration:"
   ]
  },
  {
   "cell_type": "code",
   "execution_count": 8,
   "metadata": {},
   "outputs": [
    {
     "name": "stdout",
     "output_type": "stream",
     "text": [
      "5 validation errors for Model\n",
      "is_required\n",
      "  field required (type=value_error.missing)\n",
      "gt_int\n",
      "  ensure this value is greater than 42 (type=value_error.number.not_gt; limit_value=42)\n",
      "list_of_ints -> 2\n",
      "  value is not a valid integer (type=type_error.integer)\n",
      "a_float\n",
      "  value is not a valid float (type=type_error.float)\n",
      "recursive_model -> lng\n",
      "  value is not a valid float (type=type_error.float)\n",
      "[\n",
      "  {\n",
      "    \"loc\": [\n",
      "      \"is_required\"\n",
      "    ],\n",
      "    \"msg\": \"field required\",\n",
      "    \"type\": \"value_error.missing\"\n",
      "  },\n",
      "  {\n",
      "    \"loc\": [\n",
      "      \"gt_int\"\n",
      "    ],\n",
      "    \"msg\": \"ensure this value is greater than 42\",\n",
      "    \"type\": \"value_error.number.not_gt\",\n",
      "    \"ctx\": {\n",
      "      \"limit_value\": 42\n",
      "    }\n",
      "  },\n",
      "  {\n",
      "    \"loc\": [\n",
      "      \"list_of_ints\",\n",
      "      2\n",
      "    ],\n",
      "    \"msg\": \"value is not a valid integer\",\n",
      "    \"type\": \"type_error.integer\"\n",
      "  },\n",
      "  {\n",
      "    \"loc\": [\n",
      "      \"a_float\"\n",
      "    ],\n",
      "    \"msg\": \"value is not a valid float\",\n",
      "    \"type\": \"type_error.float\"\n",
      "  },\n",
      "  {\n",
      "    \"loc\": [\n",
      "      \"recursive_model\",\n",
      "      \"lng\"\n",
      "    ],\n",
      "    \"msg\": \"value is not a valid float\",\n",
      "    \"type\": \"type_error.float\"\n",
      "  }\n",
      "]\n"
     ]
    }
   ],
   "source": [
    "# %load ../docs/examples/models_errors1.py\n",
    "from typing import List\n",
    "from pydantic import BaseModel, ValidationError, conint\n",
    "\n",
    "\n",
    "class Location(BaseModel):\n",
    "    lat = 0.1\n",
    "    lng = 10.1\n",
    "\n",
    "\n",
    "class Model(BaseModel):\n",
    "    is_required: float\n",
    "    gt_int: conint(gt=42)\n",
    "    list_of_ints: List[int] = None\n",
    "    a_float: float = None\n",
    "    recursive_model: Location = None\n",
    "\n",
    "\n",
    "data = dict(\n",
    "    list_of_ints=['1', 2, 'bad'],\n",
    "    a_float='not a float',\n",
    "    recursive_model={'lat': 4.2, 'lng': 'New York'},\n",
    "    gt_int=21,\n",
    ")\n",
    "\n",
    "try:\n",
    "    Model(**data)\n",
    "except ValidationError as e:\n",
    "    print(e)\n",
    "\n",
    "try:\n",
    "    Model(**data)\n",
    "except ValidationError as e:\n",
    "    print(e.json())"
   ]
  },
  {
   "cell_type": "markdown",
   "metadata": {},
   "source": [
    "(This script is complete, it should run \"as is\". json() has indent=2 set by default, but I've tweaked the JSON here and below to make it slightly more concise.)\n",
    "\n",
    "### Custom Errors\n",
    "\n",
    "In your custom data types or validators you should use ValueError, TypeError or AssertionError to raise errors.\n",
    "\n",
    "See validators for more details on use of the @validator decorator."
   ]
  },
  {
   "cell_type": "code",
   "execution_count": 9,
   "metadata": {},
   "outputs": [
    {
     "name": "stdout",
     "output_type": "stream",
     "text": [
      "[{'loc': ('foo',), 'msg': 'value must be \"bar\"', 'type': 'value_error'}]\n"
     ]
    }
   ],
   "source": [
    "# %load ../docs/examples/models_errors2.py\n",
    "from pydantic import BaseModel, ValidationError, validator\n",
    "\n",
    "\n",
    "class Model(BaseModel):\n",
    "    foo: str\n",
    "\n",
    "    @validator('foo')\n",
    "    def value_must_equal_bar(cls, v):\n",
    "        if v != 'bar':\n",
    "            raise ValueError('value must be \"bar\"')\n",
    "\n",
    "        return v\n",
    "\n",
    "\n",
    "try:\n",
    "    Model(foo='ber')\n",
    "except ValidationError as e:\n",
    "    print(e.errors())"
   ]
  },
  {
   "cell_type": "markdown",
   "metadata": {},
   "source": [
    "You can also define your own error classes, which can specify a custom error code, message template, and context:"
   ]
  },
  {
   "cell_type": "code",
   "execution_count": 10,
   "metadata": {},
   "outputs": [
    {
     "name": "stdout",
     "output_type": "stream",
     "text": [
      "[\n",
      "  {\n",
      "    \"loc\": [\n",
      "      \"foo\"\n",
      "    ],\n",
      "    \"msg\": \"value is not \\\"bar\\\", got \\\"ber\\\"\",\n",
      "    \"type\": \"value_error.not_a_bar\",\n",
      "    \"ctx\": {\n",
      "      \"wrong_value\": \"ber\"\n",
      "    }\n",
      "  }\n",
      "]\n"
     ]
    }
   ],
   "source": [
    "# %load ../docs/examples/models_errors3.py\n",
    "from pydantic import BaseModel, PydanticValueError, ValidationError, validator\n",
    "\n",
    "\n",
    "class NotABarError(PydanticValueError):\n",
    "    code = 'not_a_bar'\n",
    "    msg_template = 'value is not \"bar\", got \"{wrong_value}\"'\n",
    "\n",
    "\n",
    "class Model(BaseModel):\n",
    "    foo: str\n",
    "\n",
    "    @validator('foo')\n",
    "    def value_must_equal_bar(cls, v):\n",
    "        if v != 'bar':\n",
    "            raise NotABarError(wrong_value=v)\n",
    "        return v\n",
    "\n",
    "\n",
    "try:\n",
    "    Model(foo='ber')\n",
    "except ValidationError as e:\n",
    "    print(e.json())"
   ]
  },
  {
   "cell_type": "markdown",
   "metadata": {},
   "source": [
    "---\n",
    "\n",
    "## Helper Functions\n",
    "Pydantic provides three classmethod helper functions on models for parsing data:\n",
    "\n",
    "- parse_obj: this is very similar to the __init__ method of the model, except it takes a dict rather than keyword arguments. If the object passed is not a dict a ValidationError will be raised.\n",
    "- parse_raw: this takes a str or bytes and parses it as json, then passes the result to parse_obj. Parsing pickle data is also supported by setting the content_type argument appropriately.\n",
    "- parse_file: this takes in a file path, reads the file and passes the contents to parse_raw. If content_type is omitted, it is inferred from the file's extension. "
   ]
  },
  {
   "cell_type": "code",
   "execution_count": 11,
   "metadata": {},
   "outputs": [
    {
     "name": "stdout",
     "output_type": "stream",
     "text": [
      "id=123 signup_ts=None name='James'\n",
      "1 validation error for User\n",
      "__root__\n",
      "  User expected dict not list (type=type_error)\n",
      "id=123 signup_ts=None name='James'\n",
      "id=123 signup_ts=datetime.datetime(2017, 7, 14, 0, 0) name='James'\n",
      "id=123 signup_ts=None name='James'\n"
     ]
    }
   ],
   "source": [
    "# %load ../docs/examples/models_parse.py\n",
    "import pickle\n",
    "from datetime import datetime\n",
    "from pathlib import Path\n",
    "\n",
    "from pydantic import BaseModel, ValidationError\n",
    "\n",
    "\n",
    "class User(BaseModel):\n",
    "    id: int\n",
    "    name = 'John Doe'\n",
    "    signup_ts: datetime = None\n",
    "\n",
    "\n",
    "m = User.parse_obj({'id': 123, 'name': 'James'})\n",
    "print(m)\n",
    "\n",
    "try:\n",
    "    User.parse_obj(['not', 'a', 'dict'])\n",
    "except ValidationError as e:\n",
    "    print(e)\n",
    "\n",
    "# assumes json as no content type passed\n",
    "m = User.parse_raw('{\"id\": 123, \"name\": \"James\"}')\n",
    "print(m)\n",
    "\n",
    "pickle_data = pickle.dumps({\n",
    "    'id': 123,\n",
    "    'name': 'James',\n",
    "    'signup_ts': datetime(2017, 7, 14)\n",
    "})\n",
    "m = User.parse_raw(\n",
    "    pickle_data, content_type='application/pickle', allow_pickle=True\n",
    ")\n",
    "print(m)\n",
    "\n",
    "path = Path('data.json')\n",
    "path.write_text('{\"id\": 123, \"name\": \"James\"}')\n",
    "m = User.parse_file(path)\n",
    "print(m)\n",
    "# ignore-below\n",
    "if path.exists():\n",
    "    path.unlink()"
   ]
  },
  {
   "cell_type": "markdown",
   "metadata": {},
   "source": [
    "> Warning\n",
    ">\n",
    "> To quote the official pickle docs, \"The pickle module is not secure against erroneous or maliciously constructed data. Never unpickle data received from an untrusted or unauthenticated source.\"\n",
    "\n",
    "> Info\n",
    ">\n",
    "> Because it can result in arbitrary code execution, as a security measure, you need to explicitly pass allow_pickle to the parsing function in order to load pickle data.\n",
    "\n",
    "### Creating models without validation\n",
    "\n",
    "pydantic also provides the construct() method which allows models to be created without validation this can be useful when data has already been validated or comes from a trusted source and you want to create a model as efficiently as possible (construct() is generally around 30x faster than creating a model with full validation).\n",
    "\n",
    "> Warning\n",
    ">\n",
    "> construct() does not do any validation, meaning it can create models which are invalid. You should only ever use the construct() method with data which has already been validated, or you trust."
   ]
  },
  {
   "cell_type": "code",
   "execution_count": 12,
   "metadata": {},
   "outputs": [
    {
     "name": "stdout",
     "output_type": "stream",
     "text": [
      "{'id': 123, 'age': 32, 'name': 'John Doe'}\n",
      "{'id', 'age'}\n",
      "User(id=123, age=32, name='John Doe')\n",
      "{'id', 'age'}\n",
      "User(id='dog', name='John Doe')\n"
     ]
    }
   ],
   "source": [
    "# %load ../docs/examples/models_construct.py\n",
    "from pydantic import BaseModel\n",
    "\n",
    "\n",
    "class User(BaseModel):\n",
    "    id: int\n",
    "    age: int\n",
    "    name: str = 'John Doe'\n",
    "\n",
    "\n",
    "original_user = User(id=123, age=32)\n",
    "\n",
    "user_data = original_user.dict()\n",
    "print(user_data)\n",
    "fields_set = original_user.__fields_set__\n",
    "print(fields_set)\n",
    "\n",
    "# ...\n",
    "# pass user_data and fields_set to RPC or save to the database etc.\n",
    "# ...\n",
    "\n",
    "# you can then create a new instance of User without\n",
    "# re-running validation which would be unnecessary at this point:\n",
    "new_user = User.construct(_fields_set=fields_set, **user_data)\n",
    "print(repr(new_user))\n",
    "print(new_user.__fields_set__)\n",
    "\n",
    "# construct can be dangerous, only use it with validated data!:\n",
    "bad_user = User.construct(id='dog')\n",
    "print(repr(bad_user))"
   ]
  },
  {
   "cell_type": "markdown",
   "metadata": {},
   "source": [
    "The _fields_set keyword argument to construct() is optional, but allows you to be more precise about which fields were originally set and which weren't. If it's omitted __fields_set__ will just be the keys of the data provided.\n",
    "\n",
    "For example, in the example above, if _fields_set was not provided, new_user.__fields_set__ would be {'id', 'age', 'name'}.\n",
    "\n",
    "---\n",
    "\n",
    "## Generic Models\n",
    "\n",
    "Pydantic supports the creation of generic models to make it easier to reuse a common model structure.\n",
    "\n",
    "> Warning\n",
    ">\n",
    "> Generic models are only supported with python >=3.7, this is because of numerous subtle changes in how generics are implemented between python 3.6 and python 3.7.\n",
    "\n",
    "In order to declare a generic model, you perform the following steps:\n",
    "\n",
    "- Declare one or more typing.TypeVar instances to use to parameterize your model.\n",
    "- Declare a pydantic model that inherits from pydantic.generics.GenericModel and typing.Generic, where you pass the TypeVar instances as parameters to typing.Generic.\n",
    "- Use the TypeVar instances as annotations where you will want to replace them with other types or pydantic models.\n",
    "\n",
    "Here is an example using GenericModel to create an easily-reused HTTP response payload wrapper:"
   ]
  },
  {
   "cell_type": "code",
   "execution_count": 13,
   "metadata": {},
   "outputs": [
    {
     "name": "stdout",
     "output_type": "stream",
     "text": [
      "data=1 error=None\n",
      "data='value' error=None\n",
      "{'data': 'value', 'error': None}\n",
      "{'data': {'numbers': [1, 2, 3], 'people': []}, 'error': None}\n",
      "{'data': None, 'error': {'code': 404, 'message': 'Not found'}}\n",
      "2 validation errors for Response[int]\n",
      "data\n",
      "  value is not a valid integer (type=type_error.integer)\n",
      "error\n",
      "  must provide data or error (type=value_error)\n"
     ]
    }
   ],
   "source": [
    "# %load ../docs/examples/models_generics.py\n",
    "from typing import Generic, TypeVar, Optional, List\n",
    "\n",
    "from pydantic import BaseModel, validator, ValidationError\n",
    "from pydantic.generics import GenericModel\n",
    "\n",
    "DataT = TypeVar('DataT')\n",
    "\n",
    "\n",
    "class Error(BaseModel):\n",
    "    code: int\n",
    "    message: str\n",
    "\n",
    "\n",
    "class DataModel(BaseModel):\n",
    "    numbers: List[int]\n",
    "    people: List[str]\n",
    "\n",
    "\n",
    "class Response(GenericModel, Generic[DataT]):\n",
    "    data: Optional[DataT]\n",
    "    error: Optional[Error]\n",
    "\n",
    "    @validator('error', always=True)\n",
    "    def check_consistency(cls, v, values):\n",
    "        if v is not None and values['data'] is not None:\n",
    "            raise ValueError('must not provide both data and error')\n",
    "        if v is None and values.get('data') is None:\n",
    "            raise ValueError('must provide data or error')\n",
    "        return v\n",
    "\n",
    "\n",
    "data = DataModel(numbers=[1, 2, 3], people=[])\n",
    "error = Error(code=404, message='Not found')\n",
    "\n",
    "print(Response[int](data=1))\n",
    "print(Response[str](data='value'))\n",
    "print(Response[str](data='value').dict())\n",
    "print(Response[DataModel](data=data).dict())\n",
    "print(Response[DataModel](error=error).dict())\n",
    "try:\n",
    "    Response[int](data='value')\n",
    "except ValidationError as e:\n",
    "    print(e)"
   ]
  },
  {
   "cell_type": "markdown",
   "metadata": {},
   "source": [
    "If you set Config or make use of validator in your generic model definition, it is applied to concrete subclasses in the same way as when inheriting from BaseModel. Any methods defined on your generic class will also be inherited.\n",
    "\n",
    "Pydantic's generics also integrate properly with mypy, so you get all the type checking you would expect mypy to provide if you were to declare the type without using GenericModel.\n",
    "\n",
    "> Note\n",
    ">\n",
    "> Internally, pydantic uses create_model to generate a (cached) concrete BaseModel at runtime, so there is essentially zero overhead introduced by making use of GenericModel.\n",
    "\n",
    "To inherit from a GenericModel without replacing the TypeVar instance, a class must also inherit from typing.Generic:"
   ]
  },
  {
   "cell_type": "code",
   "execution_count": 14,
   "metadata": {},
   "outputs": [
    {
     "name": "stdout",
     "output_type": "stream",
     "text": [
      "X=1\n"
     ]
    }
   ],
   "source": [
    "# %load ../docs/examples/models_generics_inheritance.py\n",
    "from typing import TypeVar, Generic\n",
    "from pydantic.generics import GenericModel\n",
    "\n",
    "TypeX = TypeVar('TypeX')\n",
    "\n",
    "\n",
    "class BaseClass(GenericModel, Generic[TypeX]):\n",
    "    X: TypeX\n",
    "\n",
    "\n",
    "class ChildClass(BaseClass[TypeX], Generic[TypeX]):\n",
    "    # Inherit from Generic[TypeX]\n",
    "    pass\n",
    "\n",
    "\n",
    "# Replace TypeX by int\n",
    "print(ChildClass[int](X=1))"
   ]
  },
  {
   "cell_type": "markdown",
   "metadata": {},
   "source": [
    "You can also create a generic subclass of a GenericModel that partially or fully replaces the type parameters in the superclass."
   ]
  },
  {
   "cell_type": "code",
   "execution_count": 15,
   "metadata": {},
   "outputs": [
    {
     "name": "stdout",
     "output_type": "stream",
     "text": [
      "x=1 y='y' z=3\n"
     ]
    }
   ],
   "source": [
    "# %load ../docs/examples/models_generics_inheritance_extend.py\n",
    "from typing import TypeVar, Generic\n",
    "from pydantic.generics import GenericModel\n",
    "\n",
    "TypeX = TypeVar('TypeX')\n",
    "TypeY = TypeVar('TypeY')\n",
    "TypeZ = TypeVar('TypeZ')\n",
    "\n",
    "\n",
    "class BaseClass(GenericModel, Generic[TypeX, TypeY]):\n",
    "    x: TypeX\n",
    "    y: TypeY\n",
    "\n",
    "\n",
    "class ChildClass(BaseClass[int, TypeY], Generic[TypeY, TypeZ]):\n",
    "    z: TypeZ\n",
    "\n",
    "\n",
    "# Replace TypeY by str\n",
    "print(ChildClass[str, int](x=1, y='y', z=3))"
   ]
  },
  {
   "cell_type": "markdown",
   "metadata": {},
   "source": [
    "If the name of the concrete subclasses is important, you can also override the default behavior:"
   ]
  },
  {
   "cell_type": "code",
   "execution_count": 16,
   "metadata": {},
   "outputs": [
    {
     "name": "stdout",
     "output_type": "stream",
     "text": [
      "IntResponse(data=1)\n",
      "StrResponse(data='a')\n"
     ]
    }
   ],
   "source": [
    "# %load ../docs/examples/models_generics_naming.py\n",
    "from typing import Generic, TypeVar, Type, Any, Tuple\n",
    "\n",
    "from pydantic.generics import GenericModel\n",
    "\n",
    "DataT = TypeVar('DataT')\n",
    "\n",
    "\n",
    "class Response(GenericModel, Generic[DataT]):\n",
    "    data: DataT\n",
    "\n",
    "    @classmethod\n",
    "    def __concrete_name__(cls: Type[Any], params: Tuple[Type[Any], ...]) -> str:\n",
    "        return f'{params[0].__name__.title()}Response'\n",
    "\n",
    "\n",
    "print(repr(Response[int](data=1)))\n",
    "print(repr(Response[str](data='a')))"
   ]
  },
  {
   "cell_type": "markdown",
   "metadata": {},
   "source": [
    "Using the same TypeVar in nested models allows you to enforce typing relationships at different points in your model:"
   ]
  },
  {
   "cell_type": "code",
   "execution_count": 17,
   "metadata": {},
   "outputs": [
    {
     "name": "stdout",
     "output_type": "stream",
     "text": [
      "outer=1 nested=InnerT[int](inner=1)\n",
      "2 validation errors for OuterT[int]\n",
      "outer\n",
      "  value is not a valid integer (type=type_error.integer)\n",
      "nested -> inner\n",
      "  value is not a valid integer (type=type_error.integer)\n"
     ]
    }
   ],
   "source": [
    "# %load ../docs/examples/models_generics_nested.py\n",
    "from typing import Generic, TypeVar\n",
    "\n",
    "from pydantic import ValidationError\n",
    "from pydantic.generics import GenericModel\n",
    "\n",
    "T = TypeVar('T')\n",
    "\n",
    "\n",
    "class InnerT(GenericModel, Generic[T]):\n",
    "    inner: T\n",
    "\n",
    "\n",
    "class OuterT(GenericModel, Generic[T]):\n",
    "    outer: T\n",
    "    nested: InnerT[T]\n",
    "\n",
    "\n",
    "nested = InnerT[int](inner=1)\n",
    "print(OuterT[int](outer=1, nested=nested))\n",
    "try:\n",
    "    nested = InnerT[str](inner='a')\n",
    "    print(OuterT[int](outer='a', nested=nested))\n",
    "except ValidationError as e:\n",
    "    print(e)"
   ]
  },
  {
   "cell_type": "markdown",
   "metadata": {},
   "source": [
    "Pydantic also treats GenericModel similarly to how it treats built-in generic types like List and Dict when it comes to leaving them unparameterized, or using bounded TypeVar instances:\n",
    "\n",
    "- If you don't specify parameters before instantiating the generic model, they will be treated as Any\n",
    "- You can parametrize models with one or more bounded parameters to add subclass checks\n",
    "\n",
    "Also, like List and Dict, any parameters specified using a TypeVar can later be substituted with concrete types."
   ]
  },
  {
   "cell_type": "code",
   "execution_count": 18,
   "metadata": {},
   "outputs": [
    {
     "name": "stdout",
     "output_type": "stream",
     "text": [
      "a='a' b='a'\n",
      "a=1 b=1\n",
      "2 validation errors for Model[int, IntT]\n",
      "a\n",
      "  value is not a valid integer (type=type_error.integer)\n",
      "b\n",
      "  value is not a valid integer (type=type_error.integer)\n",
      "a=1 b=1\n"
     ]
    }
   ],
   "source": [
    "# %load ../docs/examples/models_generics_typevars.py\n",
    "from typing import Generic, TypeVar\n",
    "\n",
    "from pydantic import ValidationError\n",
    "from pydantic.generics import GenericModel\n",
    "\n",
    "AT = TypeVar('AT')\n",
    "BT = TypeVar('BT')\n",
    "\n",
    "\n",
    "class Model(GenericModel, Generic[AT, BT]):\n",
    "    a: AT\n",
    "    b: BT\n",
    "\n",
    "\n",
    "print(Model(a='a', b='a'))\n",
    "\n",
    "IntT = TypeVar('IntT', bound=int)\n",
    "typevar_model = Model[int, IntT]\n",
    "print(typevar_model(a=1, b=1))\n",
    "try:\n",
    "    typevar_model(a='a', b='a')\n",
    "except ValidationError as exc:\n",
    "    print(exc)\n",
    "\n",
    "concrete_model = typevar_model[int]\n",
    "print(concrete_model(a=1, b=1))"
   ]
  },
  {
   "cell_type": "markdown",
   "metadata": {},
   "source": [
    "---\n",
    "\n",
    "## Dynamic model creation\n",
    "\n",
    "There are some occasions where the shape of a model is not known until runtime. For this pydantic provides the create_model method to allow models to be created on the fly."
   ]
  },
  {
   "cell_type": "code",
   "execution_count": 19,
   "metadata": {},
   "outputs": [],
   "source": [
    "# %load ../docs/examples/models_dynamic_creation.py\n",
    "from pydantic import BaseModel, create_model\n",
    "\n",
    "DynamicFoobarModel = create_model('DynamicFoobarModel', foo=(str, ...), bar=123)\n",
    "\n",
    "\n",
    "class StaticFoobarModel(BaseModel):\n",
    "    foo: str\n",
    "    bar: int = 123"
   ]
  },
  {
   "cell_type": "markdown",
   "metadata": {},
   "source": [
    "Here StaticFoobarModel and DynamicFoobarModel are identical.\n",
    "\n",
    "Warning\n",
    "\n",
    "See the note in Required Optional Fields for the distinction between an ellipsis as a field default and annotation-only fields. See samuelcolvin/pydantic#1047 for more details.\n",
    "\n",
    "Fields are defined by either a tuple of the form (<type>, <default value>) or just a default value. The special key word arguments __config__ and __base__ can be used to customise the new model. This includes extending a base model with extra fields."
   ]
  },
  {
   "cell_type": "code",
   "execution_count": 20,
   "metadata": {},
   "outputs": [
    {
     "name": "stdout",
     "output_type": "stream",
     "text": [
      "<class 'pydantic.main.BarModel'>\n",
      "dict_keys(['foo', 'bar', 'apple', 'banana'])\n"
     ]
    }
   ],
   "source": [
    "# %load ../docs/examples/models_dynamic_inheritance.py\n",
    "from pydantic import BaseModel, create_model\n",
    "\n",
    "\n",
    "class FooModel(BaseModel):\n",
    "    foo: str\n",
    "    bar: int = 123\n",
    "\n",
    "\n",
    "BarModel = create_model(\n",
    "    'BarModel',\n",
    "    apple='russet',\n",
    "    banana='yellow',\n",
    "    __base__=FooModel,\n",
    ")\n",
    "print(BarModel)\n",
    "print(BarModel.__fields__.keys())"
   ]
  },
  {
   "cell_type": "markdown",
   "metadata": {},
   "source": [
    "You can also add validators by passing a dict to the __validators__ argument."
   ]
  },
  {
   "cell_type": "code",
   "execution_count": 21,
   "metadata": {},
   "outputs": [
    {
     "name": "stdout",
     "output_type": "stream",
     "text": [
      "username='scolvin'\n",
      "1 validation error for UserModel\n",
      "username\n",
      "  must be alphanumeric (type=assertion_error)\n"
     ]
    }
   ],
   "source": [
    "# %load ../docs/examples/models_dynamic_validators.py\n",
    "from pydantic import create_model, ValidationError, validator\n",
    "\n",
    "\n",
    "def username_alphanumeric(cls, v):\n",
    "    assert v.isalnum(), 'must be alphanumeric'\n",
    "    return v\n",
    "\n",
    "\n",
    "validators = {\n",
    "    'username_validator':\n",
    "    validator('username')(username_alphanumeric)\n",
    "}\n",
    "\n",
    "UserModel = create_model(\n",
    "    'UserModel',\n",
    "    username=(str, ...),\n",
    "    __validators__=validators\n",
    ")\n",
    "\n",
    "user = UserModel(username='scolvin')\n",
    "print(user)\n",
    "\n",
    "try:\n",
    "    UserModel(username='scolvi%n')\n",
    "except ValidationError as e:\n",
    "    print(e)"
   ]
  },
  {
   "cell_type": "markdown",
   "metadata": {},
   "source": [
    "---\n",
    "\n",
    "## Model creation from NamedTuple or TypedDict\n",
    "\n",
    "Sometimes you already use in your application classes that inherit from NamedTuple or TypedDict and you don't want to duplicate all your information to have a BaseModel. For this pydantic provides create_model_from_namedtuple and create_model_from_typeddict methods. Those methods have the exact same keyword arguments as create_model."
   ]
  },
  {
   "cell_type": "code",
   "execution_count": 22,
   "metadata": {},
   "outputs": [
    {
     "name": "stdout",
     "output_type": "stream",
     "text": [
      "User(name='123', id=3)\n",
      "1 validation error for User\n",
      "other\n",
      "  extra fields not permitted (type=value_error.extra)\n"
     ]
    }
   ],
   "source": [
    "# %load ../docs/examples/models_from_typeddict.py\n",
    "from typing_extensions import TypedDict\n",
    "\n",
    "from pydantic import ValidationError, create_model_from_typeddict\n",
    "\n",
    "\n",
    "class User(TypedDict):\n",
    "    name: str\n",
    "    id: int\n",
    "\n",
    "\n",
    "class Config:\n",
    "    extra = 'forbid'\n",
    "\n",
    "\n",
    "UserM = create_model_from_typeddict(User, __config__=Config)\n",
    "print(repr(UserM(name=123, id='3')))\n",
    "\n",
    "try:\n",
    "    UserM(name=123, id='3', other='no')\n",
    "except ValidationError as e:\n",
    "    print(e)"
   ]
  },
  {
   "cell_type": "markdown",
   "metadata": {},
   "source": [
    "---\n",
    "\n",
    "## Custom Root Types\n",
    "\n",
    "Pydantic models can be defined with a custom root type by declaring the __root__ field.\n",
    "\n",
    "The root type can be any type supported by pydantic, and is specified by the type hint on the __root__ field. The root value can be passed to the model __init__ via the __root__ keyword argument, or as the first and only argument to parse_obj."
   ]
  },
  {
   "cell_type": "code",
   "execution_count": 23,
   "metadata": {},
   "outputs": [
    {
     "name": "stdout",
     "output_type": "stream",
     "text": [
      "__root__=['dog', 'cat']\n",
      "[\"dog\", \"cat\"]\n",
      "__root__=['dog', 'cat']\n",
      "{'title': 'Pets', 'type': 'array', 'items': {'type': 'string'}}\n",
      "{\n",
      "  \"definitions\": {\n",
      "    \"Pets\": {\n",
      "      \"title\": \"Pets\",\n",
      "      \"type\": \"array\",\n",
      "      \"items\": {\n",
      "        \"type\": \"string\"\n",
      "      }\n",
      "    }\n",
      "  }\n",
      "}\n"
     ]
    }
   ],
   "source": [
    "# %load ../docs/examples/models_custom_root_field.py\n",
    "from typing import List\n",
    "import json\n",
    "from pydantic import BaseModel\n",
    "from pydantic.schema import schema\n",
    "\n",
    "\n",
    "class Pets(BaseModel):\n",
    "    __root__: List[str]\n",
    "\n",
    "\n",
    "print(Pets(__root__=['dog', 'cat']))\n",
    "print(Pets(__root__=['dog', 'cat']).json())\n",
    "print(Pets.parse_obj(['dog', 'cat']))\n",
    "print(Pets.schema())\n",
    "pets_schema = schema([Pets])\n",
    "print(json.dumps(pets_schema, indent=2))"
   ]
  },
  {
   "cell_type": "markdown",
   "metadata": {},
   "source": [
    "If you call the parse_obj method for a model with a custom root type with a dict as the first argument, the following logic is used:\n",
    "\n",
    "- If the custom root type is a mapping type (eg., Dict or Mapping), the argument itself is always validated against the custom root type.\n",
    "- For other custom root types, if the dict has precisely one key with the value __root__, the corresponding value will be validated against the custom root type.\n",
    "- Otherwise, the dict itself is validated against the custom root type.\n",
    "\n",
    "This is demonstrated in the following example:"
   ]
  },
  {
   "cell_type": "code",
   "execution_count": 24,
   "metadata": {},
   "outputs": [
    {
     "name": "stdout",
     "output_type": "stream",
     "text": [
      "__root__=['dog', 'cat']\n",
      "__root__=['dog', 'cat']\n",
      "__root__={'Otis': 'dog', 'Milo': 'cat'}\n",
      "1 validation error for PetsByName\n",
      "__root__ -> __root__\n",
      "  str type expected (type=type_error.str)\n"
     ]
    }
   ],
   "source": [
    "# %load ../docs/examples/models_custom_root_field_parse_obj.py\n",
    "from typing import List, Dict\n",
    "from pydantic import BaseModel, ValidationError\n",
    "\n",
    "\n",
    "class Pets(BaseModel):\n",
    "    __root__: List[str]\n",
    "\n",
    "\n",
    "print(Pets.parse_obj(['dog', 'cat']))\n",
    "print(Pets.parse_obj({'__root__': ['dog', 'cat']}))  # not recommended\n",
    "\n",
    "\n",
    "class PetsByName(BaseModel):\n",
    "    __root__: Dict[str, str]\n",
    "\n",
    "\n",
    "print(PetsByName.parse_obj({'Otis': 'dog', 'Milo': 'cat'}))\n",
    "try:\n",
    "    PetsByName.parse_obj({'__root__': {'Otis': 'dog', 'Milo': 'cat'}})\n",
    "except ValidationError as e:\n",
    "    print(e)"
   ]
  },
  {
   "cell_type": "markdown",
   "metadata": {},
   "source": [
    "Warning\n",
    "\n",
    "Calling the parse_obj method on a dict with the single key \"__root__\" for non-mapping custom root types is currently supported for backwards compatibility, but is not recommended and may be dropped in a future version.\n",
    "\n",
    "If you want to access items in the __root__ field directly or to iterate over the items, you can implement custom __iter__ and __getitem__ functions, as shown in the following example."
   ]
  },
  {
   "cell_type": "code",
   "execution_count": 25,
   "metadata": {},
   "outputs": [
    {
     "name": "stdout",
     "output_type": "stream",
     "text": [
      "dog\n",
      "['dog', 'cat']\n"
     ]
    }
   ],
   "source": [
    "# %load ../docs/examples/models_custom_root_access.py\n",
    "from typing import List\n",
    "from pydantic import BaseModel\n",
    "\n",
    "\n",
    "class Pets(BaseModel):\n",
    "    __root__: List[str]\n",
    "\n",
    "    def __iter__(self):\n",
    "        return iter(self.__root__)\n",
    "\n",
    "    def __getitem__(self, item):\n",
    "        return self.__root__[item]\n",
    "\n",
    "\n",
    "pets = Pets.parse_obj(['dog', 'cat'])\n",
    "print(pets[0])\n",
    "print([pet for pet in pets])"
   ]
  },
  {
   "cell_type": "markdown",
   "metadata": {},
   "source": [
    "---\n",
    "\n",
    "## Faux Immutability\n",
    "\n",
    "Models can be configured to be immutable via allow_mutation = False. When this is set, attempting to change the values of instance attributes will raise errors. See model config for more details on Config.\n",
    "\n",
    "Warning\n",
    "\n",
    "Immutability in python is never strict. If developers are determined/stupid they can always modify a so-called \"immutable\" object."
   ]
  },
  {
   "cell_type": "code",
   "execution_count": 26,
   "metadata": {},
   "outputs": [
    {
     "name": "stdout",
     "output_type": "stream",
     "text": [
      "\"FooBarModel\" is immutable and does not support item assignment\n",
      "hello\n",
      "{'apple': 'pear'}\n",
      "{'apple': 'grape'}\n"
     ]
    }
   ],
   "source": [
    "# %load ../docs/examples/models_mutation.py\n",
    "from pydantic import BaseModel\n",
    "\n",
    "\n",
    "class FooBarModel(BaseModel):\n",
    "    a: str\n",
    "    b: dict\n",
    "\n",
    "    class Config:\n",
    "        allow_mutation = False\n",
    "\n",
    "\n",
    "foobar = FooBarModel(a='hello', b={'apple': 'pear'})\n",
    "\n",
    "try:\n",
    "    foobar.a = 'different'\n",
    "except TypeError as e:\n",
    "    print(e)\n",
    "\n",
    "print(foobar.a)\n",
    "print(foobar.b)\n",
    "foobar.b['apple'] = 'grape'\n",
    "print(foobar.b)"
   ]
  },
  {
   "cell_type": "markdown",
   "metadata": {},
   "source": [
    "Trying to change a caused an error, and a remains unchanged. However, the dict b is mutable, and the immutability of foobar doesn't stop b from being changed.\n",
    "\n",
    "---\n",
    "\n",
    "## Abstract Base Classes\n",
    "\n",
    "Pydantic models can be used alongside Python's Abstract Base Classes (ABCs)."
   ]
  },
  {
   "cell_type": "code",
   "execution_count": 27,
   "metadata": {},
   "outputs": [],
   "source": [
    "# %load ../docs/examples/models_abc.py\n",
    "import abc\n",
    "from pydantic import BaseModel\n",
    "\n",
    "\n",
    "class FooBarModel(BaseModel, abc.ABC):\n",
    "    a: str\n",
    "    b: int\n",
    "\n",
    "    @abc.abstractmethod\n",
    "    def my_abstract_method(self):\n",
    "        pass"
   ]
  },
  {
   "cell_type": "markdown",
   "metadata": {},
   "source": [
    "---\n",
    "\n",
    "## Field Ordering\n",
    "\n",
    "Field order is important in models for the following reasons:\n",
    "\n",
    "- validation is performed in the order fields are defined; fields validators can access the values of earlier fields, but not later ones\n",
    "- field order is preserved in the model schema\n",
    "- field order is preserved in validation errors\n",
    "- field order is preserved by .dict() and .json() etc.\n",
    "\n",
    "As of v1.0 all fields with annotations (whether annotation-only or with a default value) will precede all fields without an annotation. Within their respective groups, fields remain in the order they were defined."
   ]
  },
  {
   "cell_type": "code",
   "execution_count": 28,
   "metadata": {},
   "outputs": [
    {
     "name": "stdout",
     "output_type": "stream",
     "text": [
      "{'a': 3, 'b': 2.72, 'c': '123'}\n"
     ]
    }
   ],
   "source": [
    "# %load ../docs/examples/models_data_conversion.py\n",
    "from pydantic import BaseModel\n",
    "\n",
    "\n",
    "class Model(BaseModel):\n",
    "    a: int\n",
    "    b: float\n",
    "    c: str\n",
    "\n",
    "\n",
    "print(Model(a=3.1415, b=' 2.72 ', c=123).dict())"
   ]
  },
  {
   "cell_type": "markdown",
   "metadata": {},
   "source": [
    "Warning\n",
    "\n",
    "As demonstrated by the example above, combining the use of annotated and non-annotated fields in the same model can result in surprising field orderings. (This is due to limitations of python)\n",
    "\n",
    "Therefore, we recommend adding type annotations to all fields, even when a default value would determine the type by itself to guarantee field order is preserved.\n",
    "\n",
    "---\n",
    "\n",
    "### Required fields\n",
    "\n",
    "To declare a field as required, you may declare it using just an annotation, or you may use an ellipsis (...) as the value:"
   ]
  },
  {
   "cell_type": "code",
   "execution_count": 29,
   "metadata": {},
   "outputs": [],
   "source": [
    "# %load ../docs/examples/models_required_fields.py\n",
    "from pydantic import BaseModel, Field\n",
    "\n",
    "\n",
    "class Model(BaseModel):\n",
    "    a: int\n",
    "    b: int = ...\n",
    "    c: int = Field(...)"
   ]
  },
  {
   "cell_type": "markdown",
   "metadata": {},
   "source": [
    "Where Field refers to the field function.\n",
    "\n",
    "Here a, b and c are all required. However, use of the ellipses in b will not work well with mypy, and as of v1.0 should be avoided in most cases.\n",
    "\n",
    "### Required Optional fields\n",
    "\n",
    "Warning\n",
    "\n",
    "Since version v1.2 annotation only nullable (Optional[...], Union[None, ...] and Any) fields and nullable fields with an ellipsis (...) as the default value, no longer mean the same thing.\n",
    "\n",
    "In some situations this may cause v1.2 to not be entirely backwards compatible with earlier v1.* releases.\n",
    "\n",
    "If you want to specify a field that can take a None value while still being required, you can use Optional with ...:"
   ]
  },
  {
   "cell_type": "code",
   "execution_count": 30,
   "metadata": {},
   "outputs": [
    {
     "name": "stdout",
     "output_type": "stream",
     "text": [
      "a=None b=1 c=2\n",
      "1 validation error for Model\n",
      "c\n",
      "  field required (type=value_error.missing)\n"
     ]
    }
   ],
   "source": [
    "# %load ../docs/examples/models_required_field_optional.py\n",
    "from typing import Optional\n",
    "from pydantic import BaseModel, Field, ValidationError\n",
    "\n",
    "\n",
    "class Model(BaseModel):\n",
    "    a: Optional[int]\n",
    "    b: Optional[int] = ...\n",
    "    c: Optional[int] = Field(...)\n",
    "\n",
    "\n",
    "print(Model(b=1, c=2))\n",
    "try:\n",
    "    Model(a=1, b=2)\n",
    "except ValidationError as e:\n",
    "    print(e)"
   ]
  },
  {
   "cell_type": "markdown",
   "metadata": {},
   "source": [
    "In this model, a, b, and c can take None as a value. But a is optional, while b and c are required. b and c require a value, even if the value is None.\n",
    "\n",
    "---\n",
    "\n",
    "## Field with dynamic default value\n",
    "\n",
    "When declaring a field with a default value, you may want it to be dynamic (i.e. different for each model). To do this, you may want to use a default_factory.\n",
    "\n",
    "In Beta\n",
    "\n",
    "The default_factory argument is in beta, it has been added to pydantic in v1.5 on a provisional basis. It may change significantly in future releases and its signature or behaviour will not be concrete until v2. Feedback from the community while it's still provisional would be extremely useful; either comment on #866 or create a new issue.\n",
    "\n",
    "Example of usage:"
   ]
  },
  {
   "cell_type": "code",
   "execution_count": 31,
   "metadata": {},
   "outputs": [
    {
     "name": "stdout",
     "output_type": "stream",
     "text": [
      "9565f427-6719-4653-b93d-063c39253198 != c7cf1b67-7755-4309-8e36-5435f72b99bd\n",
      "2022-04-12 06:32:34.323398 != 2022-04-12 06:32:34.323451\n"
     ]
    }
   ],
   "source": [
    "# %load ../docs/examples/models_default_factory.py\n",
    "from datetime import datetime\n",
    "from uuid import UUID, uuid4\n",
    "from pydantic import BaseModel, Field\n",
    "\n",
    "\n",
    "class Model(BaseModel):\n",
    "    uid: UUID = Field(default_factory=uuid4)\n",
    "    updated: datetime = Field(default_factory=datetime.utcnow)\n",
    "\n",
    "\n",
    "m1 = Model()\n",
    "m2 = Model()\n",
    "print(f'{m1.uid} != {m2.uid}')\n",
    "print(f'{m1.updated} != {m2.updated}')"
   ]
  },
  {
   "cell_type": "markdown",
   "metadata": {},
   "source": [
    "Where Field refers to the field function.\n",
    "\n",
    "Warning\n",
    "\n",
    "The default_factory expects the field type to be set.\n",
    "\n",
    "---\n",
    "\n",
    "## Automatically excluded attributes\n",
    "\n",
    "Class variables which begin with an underscore and attributes annotated with typing.ClassVar will be automatically excluded from the model.\n",
    "\n",
    "### Private model attributes\n",
    "\n",
    "If you need to vary or manipulate internal attributes on instances of the model, you can declare them using PrivateAttr:"
   ]
  },
  {
   "cell_type": "code",
   "execution_count": 32,
   "metadata": {},
   "outputs": [
    {
     "name": "stdout",
     "output_type": "stream",
     "text": [
      "2022-04-12 06:32:34.441702\n",
      "2\n"
     ]
    }
   ],
   "source": [
    "from datetime import datetime\n",
    "from random import randint\n",
    "\n",
    "from pydantic import BaseModel, PrivateAttr\n",
    "\n",
    "\n",
    "class TimeAwareModel(BaseModel):\n",
    "    _processed_at: datetime = PrivateAttr(default_factory=datetime.now)\n",
    "    _secret_value: str = PrivateAttr()\n",
    "\n",
    "    def __init__(self, **data):\n",
    "        super().__init__(**data)\n",
    "        # this could also be done with default_factory\n",
    "        self._secret_value = randint(1, 5)\n",
    "\n",
    "\n",
    "m = TimeAwareModel()\n",
    "print(m._processed_at)\n",
    "#> 2021-12-31 15:04:57.359275\n",
    "print(m._secret_value)\n",
    "#> 4"
   ]
  },
  {
   "cell_type": "markdown",
   "metadata": {},
   "source": [
    "Private attribute names must start with underscore to prevent conflicts with model fields: both _attr and __attr__ are supported.\n",
    "\n",
    "If Config.underscore_attrs_are_private is True, any non-ClassVar underscore attribute will be treated as private:"
   ]
  },
  {
   "cell_type": "code",
   "execution_count": 33,
   "metadata": {},
   "outputs": [
    {
     "name": "stdout",
     "output_type": "stream",
     "text": [
      "class var value\n",
      "<member '_private_attr' of 'Model' objects>\n",
      "private attr value\n"
     ]
    }
   ],
   "source": [
    "from typing import ClassVar\n",
    "\n",
    "from pydantic import BaseModel\n",
    "\n",
    "\n",
    "class Model(BaseModel):\n",
    "    _class_var: ClassVar[str] = 'class var value'\n",
    "    _private_attr: str = 'private attr value'\n",
    "\n",
    "    class Config:\n",
    "        underscore_attrs_are_private = True\n",
    "\n",
    "\n",
    "print(Model._class_var)\n",
    "#> class var value\n",
    "print(Model._private_attr)\n",
    "#> <member '_private_attr' of 'Model' objects>\n",
    "print(Model()._private_attr)\n",
    "#> private attr value"
   ]
  },
  {
   "cell_type": "markdown",
   "metadata": {},
   "source": [
    "Upon class creation pydantic constructs __slots__ filled with private attributes.\n",
    "\n",
    "---\n",
    "\n",
    "## Parsing data into a specified type\n",
    "\n",
    "Pydantic includes a standalone utility function parse_obj_as that can be used to apply the parsing logic used to populate pydantic models in a more ad-hoc way. This function behaves similarly to BaseModel.parse_obj, but works with arbitrary pydantic-compatible types.\n",
    "\n",
    "This is especially useful when you want to parse results into a type that is not a direct subclass of BaseModel. For example:"
   ]
  },
  {
   "cell_type": "code",
   "execution_count": 34,
   "metadata": {},
   "outputs": [
    {
     "name": "stdout",
     "output_type": "stream",
     "text": [
      "[Item(id=1, name='My Item')]\n"
     ]
    }
   ],
   "source": [
    "from typing import List\n",
    "\n",
    "from pydantic import BaseModel, parse_obj_as\n",
    "\n",
    "\n",
    "class Item(BaseModel):\n",
    "    id: int\n",
    "    name: str\n",
    "\n",
    "\n",
    "# `item_data` could come from an API call, eg., via something like:\n",
    "# item_data = requests.get('https://my-api.com/items').json()\n",
    "item_data = [{'id': 1, 'name': 'My Item'}]\n",
    "\n",
    "items = parse_obj_as(List[Item], item_data)\n",
    "print(items)\n",
    "#> [Item(id=1, name='My Item')]"
   ]
  },
  {
   "cell_type": "markdown",
   "metadata": {},
   "source": [
    "This function is capable of parsing data into any of the types pydantic can handle as fields of a BaseModel.\n",
    "\n",
    "Pydantic also includes two similar standalone functions called parse_file_as and parse_raw_as, which are analogous to BaseModel.parse_file and BaseModel.parse_raw.\n",
    "\n",
    "---\n",
    "\n",
    "## Data Conversion\n",
    "\n",
    "pydantic may cast input data to force it to conform to model field types, and in some cases this may result in a loss of information. For example:"
   ]
  },
  {
   "cell_type": "code",
   "execution_count": 35,
   "metadata": {},
   "outputs": [
    {
     "name": "stdout",
     "output_type": "stream",
     "text": [
      "{'a': 3, 'b': 2.72, 'c': '123'}\n"
     ]
    }
   ],
   "source": [
    "from pydantic import BaseModel\n",
    "\n",
    "\n",
    "class Model(BaseModel):\n",
    "    a: int\n",
    "    b: float\n",
    "    c: str\n",
    "\n",
    "\n",
    "print(Model(a=3.1415, b=' 2.72 ', c=123).dict())\n",
    "#> {'a': 3, 'b': 2.72, 'c': '123'}"
   ]
  },
  {
   "cell_type": "markdown",
   "metadata": {},
   "source": [
    "This is a deliberate decision of pydantic, and in general it's the most useful approach. See here for a longer discussion on the subject.\n",
    "\n",
    "Nevertheless, strict type checking is partially supported.\n",
    "\n",
    "---\n",
    "\n",
    "## Model signature\n",
    "\n",
    "All pydantic models will have their signature generated based on their fields:"
   ]
  },
  {
   "cell_type": "code",
   "execution_count": 36,
   "metadata": {},
   "outputs": [
    {
     "name": "stdout",
     "output_type": "stream",
     "text": [
      "(*, id: int, name: str = None, description: str = 'Foo', pear: int) -> None\n"
     ]
    }
   ],
   "source": [
    "import inspect\n",
    "from pydantic import BaseModel, Field\n",
    "\n",
    "\n",
    "class FooModel(BaseModel):\n",
    "    id: int\n",
    "    name: str = None\n",
    "    description: str = 'Foo'\n",
    "    apple: int = Field(..., alias='pear')\n",
    "\n",
    "\n",
    "print(inspect.signature(FooModel))\n",
    "#> (*, id: int, name: str = None, description: str = 'Foo', pear: int) -> None"
   ]
  },
  {
   "cell_type": "markdown",
   "metadata": {},
   "source": [
    "An accurate signature is useful for introspection purposes and libraries like FastAPI or hypothesis.\n",
    "\n",
    "The generated signature will also respect custom __init__ functions:"
   ]
  },
  {
   "cell_type": "code",
   "execution_count": 37,
   "metadata": {},
   "outputs": [
    {
     "name": "stdout",
     "output_type": "stream",
     "text": [
      "(id: int = 1, *, bar: str, info: str = 'Foo') -> None\n"
     ]
    }
   ],
   "source": [
    "import inspect\n",
    "\n",
    "from pydantic import BaseModel\n",
    "\n",
    "\n",
    "class MyModel(BaseModel):\n",
    "    id: int\n",
    "    info: str = 'Foo'\n",
    "\n",
    "    def __init__(self, id: int = 1, *, bar: str, **data) -> None:\n",
    "        \"\"\"My custom init!\"\"\"\n",
    "        super().__init__(id=id, bar=bar, **data)\n",
    "\n",
    "\n",
    "print(inspect.signature(MyModel))\n",
    "#> (id: int = 1, *, bar: str, info: str = 'Foo') -> None"
   ]
  },
  {
   "cell_type": "markdown",
   "metadata": {},
   "source": [
    "To be included in the signature, a field's alias or name must be a valid python identifier. pydantic prefers aliases over names, but may use field names if the alias is not a valid python identifier.\n",
    "\n",
    "If a field's alias and name are both invalid identifiers, a **data argument will be added. In addition, the **data argument will always be present in the signature if Config.extra is Extra.allow.\n",
    "\n",
    "Note\n",
    "\n",
    "Types in the model signature are the same as declared in model annotations, not necessarily all the types that can actually be provided to that field. This may be fixed one day once #1055 is solved."
   ]
  },
  {
   "cell_type": "markdown",
   "metadata": {},
   "source": [
    "---"
   ]
  }
 ],
 "metadata": {
  "interpreter": {
   "hash": "949777d72b0d2535278d3dc13498b2535136f6dfe0678499012e853ee9abcab1"
  },
  "kernelspec": {
   "display_name": "Python 3.10.2 64-bit",
   "language": "python",
   "name": "python3"
  },
  "language_info": {
   "codemirror_mode": {
    "name": "ipython",
    "version": 3
   },
   "file_extension": ".py",
   "mimetype": "text/x-python",
   "name": "python",
   "nbconvert_exporter": "python",
   "pygments_lexer": "ipython3",
   "version": "3.10.2"
  },
  "orig_nbformat": 4
 },
 "nbformat": 4,
 "nbformat_minor": 2
}
