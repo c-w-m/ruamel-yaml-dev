{
 "cells": [
  {
   "cell_type": "markdown",
   "metadata": {},
   "source": [
    "# [Dataclasses](https://pydantic-docs.helpmanual.io/usage/dataclasses/)\n",
    "\n",
    "> Note:\n",
    ">\n",
    "> These are not in the same order as seen on the docs wiki rather they are\n",
    "> in alphabetical order as found at `../docs/examples/dataclasses_*.py`\n",
    "\n",
    "---\n",
    "\n",
    "If you don't want to use pydantic's `BaseModel` you can instead get the same data\n",
    "validation on standard [`dataclasses`](https://docs.python.org/3/library/dataclasses.html)\n",
    "(introduced in python 3.7).\n",
    "\n",
    "Dataclasses work in python 3.6 using the [`dataclasses backport package`](https://github.com/ericvsmith/dataclasses)."
   ]
  },
  {
   "cell_type": "code",
   "execution_count": 7,
   "metadata": {},
   "outputs": [
    {
     "name": "stdout",
     "output_type": "stream",
     "text": [
      "User(id=42, name='John Doe', signup_ts=datetime.datetime(2032, 6, 21, 12, 0))\n"
     ]
    }
   ],
   "source": [
    "# %load ../docs/examples/dataclasses_main.py\n",
    "from datetime import datetime\n",
    "from pydantic.dataclasses import dataclass\n",
    "\n",
    "\n",
    "@dataclass\n",
    "class User:\n",
    "    id: int\n",
    "    name: str = 'John Doe'\n",
    "    signup_ts: datetime = None\n",
    "\n",
    "\n",
    "user = User(id='42', signup_ts='2032-06-21T12:00')\n",
    "print(user)"
   ]
  },
  {
   "cell_type": "markdown",
   "metadata": {},
   "source": [
    "> Note:\n",
    ">\n",
    "> Keep in mind that `pydantic.dataclasses.dataclass` is a drop-in replacement for `dataclasses.dataclass` with\n",
    "> validation, not a replacement for `pydantic.BaseModel` (with a small difference in how [`initialization hooks`](https://pydantic-docs.helpmanual.io/usage/dataclasses/#initialize-hooks) work). \n",
    "> There are cases where subclassing pydantic.BaseModel is the better choice.\n",
    "> \n",
    "> For more information and discussion see [`samuelcolvin/pydantic#710`](https://github.com/samuelcolvin/pydantic/issues/710).\n",
    "\n",
    "You can use all the standard *pydantic* field types, and the resulting dataclass will be identical to the one created by the standard library `dataclass` decorator.\n",
    "\n",
    "The underlying model and its schema can be accessed through `__pydantic_model__`. Also, fields that require a `default_factory` can be specified by a `dataclasses.field`."
   ]
  },
  {
   "cell_type": "code",
   "execution_count": 3,
   "metadata": {},
   "outputs": [
    {
     "name": "stdout",
     "output_type": "stream",
     "text": [
      "{'title': 'User', 'type': 'object', 'properties': {'id': {'title': 'Id', 'type': 'integer'}, 'name': {'title': 'Name', 'default': 'John Doe', 'type': 'string'}, 'friends': {'title': 'Friends', 'type': 'array', 'items': {'type': 'integer'}}, 'age': {'title': 'The age of the user', 'description': 'do not lie!', 'type': 'integer'}, 'height': {'title': 'The height in cm', 'minimum': 50, 'maximum': 300, 'type': 'integer'}}, 'required': ['id']}\n"
     ]
    }
   ],
   "source": [
    "# %load ../docs/examples/dataclasses_default_schema.py\n",
    "import dataclasses\n",
    "from typing import List, Optional\n",
    "\n",
    "from pydantic import Field\n",
    "from pydantic.dataclasses import dataclass\n",
    "\n",
    "\n",
    "@dataclass\n",
    "class User:\n",
    "    id: int\n",
    "    name: str = 'John Doe'\n",
    "    friends: List[int] = dataclasses.field(default_factory=lambda: [0])\n",
    "    age: Optional[int] = dataclasses.field(\n",
    "        default=None,\n",
    "        metadata=dict(title='The age of the user', description='do not lie!')\n",
    "    )\n",
    "    height: Optional[int] = Field(None, title='The height in cm', ge=50, le=300)\n",
    "\n",
    "\n",
    "user = User(id='42')\n",
    "print(user.__pydantic_model__.schema())"
   ]
  },
  {
   "cell_type": "code",
   "execution_count": 13,
   "metadata": {},
   "outputs": [
    {
     "name": "stdout",
     "output_type": "stream",
     "text": [
      "title: User\n",
      "type: object\n",
      "properties:\n",
      "  birth:\n",
      "    $ref: '#/definitions/Birth'\n",
      "required:\n",
      "- birth\n",
      "definitions:\n",
      "  Birth:\n",
      "    title: Birth\n",
      "    type: object\n",
      "    properties:\n",
      "      year:\n",
      "        title: Year\n",
      "        type: integer\n",
      "      month:\n",
      "        title: Month\n",
      "        type: integer\n",
      "      day:\n",
      "        title: Day\n",
      "        type: integer\n",
      "    required:\n",
      "    - year\n",
      "    - month\n",
      "    - day\n"
     ]
    }
   ],
   "source": [
    "# imports ~~~~~~~~~~~~~~~~~~~~~~~~~~~~~~~~~~~~~~~~~~~~~~~~~~~~~~~~~~~~~~~~~~~\n",
    "import sys\n",
    "import ruamel.yaml\n",
    "\n",
    "# YAML dump ~~~~~~~~~~~~~~~~~~~~~~~~~~~~~~~~~~~~~~~~~~~~~~~~~~~~~~~~~~~~~~~~~\n",
    "yml = ruamel.yaml.YAML()\n",
    "yml.dump(user.__pydantic_model__.schema(), sys.stdout)"
   ]
  },
  {
   "cell_type": "markdown",
   "metadata": {},
   "source": [
    "`pydantic.dataclasses.dataclass`'s arguments are the same as the standard decorator, except one extra keyword argument `config` which has the same meaning as [`Config`](https://pydantic-docs.helpmanual.io/usage/model_config/).\n",
    "\n",
    "> Warning:\n",
    ">\n",
    "> After v1.2, `The Mypy plugin` must be installed to type check pydantic dataclasses.\n",
    "\n",
    "For more information about combining validators with dataclasses, see `dataclass validators`.\n",
    "\n",
    "---\n",
    "\n",
    "## Nested dataclasses\n",
    "\n",
    "Nested `dataclasses` are supported both in dataclasses and normal models."
   ]
  },
  {
   "cell_type": "code",
   "execution_count": 1,
   "metadata": {},
   "outputs": [
    {
     "name": "stdout",
     "output_type": "stream",
     "text": [
      "no validator found for <class '__main__.ArbitraryType'>, see `arbitrary_types_allowed` in Config\n",
      "Model(dc=_Pydantic_DC_94063534265920(a=ArbitraryType(value=3), b='qwe'), other='other')\n"
     ]
    }
   ],
   "source": [
    "# %load ../docs/examples/dataclasses_arbitrary_types_allowed.py\n",
    "import dataclasses\n",
    "\n",
    "import pydantic\n",
    "\n",
    "\n",
    "class ArbitraryType:\n",
    "    def __init__(self, value):\n",
    "        self.value = value\n",
    "\n",
    "    def __repr__(self):\n",
    "        return f'ArbitraryType(value={self.value!r})'\n",
    "\n",
    "\n",
    "@dataclasses.dataclass\n",
    "class DC:\n",
    "    a: ArbitraryType\n",
    "    b: str\n",
    "\n",
    "\n",
    "# valid as it is a builtin dataclass without validation\n",
    "my_dc = DC(a=ArbitraryType(value=3), b='qwe')\n",
    "\n",
    "try:\n",
    "    class Model(pydantic.BaseModel):\n",
    "        dc: DC\n",
    "        other: str\n",
    "\n",
    "    Model(dc=my_dc, other='other')\n",
    "except RuntimeError as e:  # invalid as it is now a pydantic dataclass\n",
    "    print(e)\n",
    "\n",
    "\n",
    "class Model(pydantic.BaseModel):\n",
    "    dc: DC\n",
    "    other: str\n",
    "\n",
    "    class Config:\n",
    "        arbitrary_types_allowed = True\n",
    "\n",
    "\n",
    "m = Model(dc=my_dc, other='other')\n",
    "print(repr(m))\n"
   ]
  },
  {
   "cell_type": "code",
   "execution_count": 2,
   "metadata": {},
   "outputs": [
    {
     "name": "stdout",
     "output_type": "stream",
     "text": [
      "dc=_Pydantic_DC_94063534265920(a=ArbitraryType(value=3), b='qwe') other='other'\n"
     ]
    }
   ],
   "source": [
    "# imports ~~~~~~~~~~~~~~~~~~~~~~~~~~~~~~~~~~~~~~~~~~~~~~~~~~~~~~~~~~~~~~~~~~~\n",
    "import sys\n",
    "import ruamel.yaml\n",
    "\n",
    "# YAML dump ~~~~~~~~~~~~~~~~~~~~~~~~~~~~~~~~~~~~~~~~~~~~~~~~~~~~~~~~~~~~~~~~~\n",
    "yml = ruamel.yaml.YAML()\n",
    "#yml.dump(m.dict(), sys.stdout)                         # not working\n",
    "#yml.dump(m.__pydantic_model__.schema(), sys.stdout)    # not working\n",
    "print(m)"
   ]
  },
  {
   "cell_type": "code",
   "execution_count": 5,
   "metadata": {},
   "outputs": [
    {
     "name": "stdout",
     "output_type": "stream",
     "text": [
      "Received path='world', base_path='/hello'\n"
     ]
    }
   ],
   "source": [
    "# %load ../docs/examples/dataclasses_initvars.py\n",
    "from dataclasses import InitVar\n",
    "from pathlib import Path\n",
    "from typing import Optional\n",
    "\n",
    "from pydantic.dataclasses import dataclass\n",
    "\n",
    "\n",
    "@dataclass\n",
    "class PathData:\n",
    "    path: Path\n",
    "    base_path: InitVar[Optional[Path]]\n",
    "\n",
    "    def __post_init__(self, base_path):\n",
    "        print(f'Received path={self.path!r}, base_path={base_path!r}')\n",
    "\n",
    "    def __post_init_post_parse__(self, base_path):\n",
    "        if base_path is not None:\n",
    "            self.path = base_path / self.path\n",
    "\n",
    "\n",
    "path_data = PathData('world', base_path='/hello')\n",
    "# Received path='world', base_path='/hello'\n",
    "assert path_data.path == Path('/hello/world')"
   ]
  },
  {
   "cell_type": "code",
   "execution_count": 6,
   "metadata": {},
   "outputs": [
    {
     "name": "stdout",
     "output_type": "stream",
     "text": [
      "{\n",
      "    \"id\": 42,\n",
      "    \"name\": \"John Doe\",\n",
      "    \"friends\": [\n",
      "        0\n",
      "    ]\n",
      "}\n"
     ]
    }
   ],
   "source": [
    "# %load ../docs/examples/dataclasses_json_dumps.py\n",
    "import dataclasses\n",
    "import json\n",
    "from typing import List\n",
    "\n",
    "from pydantic.dataclasses import dataclass\n",
    "from pydantic.json import pydantic_encoder\n",
    "\n",
    "\n",
    "@dataclass\n",
    "class User:\n",
    "    id: int\n",
    "    name: str = 'John Doe'\n",
    "    friends: List[int] = dataclasses.field(default_factory=lambda: [0])\n",
    "\n",
    "\n",
    "user = User(id='42')\n",
    "print(json.dumps(user, indent=4, default=pydantic_encoder))"
   ]
  },
  {
   "cell_type": "code",
   "execution_count": 8,
   "metadata": {},
   "outputs": [
    {
     "name": "stdout",
     "output_type": "stream",
     "text": [
      "Navbar(button=NavbarButton(href=AnyUrl('https://example.com', scheme='https', host='example.com', tld='com', host_type='domain')))\n"
     ]
    }
   ],
   "source": [
    "# %load ../docs/examples/dataclasses_nested.py\n",
    "from pydantic import AnyUrl\n",
    "from pydantic.dataclasses import dataclass\n",
    "\n",
    "\n",
    "@dataclass\n",
    "class NavbarButton:\n",
    "    href: AnyUrl\n",
    "\n",
    "\n",
    "@dataclass\n",
    "class Navbar:\n",
    "    button: NavbarButton\n",
    "\n",
    "\n",
    "navbar = Navbar(button=('https://example.com',))\n",
    "print(navbar)"
   ]
  },
  {
   "cell_type": "code",
   "execution_count": 9,
   "metadata": {},
   "outputs": [
    {
     "name": "stdout",
     "output_type": "stream",
     "text": [
      "{'year': 1995, 'month': 3, 'day': 2}\n",
      "Birth(year=1995, month=3, day=2)\n"
     ]
    }
   ],
   "source": [
    "# %load ../docs/examples/dataclasses_post_init_post_parse.py\n",
    "from pydantic.dataclasses import dataclass\n",
    "\n",
    "\n",
    "@dataclass\n",
    "class Birth:\n",
    "    year: int\n",
    "    month: int\n",
    "    day: int\n",
    "\n",
    "\n",
    "@dataclass\n",
    "class User:\n",
    "    birth: Birth\n",
    "\n",
    "    def __post_init__(self):\n",
    "        print(self.birth)\n",
    "\n",
    "    def __post_init_post_parse__(self):\n",
    "        print(self.birth)\n",
    "\n",
    "\n",
    "user = User(**{'birth': {'year': 1995, 'month': 3, 'day': 2}})"
   ]
  },
  {
   "cell_type": "code",
   "execution_count": 10,
   "metadata": {},
   "outputs": [
    {
     "name": "stdout",
     "output_type": "stream",
     "text": [
      "_Pydantic_X_94063534645664(z=3, y=2, x=1)\n",
      "1 validation error for X\n",
      "z\n",
      "  value is not a valid integer (type=type_error.integer)\n"
     ]
    }
   ],
   "source": [
    "# %load ../docs/examples/dataclasses_stdlib_inheritance.py\n",
    "import dataclasses\n",
    "\n",
    "import pydantic\n",
    "\n",
    "\n",
    "@dataclasses.dataclass\n",
    "class Z:\n",
    "    z: int\n",
    "\n",
    "\n",
    "@dataclasses.dataclass\n",
    "class Y(Z):\n",
    "    y: int = 0\n",
    "\n",
    "\n",
    "@pydantic.dataclasses.dataclass\n",
    "class X(Y):\n",
    "    x: int = 0\n",
    "\n",
    "\n",
    "foo = X(x=b'1', y='2', z='3')\n",
    "print(foo)\n",
    "\n",
    "try:\n",
    "    X(z='pika')\n",
    "except pydantic.ValidationError as e:\n",
    "    print(e)"
   ]
  },
  {
   "cell_type": "code",
   "execution_count": 11,
   "metadata": {},
   "outputs": [
    {
     "name": "stdout",
     "output_type": "stream",
     "text": [
      "_Pydantic_File_94063534670240(modified_date=datetime.datetime(2020, 1, 1, 0, 0), seen_count=7, filename='thefilename')\n",
      "1 validation error for File\n",
      "filename\n",
      "  str type expected (type=type_error.str)\n"
     ]
    }
   ],
   "source": [
    "# %load ../docs/examples/dataclasses_stdlib_to_pydantic.py\n",
    "import dataclasses\n",
    "from datetime import datetime\n",
    "from typing import Optional\n",
    "\n",
    "import pydantic\n",
    "\n",
    "\n",
    "@dataclasses.dataclass\n",
    "class Meta:\n",
    "    modified_date: Optional[datetime]\n",
    "    seen_count: int\n",
    "\n",
    "\n",
    "@dataclasses.dataclass\n",
    "class File(Meta):\n",
    "    filename: str\n",
    "\n",
    "\n",
    "File = pydantic.dataclasses.dataclass(File)\n",
    "\n",
    "file = File(\n",
    "    filename=b'thefilename',\n",
    "    modified_date='2020-01-01T00:00',\n",
    "    seen_count='7',\n",
    ")\n",
    "print(file)\n",
    "\n",
    "try:\n",
    "    File(\n",
    "        filename=['not', 'a', 'string'],\n",
    "        modified_date=None,\n",
    "        seen_count=3,\n",
    "    )\n",
    "except pydantic.ValidationError as e:\n",
    "    print(e)"
   ]
  },
  {
   "cell_type": "code",
   "execution_count": 12,
   "metadata": {},
   "outputs": [
    {
     "name": "stdout",
     "output_type": "stream",
     "text": [
      "File(filename=['not', 'a', 'string'], last_modification_time='2020-01-01T00:00')\n",
      "1 validation error for Foo\n",
      "file -> filename\n",
      "  str type expected (type=type_error.str)\n",
      "cannot assign to field 'name'\n"
     ]
    }
   ],
   "source": [
    "# %load ../docs/examples/dataclasses_stdlib_with_basemodel.py\n",
    "import dataclasses\n",
    "from datetime import datetime\n",
    "from typing import Optional\n",
    "\n",
    "from pydantic import BaseModel, ValidationError\n",
    "\n",
    "\n",
    "@dataclasses.dataclass(frozen=True)\n",
    "class User:\n",
    "    name: str\n",
    "\n",
    "\n",
    "@dataclasses.dataclass\n",
    "class File:\n",
    "    filename: str\n",
    "    last_modification_time: Optional[datetime] = None\n",
    "\n",
    "\n",
    "class Foo(BaseModel):\n",
    "    file: File\n",
    "    user: Optional[User] = None\n",
    "\n",
    "\n",
    "file = File(\n",
    "    filename=['not', 'a', 'string'],\n",
    "    last_modification_time='2020-01-01T00:00',\n",
    ")  # nothing is validated as expected\n",
    "print(file)\n",
    "\n",
    "try:\n",
    "    Foo(file=file)\n",
    "except ValidationError as e:\n",
    "    print(e)\n",
    "\n",
    "foo = Foo(file=File(filename='myfile'), user=User(name='pika'))\n",
    "try:\n",
    "    foo.user.name = 'bulbi'\n",
    "except dataclasses.FrozenInstanceError as e:\n",
    "    print(e)"
   ]
  },
  {
   "cell_type": "markdown",
   "metadata": {},
   "source": [
    "---"
   ]
  }
 ],
 "metadata": {
  "interpreter": {
   "hash": "949777d72b0d2535278d3dc13498b2535136f6dfe0678499012e853ee9abcab1"
  },
  "kernelspec": {
   "display_name": "Python 3.10.2 64-bit",
   "language": "python",
   "name": "python3"
  },
  "language_info": {
   "codemirror_mode": {
    "name": "ipython",
    "version": 3
   },
   "file_extension": ".py",
   "mimetype": "text/x-python",
   "name": "python",
   "nbconvert_exporter": "python",
   "pygments_lexer": "ipython3",
   "version": "3.10.2"
  },
  "orig_nbformat": 4
 },
 "nbformat": 4,
 "nbformat_minor": 2
}
