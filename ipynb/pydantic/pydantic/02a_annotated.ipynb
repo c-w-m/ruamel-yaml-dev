{
 "cells": [
  {
   "cell_type": "markdown",
   "metadata": {},
   "source": [
    "# [Annotated Types](https://pydantic-docs.helpmanual.io/usage/types/#annotated-types)\n",
    "\n",
    "These are not in the same order as seen on the docs wiki rather they are in alphabetical order as found at `../../docs/examples/annotated_*.py`\n",
    "\n",
    "---\n",
    "\n",
    "## NamedTuple"
   ]
  },
  {
   "cell_type": "code",
   "execution_count": 1,
   "metadata": {},
   "outputs": [
    {
     "name": "stdout",
     "output_type": "stream",
     "text": [
      "p=Point(x=1, y=2)\n",
      "1 validation error for Model\n",
      "p -> x\n",
      "  value is not a valid integer (type=type_error.integer)\n"
     ]
    }
   ],
   "source": [
    "# %load ../../docs/examples/annotated_types_named_tuple.py\n",
    "from typing import NamedTuple\n",
    "\n",
    "from pydantic import BaseModel, ValidationError\n",
    "\n",
    "\n",
    "class Point(NamedTuple):\n",
    "    x: int\n",
    "    y: int\n",
    "\n",
    "\n",
    "class Model(BaseModel):\n",
    "    p: Point\n",
    "\n",
    "\n",
    "print(Model(p=('1', '2')))\n",
    "\n",
    "try:\n",
    "    Model(p=('1.3', '2'))\n",
    "except ValidationError as e:\n",
    "    print(e)\n"
   ]
  },
  {
   "cell_type": "markdown",
   "metadata": {},
   "source": [
    "---\n",
    "\n",
    "## TypedDict\n",
    "\n",
    "> Note:\n",
    ">\n",
    "> This is a new feature of the python standard library as of python 3.8. Prior to\n",
    "> python 3.8, it requires the `typing-extensions` package. But required and optional\n",
    "> fields are properly differentiated only since python 3.9. We therefore recommend\n",
    "> using `typing-extensions` with python 3.8 as well (see [`requirements.txt`](../requirements.txt) file)."
   ]
  },
  {
   "cell_type": "code",
   "execution_count": 2,
   "metadata": {},
   "outputs": [
    {
     "name": "stdout",
     "output_type": "stream",
     "text": [
      "u={'identity': {'name': 'Smith', 'surname': 'John'}, 'age': 37}\n",
      "u={'identity': {'name': None, 'surname': 'John'}, 'age': 37}\n",
      "u={'identity': {}, 'age': 37}\n",
      "1 validation error for Model\n",
      "u -> identity -> name\n",
      "  str type expected (type=type_error.str)\n",
      "1 validation error for Model\n",
      "u -> email\n",
      "  extra fields not permitted (type=value_error.extra)\n"
     ]
    }
   ],
   "source": [
    "# %load ../docs/examples/annotated_types_typed_dict.py\n",
    "from typing_extensions import TypedDict\n",
    "\n",
    "from pydantic import BaseModel, Extra, ValidationError\n",
    "\n",
    "\n",
    "# `total=False` means keys are non-required\n",
    "class UserIdentity(TypedDict, total=False):\n",
    "    name: str\n",
    "    surname: str\n",
    "\n",
    "\n",
    "class User(TypedDict):\n",
    "    identity: UserIdentity\n",
    "    age: int\n",
    "\n",
    "\n",
    "class Model(BaseModel):\n",
    "    u: User\n",
    "\n",
    "    class Config:\n",
    "        extra = Extra.forbid\n",
    "\n",
    "\n",
    "print(Model(u={'identity': {'name': 'Smith', 'surname': 'John'}, 'age': '37'}))\n",
    "\n",
    "print(Model(u={'identity': {'name': None, 'surname': 'John'}, 'age': '37'}))\n",
    "\n",
    "print(Model(u={'identity': {}, 'age': '37'}))\n",
    "\n",
    "\n",
    "try:\n",
    "    Model(u={'identity': {'name': ['Smith'], 'surname': 'John'}, 'age': '24'})\n",
    "except ValidationError as e:\n",
    "    print(e)\n",
    "\n",
    "try:\n",
    "    Model(\n",
    "        u={\n",
    "            'identity': {'name': 'Smith', 'surname': 'John'},\n",
    "            'age': '37',\n",
    "            'email': 'john.smith@me.com',\n",
    "        }\n",
    "    )\n",
    "except ValidationError as e:\n",
    "    print(e)"
   ]
  },
  {
   "cell_type": "code",
   "execution_count": 3,
   "metadata": {},
   "outputs": [
    {
     "name": "stdout",
     "output_type": "stream",
     "text": [
      "u:\n",
      "  identity:\n",
      "    name: Smith\n",
      "    surname: John\n",
      "  age: 37\n"
     ]
    }
   ],
   "source": [
    "# imports ~~~~~~~~~~~~~~~~~~~~~~~~~~~~~~~~~~~~~~~~~~~~~~~~~~~~~~~~~~~~~~~~~~~\n",
    "import sys\n",
    "import ruamel.yaml\n",
    "\n",
    "# YAML dump ~~~~~~~~~~~~~~~~~~~~~~~~~~~~~~~~~~~~~~~~~~~~~~~~~~~~~~~~~~~~~~~~~\n",
    "mdl = Model(u={'identity': {'name': 'Smith', 'surname': 'John'}, 'age': '37'})\n",
    "\n",
    "# FIXME: dump is not working\n",
    "yml = ruamel.yaml.YAML()\n",
    "yml.dump(mdl.dict(), sys.stdout)"
   ]
  },
  {
   "cell_type": "code",
   "execution_count": 6,
   "metadata": {},
   "outputs": [
    {
     "data": {
      "text/plain": [
       "{'name': 'Smith', 'surname': 'John'}"
      ]
     },
     "execution_count": 6,
     "metadata": {},
     "output_type": "execute_result"
    }
   ],
   "source": [
    "mdl"
   ]
  },
  {
   "cell_type": "markdown",
   "metadata": {},
   "source": [
    "---\n",
    "\n",
    "## TypedDict"
   ]
  },
  {
   "cell_type": "code",
   "execution_count": null,
   "metadata": {},
   "outputs": [],
   "source": []
  },
  {
   "cell_type": "markdown",
   "metadata": {},
   "source": [
    "---"
   ]
  }
 ],
 "metadata": {
  "interpreter": {
   "hash": "949777d72b0d2535278d3dc13498b2535136f6dfe0678499012e853ee9abcab1"
  },
  "kernelspec": {
   "display_name": "Python 3.10.2 64-bit",
   "language": "python",
   "name": "python3"
  },
  "language_info": {
   "codemirror_mode": {
    "name": "ipython",
    "version": 3
   },
   "file_extension": ".py",
   "mimetype": "text/x-python",
   "name": "python",
   "nbconvert_exporter": "python",
   "pygments_lexer": "ipython3",
   "version": "3.10.2"
  },
  "orig_nbformat": 4
 },
 "nbformat": 4,
 "nbformat_minor": 2
}
