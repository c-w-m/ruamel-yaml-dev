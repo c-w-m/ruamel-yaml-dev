{
 "cells": [
  {
   "cell_type": "markdown",
   "metadata": {},
   "source": [
    "![](img/visitor.py.png)\n",
    "\n",
    "---"
   ]
  },
  {
   "cell_type": "code",
   "execution_count": 2,
   "metadata": {},
   "outputs": [
    {
     "name": "stdout",
     "output_type": "stream",
     "text": [
      "generic_visit A\n",
      "visit_B B\n",
      "visit_B C\n"
     ]
    }
   ],
   "source": [
    "\"\"\"\n",
    "http://peter-hoffmann.com/2010/extrinsic-visitor-pattern-python-inheritance.html\n",
    "\n",
    "*TL;DR\n",
    "Separates an algorithm from an object structure on which it operates.\n",
    "\n",
    "An interesting recipe could be found in\n",
    "Brian Jones, David Beazley \"Python Cookbook\" (2013):\n",
    "- \"8.21. Implementing the Visitor Pattern\"\n",
    "- \"8.22. Implementing the Visitor Pattern Without Recursion\"\n",
    "\n",
    "*Examples in Python ecosystem:\n",
    "- Python's ast.NodeVisitor: https://github.com/python/cpython/blob/master/Lib/ast.py#L250\n",
    "which is then being used e.g. in tools like `pyflakes`.\n",
    "- `Black` formatter tool implements it's own: https://github.com/ambv/black/blob/master/black.py#L718\n",
    "\"\"\"\n",
    "\n",
    "\n",
    "class Node:\n",
    "    pass\n",
    "\n",
    "\n",
    "class A(Node):\n",
    "    pass\n",
    "\n",
    "\n",
    "class B(Node):\n",
    "    pass\n",
    "\n",
    "\n",
    "class C(A, B):\n",
    "    pass\n",
    "\n",
    "\n",
    "class Visitor:\n",
    "    def visit(self, node, *args, **kwargs):\n",
    "        meth = None\n",
    "        for cls in node.__class__.__mro__:\n",
    "            meth_name = \"visit_\" + cls.__name__\n",
    "            meth = getattr(self, meth_name, None)\n",
    "            if meth:\n",
    "                break\n",
    "\n",
    "        if not meth:\n",
    "            meth = self.generic_visit\n",
    "        return meth(node, *args, **kwargs)\n",
    "\n",
    "    def generic_visit(self, node, *args, **kwargs):\n",
    "        print(\"generic_visit \" + node.__class__.__name__)\n",
    "\n",
    "    def visit_B(self, node, *args, **kwargs):\n",
    "        print(\"visit_B \" + node.__class__.__name__)\n",
    "\n",
    "\n",
    "def main():\n",
    "    a, b, c = A(), B(), C()\n",
    "    visitor = Visitor()\n",
    "\n",
    "    visitor.visit(a)\n",
    "    # generic_visit A\n",
    "\n",
    "    visitor.visit(b)\n",
    "    # visit_B B\n",
    "\n",
    "    visitor.visit(c)\n",
    "    # visit_B C\n",
    "  \n",
    "\n",
    "main()\n",
    "\n",
    "# generic_visit A\n",
    "# visit_B B\n",
    "# visit_B C"
   ]
  }
 ],
 "metadata": {
  "interpreter": {
   "hash": "949777d72b0d2535278d3dc13498b2535136f6dfe0678499012e853ee9abcab1"
  },
  "kernelspec": {
   "display_name": "Python 3.10.2 64-bit",
   "language": "python",
   "name": "python3"
  },
  "language_info": {
   "codemirror_mode": {
    "name": "ipython",
    "version": 3
   },
   "file_extension": ".py",
   "mimetype": "text/x-python",
   "name": "python",
   "nbconvert_exporter": "python",
   "pygments_lexer": "ipython3",
   "version": "3.10.2"
  },
  "orig_nbformat": 4
 },
 "nbformat": 4,
 "nbformat_minor": 2
}
