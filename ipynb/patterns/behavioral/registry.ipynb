{
 "cells": [
  {
   "cell_type": "markdown",
   "metadata": {},
   "source": [
    "![](img/registry.py.png)\n",
    "\n",
    "---"
   ]
  },
  {
   "cell_type": "code",
   "execution_count": 1,
   "metadata": {},
   "outputs": [
    {
     "name": "stdout",
     "output_type": "stream",
     "text": [
      "['BaseRegisteredClass']\n",
      "['BaseRegisteredClass', 'ClassRegistree']\n"
     ]
    }
   ],
   "source": [
    "from typing import Dict\n",
    "\n",
    "\n",
    "class RegistryHolder(type):\n",
    "\n",
    "    REGISTRY: Dict[str, \"RegistryHolder\"] = {}\n",
    "\n",
    "    def __new__(cls, name, bases, attrs):\n",
    "        new_cls = type.__new__(cls, name, bases, attrs)\n",
    "        \"\"\"\n",
    "            Here the name of the class is used as key but it could be any class\n",
    "            parameter.\n",
    "        \"\"\"\n",
    "        cls.REGISTRY[new_cls.__name__] = new_cls\n",
    "        return new_cls\n",
    "\n",
    "    @classmethod\n",
    "    def get_registry(cls):\n",
    "        return dict(cls.REGISTRY)\n",
    "\n",
    "\n",
    "class BaseRegisteredClass(metaclass=RegistryHolder):\n",
    "    \"\"\"\n",
    "    Any class that will inherits from BaseRegisteredClass will be included\n",
    "    inside the dict RegistryHolder.REGISTRY, the key being the name of the\n",
    "    class and the associated value, the class itself.\n",
    "    \"\"\"\n",
    "\n",
    "\n",
    "def main():\n",
    "    # Before subclassing\n",
    "    print(sorted(RegistryHolder.REGISTRY))\n",
    "    # ['BaseRegisteredClass']\n",
    "\n",
    "    class ClassRegistree(BaseRegisteredClass):\n",
    "       def __init__(self, *args, **kwargs):\n",
    "           pass\n",
    "\n",
    "    # After subclassing\n",
    "    print(sorted(RegistryHolder.REGISTRY))\n",
    "    # ['BaseRegisteredClass', 'ClassRegistree']\n",
    "\n",
    "\n",
    "main()\n",
    "\n",
    "# ['BaseRegisteredClass']\n",
    "# ['BaseRegisteredClass', 'ClassRegistree']"
   ]
  }
 ],
 "metadata": {
  "interpreter": {
   "hash": "949777d72b0d2535278d3dc13498b2535136f6dfe0678499012e853ee9abcab1"
  },
  "kernelspec": {
   "display_name": "Python 3.10.2 64-bit",
   "language": "python",
   "name": "python3"
  },
  "language_info": {
   "codemirror_mode": {
    "name": "ipython",
    "version": 3
   },
   "file_extension": ".py",
   "mimetype": "text/x-python",
   "name": "python",
   "nbconvert_exporter": "python",
   "pygments_lexer": "ipython3",
   "version": "3.10.2"
  },
  "orig_nbformat": 4
 },
 "nbformat": 4,
 "nbformat_minor": 2
}
