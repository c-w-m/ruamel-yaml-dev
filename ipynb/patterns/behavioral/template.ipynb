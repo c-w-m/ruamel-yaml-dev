{
 "cells": [
  {
   "cell_type": "markdown",
   "metadata": {},
   "source": [
    "![](img/template.py.png)\n",
    "\n",
    "---"
   ]
  },
  {
   "cell_type": "code",
   "execution_count": 1,
   "metadata": {},
   "outputs": [
    {
     "name": "stdout",
     "output_type": "stream",
     "text": [
      "Got `plain-text`\n",
      "Skip conversion\n",
      "[SAVE]\n",
      "`plain-text` was processed\n",
      "Got `pdf`\n",
      "[CONVERT]\n",
      "`pdf as text` was processed\n",
      "Got `csv`\n",
      "Skip conversion\n",
      "[SAVE]\n",
      "`csv` was processed\n"
     ]
    }
   ],
   "source": [
    "\"\"\"\n",
    "An example of the Template pattern in Python\n",
    "\n",
    "*TL;DR\n",
    "Defines the skeleton of a base algorithm, deferring definition of exact\n",
    "steps to subclasses.\n",
    "\n",
    "*Examples in Python ecosystem:\n",
    "Django class based views: https://docs.djangoproject.com/en/2.1/topics/class-based-views/\n",
    "\"\"\"\n",
    "\n",
    "\n",
    "def get_text():\n",
    "    return \"plain-text\"\n",
    "\n",
    "\n",
    "def get_pdf():\n",
    "    return \"pdf\"\n",
    "\n",
    "\n",
    "def get_csv():\n",
    "    return \"csv\"\n",
    "\n",
    "\n",
    "def convert_to_text(data):\n",
    "    print(\"[CONVERT]\")\n",
    "    return f\"{data} as text\"\n",
    "\n",
    "\n",
    "def saver():\n",
    "    print(\"[SAVE]\")\n",
    "\n",
    "\n",
    "def template_function(getter, converter=False, to_save=False):\n",
    "    data = getter()\n",
    "    print(f\"Got `{data}`\")\n",
    "\n",
    "    if len(data) <= 3 and converter:\n",
    "        data = converter(data)\n",
    "    else:\n",
    "        print(\"Skip conversion\")\n",
    "\n",
    "    if to_save:\n",
    "        saver()\n",
    "\n",
    "    print(f\"`{data}` was processed\")\n",
    "\n",
    "\n",
    "def main():\n",
    "    template_function(get_text, to_save=True)\n",
    "    # Got `plain-text`\n",
    "    # Skip conversion\n",
    "    # [SAVE]\n",
    "    # `plain-text` was processed\n",
    "\n",
    "    template_function(get_pdf, converter=convert_to_text)\n",
    "    # Got `pdf`\n",
    "    # [CONVERT]\n",
    "    # `pdf as text` was processed\n",
    "\n",
    "    template_function(get_csv, to_save=True)\n",
    "    # Got `csv`\n",
    "    # Skip conversion\n",
    "    # [SAVE]\n",
    "    # `csv` was processed\n",
    "  \n",
    "\n",
    "main()\n",
    "\n",
    "# Got `plain-text`\n",
    "# Skip conversion\n",
    "# [SAVE]\n",
    "# `plain-text` was processed\n",
    "# Got `pdf`\n",
    "# [CONVERT]\n",
    "# `pdf as text` was processed\n",
    "# Got `csv`\n",
    "# Skip conversion\n",
    "# [SAVE]\n",
    "# `csv` was processed"
   ]
  }
 ],
 "metadata": {
  "interpreter": {
   "hash": "949777d72b0d2535278d3dc13498b2535136f6dfe0678499012e853ee9abcab1"
  },
  "kernelspec": {
   "display_name": "Python 3.10.2 64-bit",
   "language": "python",
   "name": "python3"
  },
  "language_info": {
   "codemirror_mode": {
    "name": "ipython",
    "version": 3
   },
   "file_extension": ".py",
   "mimetype": "text/x-python",
   "name": "python",
   "nbconvert_exporter": "python",
   "pygments_lexer": "ipython3",
   "version": "3.10.2"
  },
  "orig_nbformat": 4
 },
 "nbformat": 4,
 "nbformat_minor": 2
}
