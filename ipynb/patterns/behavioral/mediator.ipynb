{
 "cells": [
  {
   "cell_type": "markdown",
   "metadata": {},
   "source": [
    "![](img/mediator.py.png)\n",
    "\n",
    "---"
   ]
  },
  {
   "cell_type": "code",
   "execution_count": 1,
   "metadata": {},
   "outputs": [
    {
     "name": "stdout",
     "output_type": "stream",
     "text": [
      "[Molly says]: Hi Team! Meeting at 3 PM today.\n",
      "[Mark says]: Roger that!\n",
      "[Ethan says]: Alright.\n"
     ]
    }
   ],
   "source": [
    "\"\"\"\n",
    "https://www.djangospin.com/design-patterns-python/mediator/\n",
    "\n",
    "Objects in a system communicate through a Mediator instead of directly with each other.\n",
    "This reduces the dependencies between communicating objects, thereby reducing coupling.\n",
    "\n",
    "*TL;DR\n",
    "Encapsulates how a set of objects interact.\n",
    "\"\"\"\n",
    "\n",
    "from __future__ import annotations\n",
    "\n",
    "\n",
    "class ChatRoom:\n",
    "    \"\"\"Mediator class\"\"\"\n",
    "\n",
    "    def display_message(self, user: User, message: str) -> None:\n",
    "        print(f\"[{user} says]: {message}\")\n",
    "\n",
    "\n",
    "class User:\n",
    "    \"\"\"A class whose instances want to interact with each other\"\"\"\n",
    "\n",
    "    def __init__(self, name: str) -> None:\n",
    "        self.name = name\n",
    "        self.chat_room = ChatRoom()\n",
    "\n",
    "    def say(self, message: str) -> None:\n",
    "        self.chat_room.display_message(self, message)\n",
    "\n",
    "    def __str__(self) -> str:\n",
    "        return self.name\n",
    "\n",
    "\n",
    "def main():\n",
    "    molly = User('Molly')\n",
    "    mark = User('Mark')\n",
    "    ethan = User('Ethan')\n",
    "\n",
    "    molly.say(\"Hi Team! Meeting at 3 PM today.\")\n",
    "    # [Molly says]: Hi Team! Meeting at 3 PM today.\n",
    "\n",
    "    mark.say(\"Roger that!\")\n",
    "    # [Mark says]: Roger that!\n",
    "\n",
    "    ethan.say(\"Alright.\")\n",
    "    # [Ethan says]: Alright.\n",
    "\n",
    "\n",
    "main()\n",
    "\n",
    "# [Molly says]: Hi Team! Meeting at 3 PM today.\n",
    "# [Mark says]: Roger that!\n",
    "# [Ethan says]: Alright."
   ]
  }
 ],
 "metadata": {
  "interpreter": {
   "hash": "949777d72b0d2535278d3dc13498b2535136f6dfe0678499012e853ee9abcab1"
  },
  "kernelspec": {
   "display_name": "Python 3.10.2 64-bit",
   "language": "python",
   "name": "python3"
  },
  "language_info": {
   "codemirror_mode": {
    "name": "ipython",
    "version": 3
   },
   "file_extension": ".py",
   "mimetype": "text/x-python",
   "name": "python",
   "nbconvert_exporter": "python",
   "pygments_lexer": "ipython3",
   "version": "3.10.2"
  },
  "orig_nbformat": 4
 },
 "nbformat": 4,
 "nbformat_minor": 2
}
