{
 "cells": [
  {
   "cell_type": "markdown",
   "metadata": {},
   "source": [
    "![](img/iterator.py.png)\n",
    "\n",
    "---"
   ]
  },
  {
   "cell_type": "code",
   "execution_count": 1,
   "metadata": {},
   "outputs": [
    {
     "name": "stdout",
     "output_type": "stream",
     "text": [
      "one\n",
      "two\n",
      "one\n",
      "two\n",
      "three\n",
      "four\n",
      "five\n"
     ]
    }
   ],
   "source": [
    "\"\"\"\n",
    "http://ginstrom.com/scribbles/2007/10/08/design-patterns-python-style/\n",
    "Implementation of the iterator pattern with a generator\n",
    "\n",
    "*TL;DR\n",
    "Traverses a container and accesses the container's elements.\n",
    "\"\"\"\n",
    "\n",
    "\n",
    "def count_to(count):\n",
    "    \"\"\"Counts by word numbers, up to a maximum of five\"\"\"\n",
    "    numbers = [\"one\", \"two\", \"three\", \"four\", \"five\"]\n",
    "    yield from numbers[:count]\n",
    "\n",
    "\n",
    "# Test the generator\n",
    "def count_to_two() -> None:\n",
    "    return count_to(2)\n",
    "\n",
    "\n",
    "def count_to_five() -> None:\n",
    "    return count_to(5)\n",
    "\n",
    "\n",
    "def main():\n",
    "    # Counting to two...\n",
    "    for number in count_to_two():\n",
    "        print(number)\n",
    "    # one\n",
    "    # two\n",
    "\n",
    "    # Counting to five...\n",
    "    for number in count_to_five():\n",
    "        print(number)\n",
    "    # one\n",
    "    # two\n",
    "    # three\n",
    "    # four\n",
    "    # five\n",
    " \n",
    "\n",
    "main()\n",
    "\n",
    "# one\n",
    "# two\n",
    "# one\n",
    "# two\n",
    "# three\n",
    "# four\n",
    "# five"
   ]
  }
 ],
 "metadata": {
  "interpreter": {
   "hash": "949777d72b0d2535278d3dc13498b2535136f6dfe0678499012e853ee9abcab1"
  },
  "kernelspec": {
   "display_name": "Python 3.10.2 64-bit",
   "language": "python",
   "name": "python3"
  },
  "language_info": {
   "codemirror_mode": {
    "name": "ipython",
    "version": 3
   },
   "file_extension": ".py",
   "mimetype": "text/x-python",
   "name": "python",
   "nbconvert_exporter": "python",
   "pygments_lexer": "ipython3",
   "version": "3.10.2"
  },
  "orig_nbformat": 4
 },
 "nbformat": 4,
 "nbformat_minor": 2
}
