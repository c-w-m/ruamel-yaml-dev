{
 "cells": [
  {
   "cell_type": "markdown",
   "metadata": {},
   "source": [
    "![](img/iterator.py.png)\n",
    "\n",
    "---"
   ]
  },
  {
   "cell_type": "code",
   "execution_count": 1,
   "metadata": {},
   "outputs": [
    {
     "name": "stdout",
     "output_type": "stream",
     "text": [
      "one\n",
      "two\n",
      "one\n",
      "two\n",
      "three\n",
      "four\n",
      "five\n"
     ]
    }
   ],
   "source": [
    "\"\"\"\n",
    "Implementation of the iterator pattern using the iterator protocol from Python\n",
    "\n",
    "*TL;DR\n",
    "Traverses a container and accesses the container's elements.\n",
    "\"\"\"\n",
    "from __future__ import annotations\n",
    "\n",
    "\n",
    "class NumberWords:\n",
    "    \"\"\"Counts by word numbers, up to a maximum of five\"\"\"\n",
    "\n",
    "    _WORD_MAP = (\n",
    "        \"one\",\n",
    "        \"two\",\n",
    "        \"three\",\n",
    "        \"four\",\n",
    "        \"five\",\n",
    "    )\n",
    "\n",
    "    def __init__(self, start: int, stop: int) -> None:\n",
    "        self.start = start\n",
    "        self.stop = stop\n",
    "\n",
    "    def __iter__(self) -> NumberWords:  # this makes the class an Iterable\n",
    "        return self\n",
    "\n",
    "    def __next__(self) -> str:  # this makes the class an Iterator\n",
    "        if self.start > self.stop or self.start > len(self._WORD_MAP):\n",
    "            raise StopIteration\n",
    "        current = self.start\n",
    "        self.start += 1\n",
    "        return self._WORD_MAP[current - 1]\n",
    "\n",
    "\n",
    "# Test the iterator\n",
    "def main():\n",
    "    # Counting to two...\n",
    "    for number in NumberWords(start=1, stop=2):\n",
    "        print(number)\n",
    "    # one\n",
    "    # two\n",
    "\n",
    "    # Counting to five...\n",
    "    for number in NumberWords(start=1, stop=5):\n",
    "        print(number)\n",
    "    # one\n",
    "    # two\n",
    "    # three\n",
    "    # four\n",
    "    # five\n",
    "\n",
    "\n",
    "main()\n",
    "\n",
    "# one\n",
    "# two\n",
    "# one\n",
    "# two\n",
    "# three\n",
    "# four\n",
    "# five"
   ]
  }
 ],
 "metadata": {
  "interpreter": {
   "hash": "949777d72b0d2535278d3dc13498b2535136f6dfe0678499012e853ee9abcab1"
  },
  "kernelspec": {
   "display_name": "Python 3.10.2 64-bit",
   "language": "python",
   "name": "python3"
  },
  "language_info": {
   "codemirror_mode": {
    "name": "ipython",
    "version": 3
   },
   "file_extension": ".py",
   "mimetype": "text/x-python",
   "name": "python",
   "nbconvert_exporter": "python",
   "pygments_lexer": "ipython3",
   "version": "3.10.2"
  },
  "orig_nbformat": 4
 },
 "nbformat": 4,
 "nbformat_minor": 2
}
