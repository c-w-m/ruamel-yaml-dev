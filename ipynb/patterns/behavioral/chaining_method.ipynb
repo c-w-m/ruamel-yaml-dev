{
 "cells": [
  {
   "cell_type": "markdown",
   "metadata": {},
   "source": [
    "![](img/chaining_method.py.png)\n",
    "\n",
    "---"
   ]
  },
  {
   "cell_type": "code",
   "execution_count": 2,
   "metadata": {},
   "outputs": [
    {
     "name": "stdout",
     "output_type": "stream",
     "text": [
      "Jack move 5m then stop\n"
     ]
    }
   ],
   "source": [
    "from __future__ import annotations\n",
    "\n",
    "\n",
    "class Person:\n",
    "    def __init__(self, name: str, action: Action) -> None:\n",
    "        self.name = name\n",
    "        self.action = action\n",
    "\n",
    "    def do_action(self) -> Action:\n",
    "        print(self.name, self.action.name, end=\" \")\n",
    "        return self.action\n",
    "\n",
    "\n",
    "class Action:\n",
    "    def __init__(self, name: str) -> None:\n",
    "        self.name = name\n",
    "\n",
    "    def amount(self, val: str) -> Action:\n",
    "        print(val, end=\" \")\n",
    "        return self\n",
    "\n",
    "    def stop(self) -> None:\n",
    "        print(\"then stop\")\n",
    "\n",
    "\n",
    "def main():\n",
    "    move = Action('move')\n",
    "    person = Person('Jack', move)\n",
    "    person.do_action().amount('5m').stop()\n",
    "    # Jack move 5m then stop\n",
    "\n",
    "main()\n",
    "\n",
    "# Jack move 5m then stop"
   ]
  }
 ],
 "metadata": {
  "interpreter": {
   "hash": "949777d72b0d2535278d3dc13498b2535136f6dfe0678499012e853ee9abcab1"
  },
  "kernelspec": {
   "display_name": "Python 3.10.2 64-bit",
   "language": "python",
   "name": "python3"
  },
  "language_info": {
   "codemirror_mode": {
    "name": "ipython",
    "version": 3
   },
   "file_extension": ".py",
   "mimetype": "text/x-python",
   "name": "python",
   "nbconvert_exporter": "python",
   "pygments_lexer": "ipython3",
   "version": "3.10.2"
  },
  "orig_nbformat": 4
 },
 "nbformat": 4,
 "nbformat_minor": 2
}
