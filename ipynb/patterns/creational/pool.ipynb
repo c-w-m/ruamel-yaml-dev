{
 "cells": [
  {
   "cell_type": "markdown",
   "metadata": {},
   "source": [
    "![](img/pool.py.png)\n",
    "\n",
    "---"
   ]
  },
  {
   "cell_type": "code",
   "execution_count": 1,
   "metadata": {},
   "outputs": [
    {
     "name": "stdout",
     "output_type": "stream",
     "text": [
      "Inside with: yam\n",
      "Outside with: yam\n",
      "Inside func: sam\n",
      "Outside func: sam\n"
     ]
    }
   ],
   "source": [
    "\"\"\"\n",
    "*What is this pattern about?\n",
    "This pattern is used when creating an object is costly (and they are\n",
    "created frequently) but only a few are used at a time. With a Pool we\n",
    "can manage those instances we have as of now by caching them. Now it\n",
    "is possible to skip the costly creation of an object if one is\n",
    "available in the pool.\n",
    "A pool allows to 'check out' an inactive object and then to return it.\n",
    "If none are available the pool creates one to provide without wait.\n",
    "\n",
    "*What does this example do?\n",
    "In this example queue.Queue is used to create the pool (wrapped in a\n",
    "custom ObjectPool object to use with the with statement), and it is\n",
    "populated with strings.\n",
    "As we can see, the first string object put in \"yam\" is USED by the\n",
    "with statement. But because it is released back into the pool\n",
    "afterwards it is reused by the explicit call to sample_queue.get().\n",
    "Same thing happens with \"sam\", when the ObjectPool created inside the\n",
    "function is deleted (by the GC) and the object is returned.\n",
    "\n",
    "*Where is the pattern used practically?\n",
    "\n",
    "*References:\n",
    "http://stackoverflow.com/questions/1514120/python-implementation-of-the-object-pool-design-pattern\n",
    "https://sourcemaking.com/design_patterns/object_pool\n",
    "\n",
    "*TL;DR\n",
    "Stores a set of initialized objects kept ready to use.\n",
    "\"\"\"\n",
    "\n",
    "\n",
    "class ObjectPool:\n",
    "    def __init__(self, queue, auto_get=False):\n",
    "        self._queue = queue\n",
    "        self.item = self._queue.get() if auto_get else None\n",
    "\n",
    "    def __enter__(self):\n",
    "        if self.item is None:\n",
    "            self.item = self._queue.get()\n",
    "        return self.item\n",
    "\n",
    "    def __exit__(self, Type, value, traceback):\n",
    "        if self.item is not None:\n",
    "            self._queue.put(self.item)\n",
    "            self.item = None\n",
    "\n",
    "    def __del__(self):\n",
    "        if self.item is not None:\n",
    "            self._queue.put(self.item)\n",
    "            self.item = None\n",
    "\n",
    "\n",
    "def main():\n",
    "    import queue\n",
    "\n",
    "    def test_object(queue):\n",
    "       pool = ObjectPool(queue, True)\n",
    "       print('Inside func: {}'.format(pool.item))\n",
    "\n",
    "    sample_queue = queue.Queue()\n",
    "\n",
    "    sample_queue.put('yam')\n",
    "    with ObjectPool(sample_queue) as obj:\n",
    "       print('Inside with: {}'.format(obj))\n",
    "    # Inside with: yam\n",
    "\n",
    "    print('Outside with: {}'.format(sample_queue.get()))\n",
    "    # Outside with: yam\n",
    "\n",
    "    sample_queue.put('sam')\n",
    "    test_object(sample_queue)\n",
    "    # Inside func: sam\n",
    "\n",
    "    print('Outside func: {}'.format(sample_queue.get()))\n",
    "    # Outside func: sam\n",
    "\n",
    "    if not sample_queue.empty():\n",
    "        print(sample_queue.get())\n",
    "\n",
    "\n",
    "main()\n",
    "\n",
    "# Inside with: yam\n",
    "# Outside with: yam\n",
    "# Inside func: sam\n",
    "# Outside func: sam"
   ]
  }
 ],
 "metadata": {
  "interpreter": {
   "hash": "949777d72b0d2535278d3dc13498b2535136f6dfe0678499012e853ee9abcab1"
  },
  "kernelspec": {
   "display_name": "Python 3.10.2 64-bit",
   "language": "python",
   "name": "python3"
  },
  "language_info": {
   "codemirror_mode": {
    "name": "ipython",
    "version": 3
   },
   "file_extension": ".py",
   "mimetype": "text/x-python",
   "name": "python",
   "nbconvert_exporter": "python",
   "pygments_lexer": "ipython3",
   "version": "3.10.2"
  },
  "orig_nbformat": 4
 },
 "nbformat": 4,
 "nbformat_minor": 2
}
