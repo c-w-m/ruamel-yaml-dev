{
 "cells": [
  {
   "cell_type": "markdown",
   "metadata": {},
   "source": [
    "![](img/prototype.py.png)\n",
    "\n",
    "---"
   ]
  },
  {
   "cell_type": "code",
   "execution_count": 1,
   "metadata": {},
   "outputs": [
    {
     "name": "stdout",
     "output_type": "stream",
     "text": [
      "a True\n"
     ]
    }
   ],
   "source": [
    "\"\"\"\n",
    "*What is this pattern about?\n",
    "This patterns aims to reduce the number of classes required by an\n",
    "application. Instead of relying on subclasses it creates objects by\n",
    "copying a prototypical instance at run-time.\n",
    "\n",
    "This is useful as it makes it easier to derive new kinds of objects,\n",
    "when instances of the class have only a few different combinations of\n",
    "state, and when instantiation is expensive.\n",
    "\n",
    "*What does this example do?\n",
    "When the number of prototypes in an application can vary, it can be\n",
    "useful to keep a Dispatcher (aka, Registry or Manager). This allows\n",
    "clients to query the Dispatcher for a prototype before cloning a new\n",
    "instance.\n",
    "\n",
    "Below provides an example of such Dispatcher, which contains three\n",
    "copies of the prototype: 'default', 'objecta' and 'objectb'.\n",
    "\n",
    "*TL;DR\n",
    "Creates new object instances by cloning prototype.\n",
    "\"\"\"\n",
    "from __future__ import annotations\n",
    "\n",
    "from typing import Any\n",
    "\n",
    "\n",
    "class Prototype:\n",
    "    def __init__(self, value: str = \"default\", **attrs: Any) -> None:\n",
    "        self.value = value\n",
    "        self.__dict__.update(attrs)\n",
    "\n",
    "    def clone(self, **attrs: Any) -> Prototype:\n",
    "        \"\"\"Clone a prototype and update inner attributes dictionary\"\"\"\n",
    "        # Python in Practice, Mark Summerfield\n",
    "        # copy.deepcopy can be used instead of next line.\n",
    "        obj = self.__class__(**self.__dict__)\n",
    "        obj.__dict__.update(attrs)\n",
    "        return obj\n",
    "\n",
    "\n",
    "class PrototypeDispatcher:\n",
    "    def __init__(self):\n",
    "        self._objects = {}\n",
    "\n",
    "    def get_objects(self) -> dict[str, Prototype]:\n",
    "        \"\"\"Get all objects\"\"\"\n",
    "        return self._objects\n",
    "\n",
    "    def register_object(self, name: str, obj: Prototype) -> None:\n",
    "        \"\"\"Register an object\"\"\"\n",
    "        self._objects[name] = obj\n",
    "\n",
    "    def unregister_object(self, name: str) -> None:\n",
    "        \"\"\"Unregister an object\"\"\"\n",
    "        del self._objects[name]\n",
    "\n",
    "\n",
    "def main() -> None:\n",
    "    dispatcher = PrototypeDispatcher()\n",
    "    prototype = Prototype()\n",
    "\n",
    "    d = prototype.clone()\n",
    "    a = prototype.clone(value='a-value', category='a')\n",
    "    b = a.clone(value='b-value', is_checked=True)\n",
    "    dispatcher.register_object('objecta', a)\n",
    "    dispatcher.register_object('objectb', b)\n",
    "    dispatcher.register_object('default', d)\n",
    "\n",
    "    [{n: p.value} for n, p in dispatcher.get_objects().items()]\n",
    "    # [{'objecta': 'a-value'}, {'objectb': 'b-value'}, {'default': 'default'}]\n",
    "\n",
    "    print(b.category, b.is_checked)\n",
    "    # a True\n",
    "\n",
    "\n",
    "main()\n",
    "\n",
    "# a True"
   ]
  }
 ],
 "metadata": {
  "interpreter": {
   "hash": "949777d72b0d2535278d3dc13498b2535136f6dfe0678499012e853ee9abcab1"
  },
  "kernelspec": {
   "display_name": "Python 3.10.2 64-bit",
   "language": "python",
   "name": "python3"
  },
  "language_info": {
   "codemirror_mode": {
    "name": "ipython",
    "version": 3
   },
   "file_extension": ".py",
   "mimetype": "text/x-python",
   "name": "python",
   "nbconvert_exporter": "python",
   "pygments_lexer": "ipython3",
   "version": "3.10.2"
  },
  "orig_nbformat": 4
 },
 "nbformat": 4,
 "nbformat_minor": 2
}
