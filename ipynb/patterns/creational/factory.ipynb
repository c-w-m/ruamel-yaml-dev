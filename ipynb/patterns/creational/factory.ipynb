{
 "cells": [
  {
   "cell_type": "markdown",
   "metadata": {},
   "source": [
    "![](img/factory_method.py.png)\n",
    "\n",
    "---"
   ]
  },
  {
   "cell_type": "code",
   "execution_count": 1,
   "metadata": {},
   "outputs": [
    {
     "name": "stdout",
     "output_type": "stream",
     "text": [
      "dog σκύλος\n",
      "parrot parrot\n",
      "cat γάτα\n",
      "bear bear\n"
     ]
    }
   ],
   "source": [
    "\"\"\"*What is this pattern about?\n",
    "A Factory is an object for creating other objects.\n",
    "\n",
    "*What does this example do?\n",
    "The code shows a way to localize words in two languages: English and\n",
    "Greek. \"get_localizer\" is the factory function that constructs a\n",
    "localizer depending on the language chosen. The localizer object will\n",
    "be an instance from a different class according to the language\n",
    "localized. However, the main code does not have to worry about which\n",
    "localizer will be instantiated, since the method \"localize\" will be called\n",
    "in the same way independently of the language.\n",
    "\n",
    "*Where can the pattern be used practically?\n",
    "The Factory Method can be seen in the popular web framework Django:\n",
    "https://shorturl.at/ctMPZ\n",
    "For example, in a contact form of a web page, the subject and the message\n",
    "fields are created using the same form factory (CharField()), even\n",
    "though they have different implementations according to their\n",
    "purposes.\n",
    "\n",
    "*References:\n",
    "http://ginstrom.com/scribbles/2007/10/08/design-patterns-python-style/\n",
    "\n",
    "*TL;DR\n",
    "Creates objects without having to specify the exact class.\n",
    "\"\"\"\n",
    "\n",
    "\n",
    "class GreekLocalizer:\n",
    "    \"\"\"A simple localizer a la gettext\"\"\"\n",
    "\n",
    "    def __init__(self) -> None:\n",
    "        self.translations = {\"dog\": \"σκύλος\", \"cat\": \"γάτα\"}\n",
    "\n",
    "    def localize(self, msg: str) -> str:\n",
    "        \"\"\"We'll punt if we don't have a translation\"\"\"\n",
    "        return self.translations.get(msg, msg)\n",
    "\n",
    "\n",
    "class EnglishLocalizer:\n",
    "    \"\"\"Simply echoes the message\"\"\"\n",
    "\n",
    "    def localize(self, msg: str) -> str:\n",
    "        return msg\n",
    "\n",
    "\n",
    "def get_localizer(language: str = \"English\") -> object:\n",
    "\n",
    "    \"\"\"Factory\"\"\"\n",
    "    localizers = {\n",
    "        \"English\": EnglishLocalizer,\n",
    "        \"Greek\": GreekLocalizer,\n",
    "    }\n",
    "\n",
    "    return localizers[language]()\n",
    "\n",
    "\n",
    "def main():\n",
    "    # Create our localizers\n",
    "    e, g = get_localizer(language=\"English\"), get_localizer(language=\"Greek\")\n",
    "\n",
    "    # Localize some text\n",
    "    for msg in \"dog parrot cat bear\".split():\n",
    "        print(e.localize(msg), g.localize(msg))\n",
    "    # dog σκύλος\n",
    "    # parrot parrot\n",
    "    # cat γάτα\n",
    "    # bear bear\n",
    "\n",
    "\n",
    "main()\n",
    "\n",
    "# dog σκύλος\n",
    "# parrot parrot\n",
    "# cat γάτα\n",
    "# bear bear"
   ]
  }
 ],
 "metadata": {
  "interpreter": {
   "hash": "949777d72b0d2535278d3dc13498b2535136f6dfe0678499012e853ee9abcab1"
  },
  "kernelspec": {
   "display_name": "Python 3.10.2 64-bit",
   "language": "python",
   "name": "python3"
  },
  "language_info": {
   "codemirror_mode": {
    "name": "ipython",
    "version": 3
   },
   "file_extension": ".py",
   "mimetype": "text/x-python",
   "name": "python",
   "nbconvert_exporter": "python",
   "pygments_lexer": "ipython3",
   "version": "3.10.2"
  },
  "orig_nbformat": 4
 },
 "nbformat": 4,
 "nbformat_minor": 2
}
