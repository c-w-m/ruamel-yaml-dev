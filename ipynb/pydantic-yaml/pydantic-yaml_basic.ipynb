{
 "cells": [
  {
   "cell_type": "markdown",
   "metadata": {},
   "source": [
    "# pydantic-yaml"
   ]
  },
  {
   "cell_type": "code",
   "execution_count": 1,
   "metadata": {},
   "outputs": [],
   "source": [
    "from pydantic import BaseModel, validator\n",
    "from pydantic_yaml import YamlStrEnum, YamlModel\n",
    "\n",
    "\n",
    "class MyEnum(YamlStrEnum):\n",
    "    \"\"\"This is a custom enumeration that is YAML-safe.\"\"\"\n",
    "    \n",
    "    a = \"a\"\n",
    "    b = \"b\"\n",
    "\n",
    "class InnerModel(BaseModel):\n",
    "    \"\"\"This is a normal pydantic model that can be used as an inner class.\"\"\"\n",
    "    \n",
    "    fld: float = 1.0\n",
    "\n",
    "class MyModel(YamlModel):\n",
    "    \"\"\"This is our custom class, with a `.yaml()` method.\n",
    "    \n",
    "    The `parse_raw()` and `parse_file()` methods are also updated to be able to\n",
    "    handle `content_type='application/yaml'`, `protocol=\"yaml\"` and file names\n",
    "    ending with `.yml`/`.yaml`\n",
    "    \"\"\"\n",
    "\n",
    "    x: int = 1\n",
    "    e: MyEnum = MyEnum.a\n",
    "    m: InnerModel = InnerModel()\n",
    "\n",
    "    @validator('x')\n",
    "    def _chk_x(cls, v: int) -> int:  # noqa\n",
    "        \"\"\"You can add your normal pydantic validators, like this one.\"\"\"\n",
    "        assert v > 0\n",
    "        return v\n",
    "\n",
    "m1 = MyModel(x=2, e=\"b\", m=InnerModel(fld=1.5))\n",
    "\n",
    "# This dumps to YAML and JSON respectively\n",
    "yml = m1.yaml()\n",
    "jsn = m1.json()\n",
    "\n",
    "m2 = MyModel.parse_raw(yml)  # This automatically assumes YAML\n",
    "assert m1 == m2\n",
    "\n",
    "m3 = MyModel.parse_raw(jsn)  # This will fallback to JSON\n",
    "assert m1 == m3\n",
    "\n",
    "m4 = MyModel.parse_raw(yml, proto=\"yaml\")\n",
    "assert m1 == m4\n",
    "\n",
    "m5 = MyModel.parse_raw(yml, content_type=\"application/yaml\")\n",
    "assert m1 == m5"
   ]
  },
  {
   "cell_type": "code",
   "execution_count": 2,
   "metadata": {},
   "outputs": [],
   "source": [
    "from typing import List\n",
    "\n",
    "from pydantic import BaseModel\n",
    "from pydantic_yaml import YamlModelMixin\n",
    "\n",
    "\n",
    "class MyBase(BaseModel):\n",
    "    \"\"\"This is a normal.\"\"\"\n",
    "    x: str = \"x\"\n",
    "\n",
    "class ExtModel(YamlModelMixin, MyBase):\n",
    "    \"\"\"This model can be sent to/read from YAML.\"\"\"\n",
    "    y: List[int] = [1, 2, 3]  # and you can define additional fields, if you want"
   ]
  },
  {
   "cell_type": "markdown",
   "metadata": {},
   "source": [
    "```python\n",
    "class MyModel(YamlModel):\n",
    "    # ...\n",
    "    class Config:\n",
    "        # You can override these fields:\n",
    "        yaml_dumps = my_custom_dumper\n",
    "        yaml_loads = lambda x: MyModel()\n",
    "        # As well as other Pydantic configuration:\n",
    "        allow_mutation = False\n",
    "```"
   ]
  },
  {
   "cell_type": "code",
   "execution_count": 4,
   "metadata": {},
   "outputs": [
    {
     "name": "stdout",
     "output_type": "stream",
     "text": [
      "Correctly got ValidationError:\n",
      "1 validation error for B\n",
      "version\n",
      "  Default version lower than minimum: 1.0.0 < 2.0.0 (type=value_error)\n"
     ]
    }
   ],
   "source": [
    "from pydantic import ValidationError\n",
    "from pydantic_yaml import SemVer, VersionedYamlModel\n",
    "\n",
    "class A(VersionedYamlModel):\n",
    "    \"\"\"Model with min, max constraints as None.\"\"\"\n",
    "\n",
    "    foo: str = \"bar\"\n",
    "\n",
    "\n",
    "class B(VersionedYamlModel):\n",
    "    \"\"\"Model with a maximum version set.\"\"\"\n",
    "    \n",
    "    foo: str = \"bar\"\n",
    "\n",
    "    class Config:\n",
    "        min_version = \"2.0.0\"\n",
    "\n",
    "ex_yml = \"\"\"\n",
    "version: 1.0.0\n",
    "foo: baz\n",
    "\"\"\"\n",
    "\n",
    "a = A.parse_raw(ex_yml)\n",
    "assert a.version == SemVer(\"1.0.0\")\n",
    "assert a.foo == \"baz\"\n",
    "\n",
    "try:\n",
    "    B.parse_raw(ex_yml)\n",
    "except ValidationError as e:\n",
    "    print(\"Correctly got ValidationError:\", e, sep=\"\\n\")"
   ]
  }
 ],
 "metadata": {
  "interpreter": {
   "hash": "949777d72b0d2535278d3dc13498b2535136f6dfe0678499012e853ee9abcab1"
  },
  "kernelspec": {
   "display_name": "Python 3.10.4 64-bit",
   "language": "python",
   "name": "python3"
  },
  "language_info": {
   "codemirror_mode": {
    "name": "ipython",
    "version": 3
   },
   "file_extension": ".py",
   "mimetype": "text/x-python",
   "name": "python",
   "nbconvert_exporter": "python",
   "pygments_lexer": "ipython3",
   "version": "3.10.4"
  },
  "orig_nbformat": 4
 },
 "nbformat": 4,
 "nbformat_minor": 2
}
